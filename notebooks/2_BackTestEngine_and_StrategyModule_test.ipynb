{
 "cells": [
  {
   "cell_type": "markdown",
   "id": "c8b9b356-4a35-4524-a7b5-99dc7168cc81",
   "metadata": {},
   "source": [
    "## 0. Load data"
   ]
  },
  {
   "cell_type": "code",
   "execution_count": 1,
   "id": "e2bd2e24-9804-466a-9e52-ea1c26bef47f",
   "metadata": {},
   "outputs": [
    {
     "name": "stdout",
     "output_type": "stream",
     "text": [
      "bitcoin_4h_data.csv eth_daily_data.csv\n"
     ]
    }
   ],
   "source": [
    "!ls ../data"
   ]
  },
  {
   "cell_type": "code",
   "execution_count": 24,
   "id": "5314bc1a-c8b9-410f-a76e-c800a0cd48af",
   "metadata": {},
   "outputs": [
    {
     "data": {
      "text/html": [
       "<div>\n",
       "<style scoped>\n",
       "    .dataframe tbody tr th:only-of-type {\n",
       "        vertical-align: middle;\n",
       "    }\n",
       "\n",
       "    .dataframe tbody tr th {\n",
       "        vertical-align: top;\n",
       "    }\n",
       "\n",
       "    .dataframe thead th {\n",
       "        text-align: right;\n",
       "    }\n",
       "</style>\n",
       "<table border=\"1\" class=\"dataframe\">\n",
       "  <thead>\n",
       "    <tr style=\"text-align: right;\">\n",
       "      <th></th>\n",
       "      <th>Date</th>\n",
       "      <th>Timestamp</th>\n",
       "      <th>Price</th>\n",
       "    </tr>\n",
       "  </thead>\n",
       "  <tbody>\n",
       "    <tr>\n",
       "      <th>0</th>\n",
       "      <td>2023-11-01 00:00:00</td>\n",
       "      <td>1698796808027</td>\n",
       "      <td>34672.289284</td>\n",
       "    </tr>\n",
       "    <tr>\n",
       "      <th>1</th>\n",
       "      <td>2023-11-01 04:00:00</td>\n",
       "      <td>1698811212766</td>\n",
       "      <td>34451.560561</td>\n",
       "    </tr>\n",
       "    <tr>\n",
       "      <th>2</th>\n",
       "      <td>2023-11-01 08:00:00</td>\n",
       "      <td>1698825600129</td>\n",
       "      <td>34491.825779</td>\n",
       "    </tr>\n",
       "    <tr>\n",
       "      <th>3</th>\n",
       "      <td>2023-11-01 12:00:00</td>\n",
       "      <td>1698840021523</td>\n",
       "      <td>34410.274863</td>\n",
       "    </tr>\n",
       "    <tr>\n",
       "      <th>4</th>\n",
       "      <td>2023-11-01 16:00:00</td>\n",
       "      <td>1698854409327</td>\n",
       "      <td>34254.653925</td>\n",
       "    </tr>\n",
       "  </tbody>\n",
       "</table>\n",
       "</div>"
      ],
      "text/plain": [
       "                  Date      Timestamp         Price\n",
       "0  2023-11-01 00:00:00  1698796808027  34672.289284\n",
       "1  2023-11-01 04:00:00  1698811212766  34451.560561\n",
       "2  2023-11-01 08:00:00  1698825600129  34491.825779\n",
       "3  2023-11-01 12:00:00  1698840021523  34410.274863\n",
       "4  2023-11-01 16:00:00  1698854409327  34254.653925"
      ]
     },
     "execution_count": 24,
     "metadata": {},
     "output_type": "execute_result"
    }
   ],
   "source": [
    "import pandas as pd\n",
    "\n",
    "df = pd.read_csv(\"../data/bitcoin_4h_data.csv\")\n",
    "df.head()"
   ]
  },
  {
   "cell_type": "code",
   "execution_count": 25,
   "id": "fe3c4317-3560-4cb6-a35b-07a9f5a675f9",
   "metadata": {},
   "outputs": [
    {
     "data": {
      "text/html": [
       "<div>\n",
       "<style scoped>\n",
       "    .dataframe tbody tr th:only-of-type {\n",
       "        vertical-align: middle;\n",
       "    }\n",
       "\n",
       "    .dataframe tbody tr th {\n",
       "        vertical-align: top;\n",
       "    }\n",
       "\n",
       "    .dataframe thead th {\n",
       "        text-align: right;\n",
       "    }\n",
       "</style>\n",
       "<table border=\"1\" class=\"dataframe\">\n",
       "  <thead>\n",
       "    <tr style=\"text-align: right;\">\n",
       "      <th></th>\n",
       "      <th>Date</th>\n",
       "      <th>Timestamp</th>\n",
       "      <th>Price</th>\n",
       "    </tr>\n",
       "  </thead>\n",
       "  <tbody>\n",
       "    <tr>\n",
       "      <th>0</th>\n",
       "      <td>2023-11-01 00:00:00</td>\n",
       "      <td>1698796808027</td>\n",
       "      <td>34672.289284</td>\n",
       "    </tr>\n",
       "    <tr>\n",
       "      <th>1</th>\n",
       "      <td>2023-11-01 04:00:00</td>\n",
       "      <td>1698811212766</td>\n",
       "      <td>34451.560561</td>\n",
       "    </tr>\n",
       "    <tr>\n",
       "      <th>2</th>\n",
       "      <td>2023-11-01 08:00:00</td>\n",
       "      <td>1698825600129</td>\n",
       "      <td>34491.825779</td>\n",
       "    </tr>\n",
       "    <tr>\n",
       "      <th>3</th>\n",
       "      <td>2023-11-01 12:00:00</td>\n",
       "      <td>1698840021523</td>\n",
       "      <td>34410.274863</td>\n",
       "    </tr>\n",
       "    <tr>\n",
       "      <th>4</th>\n",
       "      <td>2023-11-01 16:00:00</td>\n",
       "      <td>1698854409327</td>\n",
       "      <td>34254.653925</td>\n",
       "    </tr>\n",
       "  </tbody>\n",
       "</table>\n",
       "</div>"
      ],
      "text/plain": [
       "                 Date      Timestamp         Price\n",
       "0 2023-11-01 00:00:00  1698796808027  34672.289284\n",
       "1 2023-11-01 04:00:00  1698811212766  34451.560561\n",
       "2 2023-11-01 08:00:00  1698825600129  34491.825779\n",
       "3 2023-11-01 12:00:00  1698840021523  34410.274863\n",
       "4 2023-11-01 16:00:00  1698854409327  34254.653925"
      ]
     },
     "execution_count": 25,
     "metadata": {},
     "output_type": "execute_result"
    }
   ],
   "source": [
    "df[\"Date\"] = pd.to_datetime(df[\"Date\"])\n",
    "df.head()"
   ]
  },
  {
   "cell_type": "code",
   "execution_count": 26,
   "id": "9460a4e7-2888-476d-b8cc-ee58e52f5d0d",
   "metadata": {},
   "outputs": [
    {
     "data": {
      "text/html": [
       "<div>\n",
       "<style scoped>\n",
       "    .dataframe tbody tr th:only-of-type {\n",
       "        vertical-align: middle;\n",
       "    }\n",
       "\n",
       "    .dataframe tbody tr th {\n",
       "        vertical-align: top;\n",
       "    }\n",
       "\n",
       "    .dataframe thead th {\n",
       "        text-align: right;\n",
       "    }\n",
       "</style>\n",
       "<table border=\"1\" class=\"dataframe\">\n",
       "  <thead>\n",
       "    <tr style=\"text-align: right;\">\n",
       "      <th></th>\n",
       "      <th>Timestamp</th>\n",
       "      <th>Price</th>\n",
       "    </tr>\n",
       "    <tr>\n",
       "      <th>Date</th>\n",
       "      <th></th>\n",
       "      <th></th>\n",
       "    </tr>\n",
       "  </thead>\n",
       "  <tbody>\n",
       "    <tr>\n",
       "      <th>2023-11-01 00:00:00</th>\n",
       "      <td>1698796808027</td>\n",
       "      <td>34672.289284</td>\n",
       "    </tr>\n",
       "    <tr>\n",
       "      <th>2023-11-01 04:00:00</th>\n",
       "      <td>1698811212766</td>\n",
       "      <td>34451.560561</td>\n",
       "    </tr>\n",
       "    <tr>\n",
       "      <th>2023-11-01 08:00:00</th>\n",
       "      <td>1698825600129</td>\n",
       "      <td>34491.825779</td>\n",
       "    </tr>\n",
       "    <tr>\n",
       "      <th>2023-11-01 12:00:00</th>\n",
       "      <td>1698840021523</td>\n",
       "      <td>34410.274863</td>\n",
       "    </tr>\n",
       "    <tr>\n",
       "      <th>2023-11-01 16:00:00</th>\n",
       "      <td>1698854409327</td>\n",
       "      <td>34254.653925</td>\n",
       "    </tr>\n",
       "  </tbody>\n",
       "</table>\n",
       "</div>"
      ],
      "text/plain": [
       "                         Timestamp         Price\n",
       "Date                                            \n",
       "2023-11-01 00:00:00  1698796808027  34672.289284\n",
       "2023-11-01 04:00:00  1698811212766  34451.560561\n",
       "2023-11-01 08:00:00  1698825600129  34491.825779\n",
       "2023-11-01 12:00:00  1698840021523  34410.274863\n",
       "2023-11-01 16:00:00  1698854409327  34254.653925"
      ]
     },
     "execution_count": 26,
     "metadata": {},
     "output_type": "execute_result"
    }
   ],
   "source": [
    "df.set_index(\"Date\", inplace = True)\n",
    "df.head()"
   ]
  },
  {
   "cell_type": "code",
   "execution_count": 27,
   "id": "80f3fdab-d9af-4f23-848b-a709b90213b6",
   "metadata": {},
   "outputs": [
    {
     "data": {
      "text/html": [
       "<div>\n",
       "<style scoped>\n",
       "    .dataframe tbody tr th:only-of-type {\n",
       "        vertical-align: middle;\n",
       "    }\n",
       "\n",
       "    .dataframe tbody tr th {\n",
       "        vertical-align: top;\n",
       "    }\n",
       "\n",
       "    .dataframe thead th {\n",
       "        text-align: right;\n",
       "    }\n",
       "</style>\n",
       "<table border=\"1\" class=\"dataframe\">\n",
       "  <thead>\n",
       "    <tr style=\"text-align: right;\">\n",
       "      <th></th>\n",
       "      <th>Timestamp</th>\n",
       "      <th>Close</th>\n",
       "    </tr>\n",
       "    <tr>\n",
       "      <th>Date</th>\n",
       "      <th></th>\n",
       "      <th></th>\n",
       "    </tr>\n",
       "  </thead>\n",
       "  <tbody>\n",
       "    <tr>\n",
       "      <th>2023-11-01 00:00:00</th>\n",
       "      <td>1698796808027</td>\n",
       "      <td>34672.289284</td>\n",
       "    </tr>\n",
       "    <tr>\n",
       "      <th>2023-11-01 04:00:00</th>\n",
       "      <td>1698811212766</td>\n",
       "      <td>34451.560561</td>\n",
       "    </tr>\n",
       "    <tr>\n",
       "      <th>2023-11-01 08:00:00</th>\n",
       "      <td>1698825600129</td>\n",
       "      <td>34491.825779</td>\n",
       "    </tr>\n",
       "    <tr>\n",
       "      <th>2023-11-01 12:00:00</th>\n",
       "      <td>1698840021523</td>\n",
       "      <td>34410.274863</td>\n",
       "    </tr>\n",
       "    <tr>\n",
       "      <th>2023-11-01 16:00:00</th>\n",
       "      <td>1698854409327</td>\n",
       "      <td>34254.653925</td>\n",
       "    </tr>\n",
       "  </tbody>\n",
       "</table>\n",
       "</div>"
      ],
      "text/plain": [
       "                         Timestamp         Close\n",
       "Date                                            \n",
       "2023-11-01 00:00:00  1698796808027  34672.289284\n",
       "2023-11-01 04:00:00  1698811212766  34451.560561\n",
       "2023-11-01 08:00:00  1698825600129  34491.825779\n",
       "2023-11-01 12:00:00  1698840021523  34410.274863\n",
       "2023-11-01 16:00:00  1698854409327  34254.653925"
      ]
     },
     "execution_count": 27,
     "metadata": {},
     "output_type": "execute_result"
    }
   ],
   "source": [
    "df.rename(columns = {\"Price\" : \"Close\"}, inplace = True)\n",
    "df.head()"
   ]
  },
  {
   "cell_type": "code",
   "execution_count": 28,
   "id": "33941fde-b438-468b-b91c-2fb26226d5d4",
   "metadata": {},
   "outputs": [
    {
     "data": {
      "text/html": [
       "<div>\n",
       "<style scoped>\n",
       "    .dataframe tbody tr th:only-of-type {\n",
       "        vertical-align: middle;\n",
       "    }\n",
       "\n",
       "    .dataframe tbody tr th {\n",
       "        vertical-align: top;\n",
       "    }\n",
       "\n",
       "    .dataframe thead th {\n",
       "        text-align: right;\n",
       "    }\n",
       "</style>\n",
       "<table border=\"1\" class=\"dataframe\">\n",
       "  <thead>\n",
       "    <tr style=\"text-align: right;\">\n",
       "      <th></th>\n",
       "      <th>Close</th>\n",
       "    </tr>\n",
       "    <tr>\n",
       "      <th>Date</th>\n",
       "      <th></th>\n",
       "    </tr>\n",
       "  </thead>\n",
       "  <tbody>\n",
       "    <tr>\n",
       "      <th>2023-11-01 00:00:00</th>\n",
       "      <td>34672.289284</td>\n",
       "    </tr>\n",
       "    <tr>\n",
       "      <th>2023-11-01 04:00:00</th>\n",
       "      <td>34451.560561</td>\n",
       "    </tr>\n",
       "    <tr>\n",
       "      <th>2023-11-01 08:00:00</th>\n",
       "      <td>34491.825779</td>\n",
       "    </tr>\n",
       "    <tr>\n",
       "      <th>2023-11-01 12:00:00</th>\n",
       "      <td>34410.274863</td>\n",
       "    </tr>\n",
       "    <tr>\n",
       "      <th>2023-11-01 16:00:00</th>\n",
       "      <td>34254.653925</td>\n",
       "    </tr>\n",
       "  </tbody>\n",
       "</table>\n",
       "</div>"
      ],
      "text/plain": [
       "                            Close\n",
       "Date                             \n",
       "2023-11-01 00:00:00  34672.289284\n",
       "2023-11-01 04:00:00  34451.560561\n",
       "2023-11-01 08:00:00  34491.825779\n",
       "2023-11-01 12:00:00  34410.274863\n",
       "2023-11-01 16:00:00  34254.653925"
      ]
     },
     "execution_count": 28,
     "metadata": {},
     "output_type": "execute_result"
    }
   ],
   "source": [
    "data = df[[\"Close\"]]\n",
    "data.head()"
   ]
  },
  {
   "cell_type": "code",
   "execution_count": 50,
   "id": "f5c9f392-41d9-4daf-ad9a-789fba7d82ff",
   "metadata": {},
   "outputs": [
    {
     "data": {
      "text/plain": [
       "2010"
      ]
     },
     "execution_count": 50,
     "metadata": {},
     "output_type": "execute_result"
    }
   ],
   "source": [
    "len(data)"
   ]
  },
  {
   "cell_type": "markdown",
   "id": "06f26391-b3d2-48ab-a6f8-a00a75020beb",
   "metadata": {},
   "source": [
    "## 1. Backtest Engine\n",
    "\n",
    "1. **Load data** \n",
    "2. **Apply strategies and Execute orders**\n",
    "3. **Record results**"
   ]
  },
  {
   "cell_type": "markdown",
   "id": "46aefafb-117a-45a6-ae32-8f223e549977",
   "metadata": {},
   "source": [
    "### Key Methods:\n",
    "\n",
    "1. `__init__()`:\n",
    "    - **take in the testing data**\n",
    "    - **take in a strategy object**\n",
    "    - **initialize capital balance**\n",
    "2. `run()`:\n",
    "    - **apply strategy to generate signals**\n",
    "    - **execute buy/sell trades** \n",
    "3. `get_results()`:\n",
    "    - **analyze strategy's performance**"
   ]
  },
  {
   "cell_type": "markdown",
   "id": "aac8f388-cc05-44b1-97f2-960d4dab60fc",
   "metadata": {},
   "source": [
    "### 1.1 Backtest Engine Object (`backtest_engine.py`)"
   ]
  },
  {
   "cell_type": "code",
   "execution_count": null,
   "id": "92f73c9c-04f4-450f-96a9-9a50c477c8a4",
   "metadata": {},
   "outputs": [],
   "source": [
    "\n",
    "class BacktestEngine:\n",
    "\n",
    "    def __init__(self, data, strategy, initial_cash = 1000):\n",
    "        \"\"\"\n",
    "        Initialize the backtest engine\n",
    "        \n",
    "        @param data: dataframe has columns of \"Date\" and \"Close\", generated by csv_loader\n",
    "        @param strategy: strategy object (e.g. RSIStrategy object)\n",
    "        @param initial_cash: default 1000\n",
    "        \"\"\"\n",
    "        \n",
    "        self.data = data\n",
    "        self.strategy = strategy\n",
    "        self.initial_cash = initial_cash\n",
    "        \n",
    "        self.cash_stack = [initial_cash * 0.2] * 5\n",
    "        self.position_stack = []\n",
    "        self.portfolio_value_list = [] #Track portfolio value over time\n",
    "\n",
    "    \n",
    "    def run(self):\n",
    "        \"\"\"\n",
    "        Generate trading signals and Execute trades based on signals\n",
    "        Protfolio value will be recorded over time\n",
    "        \"\"\"\n",
    "\n",
    "        #Generate trading signals for each row of price\n",
    "        signal_list = self.strategy.generate_signal(self.data)\n",
    "\n",
    "        for i in range(len(self.data)):\n",
    "            signal = signal_list[i]\n",
    "            price = self.data[\"Close\"].iloc[i]\n",
    "\n",
    "            if signal == 1 and len(self.cash_stack) > 0:  # buy signal\n",
    "                cash = self.cash_stack.pop()\n",
    "                shares_to_buy = cash / price\n",
    "                \n",
    "                self.position_stack.append(shares_to_buy)\n",
    "\n",
    "            elif signal == -1 and len(self.position_stack) > 0:   #sell signal\n",
    "                shares_to_sell = self.position_stack.pop()\n",
    "                cash = price * shares_to_sell\n",
    "\n",
    "                self.cash_stack.append(cash)\n",
    "\n",
    "            # calculate current portfolio value\n",
    "            current_portfolio_value = sum(self.cash_stack) + sum(self.position_stack) * price\n",
    "            self.portfolio_value_list.append(current_portfolio_value)\n",
    "\n",
    "    def get_results(self):\n",
    "        \"\"\"\n",
    "        retrieve the portfolio values over the backtesting period\n",
    "        \n",
    "        @return: A list of portfolio values at each time step\n",
    "        \"\"\"\n",
    "        return self.portfolio_value_list\n",
    "\n",
    "\n",
    "    def calculate_performance(self):\n",
    "        \"\"\"\n",
    "        calculate the total return\n",
    "\n",
    "        @return: a dictionary that contains total return information\n",
    "        \"\"\"\n",
    "        final_value = self.portfolio_value_list[-1]\n",
    "\n",
    "        total_return = (final_value - self.initial_cash) / self.initial_cash\n",
    "\n",
    "        return {\"Total Return\": total_return}\n",
    "        "
   ]
  },
  {
   "cell_type": "code",
   "execution_count": 9,
   "id": "4739a186-f1c0-4070-b009-a1514ea7b243",
   "metadata": {},
   "outputs": [
    {
     "data": {
      "text/plain": [
       "224.60000000000002"
      ]
     },
     "execution_count": 9,
     "metadata": {},
     "output_type": "execute_result"
    }
   ],
   "source": [
    "1123*0.2"
   ]
  },
  {
   "cell_type": "markdown",
   "id": "5ee3f268-b6f6-4e24-975d-00f98027a2c2",
   "metadata": {},
   "source": [
    "## 2. Strategy Module\n",
    "\n",
    "1. `__init__()`:\n",
    "   - **load the trained machine learning model**\n",
    "   - **initilize the strategy parameters (such as RSI overbought threshold, moving average periods etc)**\n",
    "2. `generate_signal()`:\n",
    "   - **take in the historical data**\n",
    "   - **return buy/sell signal based on input data**\n",
    "4. other helper methods:\n",
    "   - **helper methods such as calculating RSI, MACD etc, internal to the strategy and not directly called by backtest engine**"
   ]
  },
  {
   "cell_type": "markdown",
   "id": "b04d7de5-23a4-4024-9712-efa9c25d2e8a",
   "metadata": {},
   "source": [
    "### 2.1 RSI Strategy Module"
   ]
  },
  {
   "cell_type": "code",
   "execution_count": 44,
   "id": "83bb774e-892c-435c-a696-8ad7168c72ff",
   "metadata": {},
   "outputs": [],
   "source": [
    "import talib\n",
    "import numpy as np"
   ]
  },
  {
   "cell_type": "code",
   "execution_count": 17,
   "id": "23f5ad6a-e940-4dbb-95c1-76a2e125c6f1",
   "metadata": {},
   "outputs": [
    {
     "data": {
      "text/html": [
       "<div>\n",
       "<style scoped>\n",
       "    .dataframe tbody tr th:only-of-type {\n",
       "        vertical-align: middle;\n",
       "    }\n",
       "\n",
       "    .dataframe tbody tr th {\n",
       "        vertical-align: top;\n",
       "    }\n",
       "\n",
       "    .dataframe thead th {\n",
       "        text-align: right;\n",
       "    }\n",
       "</style>\n",
       "<table border=\"1\" class=\"dataframe\">\n",
       "  <thead>\n",
       "    <tr style=\"text-align: right;\">\n",
       "      <th></th>\n",
       "      <th>Close</th>\n",
       "    </tr>\n",
       "    <tr>\n",
       "      <th>Date</th>\n",
       "      <th></th>\n",
       "    </tr>\n",
       "  </thead>\n",
       "  <tbody>\n",
       "    <tr>\n",
       "      <th>2023-11-01 00:00:00</th>\n",
       "      <td>34672.289284</td>\n",
       "    </tr>\n",
       "    <tr>\n",
       "      <th>2023-11-01 04:00:00</th>\n",
       "      <td>34451.560561</td>\n",
       "    </tr>\n",
       "    <tr>\n",
       "      <th>2023-11-01 08:00:00</th>\n",
       "      <td>34491.825779</td>\n",
       "    </tr>\n",
       "    <tr>\n",
       "      <th>2023-11-01 12:00:00</th>\n",
       "      <td>34410.274863</td>\n",
       "    </tr>\n",
       "    <tr>\n",
       "      <th>2023-11-01 16:00:00</th>\n",
       "      <td>34254.653925</td>\n",
       "    </tr>\n",
       "  </tbody>\n",
       "</table>\n",
       "</div>"
      ],
      "text/plain": [
       "                            Close\n",
       "Date                             \n",
       "2023-11-01 00:00:00  34672.289284\n",
       "2023-11-01 04:00:00  34451.560561\n",
       "2023-11-01 08:00:00  34491.825779\n",
       "2023-11-01 12:00:00  34410.274863\n",
       "2023-11-01 16:00:00  34254.653925"
      ]
     },
     "execution_count": 17,
     "metadata": {},
     "output_type": "execute_result"
    }
   ],
   "source": [
    "data.head()"
   ]
  },
  {
   "cell_type": "code",
   "execution_count": 30,
   "id": "83073e45-8c08-4657-9704-7dc69a1e6738",
   "metadata": {},
   "outputs": [
    {
     "data": {
      "text/plain": [
       "pandas.core.series.Series"
      ]
     },
     "execution_count": 30,
     "metadata": {},
     "output_type": "execute_result"
    }
   ],
   "source": [
    "rsi_series = talib.RSI(data[\"Close\"], timeperiod = 14)   #data[\"Close\"] is a pandas series\n",
    "type(rsi_series)"
   ]
  },
  {
   "cell_type": "code",
   "execution_count": 31,
   "id": "cc54342f-a5ba-4368-a7dc-7c552ba443c0",
   "metadata": {},
   "outputs": [
    {
     "data": {
      "text/plain": [
       "numpy.ndarray"
      ]
     },
     "execution_count": 31,
     "metadata": {},
     "output_type": "execute_result"
    }
   ],
   "source": [
    "rsi_array = talib.RSI(data[\"Close\"].values, timeperiod = 14)    # data[\"Close\"].values is a numpy array\n",
    "type(rsi_array)"
   ]
  },
  {
   "cell_type": "code",
   "execution_count": 34,
   "id": "2704afcd-99aa-4f9c-a58d-a3dc17056c12",
   "metadata": {},
   "outputs": [
    {
     "data": {
      "text/plain": [
       "array([        nan,         nan,         nan, ..., 36.53462011,\n",
       "       34.30265935, 33.67864444])"
      ]
     },
     "execution_count": 34,
     "metadata": {},
     "output_type": "execute_result"
    }
   ],
   "source": [
    "rsi_array"
   ]
  },
  {
   "cell_type": "code",
   "execution_count": 47,
   "id": "e1076130-89d4-4f46-8309-c23be209e73a",
   "metadata": {},
   "outputs": [
    {
     "data": {
      "text/plain": [
       "(False, False)"
      ]
     },
     "execution_count": 47,
     "metadata": {},
     "output_type": "execute_result"
    }
   ],
   "source": [
    "np.nan > 100, np.nan<30"
   ]
  },
  {
   "cell_type": "code",
   "execution_count": 49,
   "id": "0775d505-81fd-4b52-a7ab-85a02feab995",
   "metadata": {},
   "outputs": [
    {
     "data": {
      "text/plain": [
       "True"
      ]
     },
     "execution_count": 49,
     "metadata": {},
     "output_type": "execute_result"
    }
   ],
   "source": [
    "pd.isna(rsi_array[0])"
   ]
  },
  {
   "cell_type": "code",
   "execution_count": 15,
   "id": "b513dfaa-bcea-42d3-90c3-ff0158ca604d",
   "metadata": {},
   "outputs": [],
   "source": [
    "import talib\n",
    "import numpy as np\n",
    "\n",
    "class RSIStrategy:\n",
    "\n",
    "    def __init__(self, overbought_threshold = 70, oversold_threshold = 30, timeperiod = 14):\n",
    "        \"\"\"\n",
    "        Initialize the RSI strategy object\n",
    "        \n",
    "        @param overbought_threshold: default value 70, sell if RSI above it\n",
    "        @param oversold_threshold: default value 30, buy if RSI below it\n",
    "        @param timeperiod: default value 14, the period to calculate RSI\n",
    "        \"\"\"\n",
    "\n",
    "        self.overbought_threshold = overbought_threshold\n",
    "        self.oversold_threshold = oversold_threshold\n",
    "        self.timeperiod = timeperiod\n",
    "\n",
    "    def generate_signal(self, data):\n",
    "        \"\"\"\n",
    "        Generate a list of trading signals based on RSI values\n",
    "        \n",
    "        @param data: a data frame with columns of \"Date\" and \"Close\", it is generated by csv_loader\n",
    "        \n",
    "        @return: a list (signal_list) that contains trading signals: 1 for buy, -1 for sell, and 0 for hold\n",
    "        \"\"\"\n",
    "        signal_list = []\n",
    "\n",
    "        rsi_array = talib.RSI(data[\"Close\"].values, timeperiod = self.timeperiod)\n",
    "\n",
    "        \n",
    "        for rsi in rsi_array:\n",
    "            \n",
    "            if rsi < self.oversold_threshold:  # buy signal\n",
    "                signal_list.append(1)\n",
    "                \n",
    "            elif rsi > self.overbought_threshold:  # sell signal\n",
    "                signal_list.append(-1)\n",
    "\n",
    "            else:\n",
    "                singal_list.append(0)   # hold your position\n",
    "            \n",
    "        \n",
    "        return signal_list"
   ]
  },
  {
   "cell_type": "markdown",
   "id": "f11b1163-40a5-406d-9e64-9757abd7a1f9",
   "metadata": {},
   "source": [
    "## 3. main.py\n",
    "\n",
    "1. **Load csv data**\n",
    "2. **Initialize strategy object**\n",
    "3. **Initialize backtest engine object by taking in data and strategy**\n",
    "4. **Run backtest engine**\n",
    "5. **Get backtest results**"
   ]
  },
  {
   "cell_type": "code",
   "execution_count": null,
   "id": "fab5f7e2-f873-4b7d-90f8-865e96cd0854",
   "metadata": {},
   "outputs": [],
   "source": [
    "\n",
    "\n",
    "if __name__ == \"__main__\":\n",
    "\n",
    "    # load csv data from data/bitcoin_4h_data.csv\n",
    "    # use the csv_loader.py in data_loader directory to covert the csv data to a df with columns \"Date\" and \"Close\"\n",
    "    from data_loader.csv_loader import load_csv_data\n",
    "    data = load_csv_data(\"data/bitcoin_4h_data.csv\", source = \"coingecko\")\n",
    "\n",
    "\n",
    "    # Initialize RSI strategy object\n",
    "    from strategies.rsi_strategy import RSIStrategy\n",
    "    strategy = RSIStrategy()\n",
    "\n",
    "\n",
    "    # Initialize backtest engine\n",
    "    from core.backtest_engine import BacktestEngine\n",
    "    backtest_engine = BacktestEngine(data, strategy, initial_balance = 1000)\n",
    "\n",
    "\n",
    "    # Run backtest engine\n",
    "    backtest_engine.run()\n",
    "\n",
    "\n",
    "    #calculate and print the performance\n",
    "    performance = backtest_engine.calculate_performance()\n",
    "    print(performance)\n",
    "\n"
   ]
  },
  {
   "cell_type": "code",
   "execution_count": 3,
   "id": "634e1254-7cd9-4ce6-8ae3-bc80c9cf608e",
   "metadata": {},
   "outputs": [
    {
     "name": "stdout",
     "output_type": "stream",
     "text": [
      "LICENSE     \u001b[34mconfig\u001b[m\u001b[m      \u001b[34mdata\u001b[m\u001b[m        \u001b[34mnotebooks\u001b[m\u001b[m   \u001b[34mtests\u001b[m\u001b[m\n",
      "README.md   \u001b[34mcore\u001b[m\u001b[m        \u001b[34mdata_loader\u001b[m\u001b[m \u001b[34mstrategies\u001b[m\u001b[m\n"
     ]
    }
   ],
   "source": [
    "!ls .."
   ]
  },
  {
   "cell_type": "code",
   "execution_count": 4,
   "id": "76805de8-4203-496f-bec8-baba73251de7",
   "metadata": {},
   "outputs": [
    {
     "name": "stdout",
     "output_type": "stream",
     "text": [
      "csv_loader.py               data_generator_yf.py\n",
      "data_generator_coingecko.py\n"
     ]
    }
   ],
   "source": [
    "!ls ../data_loader"
   ]
  },
  {
   "cell_type": "code",
   "execution_count": 2,
   "id": "7657dd97-e63b-4794-80e6-3a94fb31eef2",
   "metadata": {},
   "outputs": [
    {
     "name": "stdout",
     "output_type": "stream",
     "text": [
      "RSIStrategy.py  rsi_strategy.py\n"
     ]
    }
   ],
   "source": [
    "!ls ../strategies"
   ]
  },
  {
   "cell_type": "code",
   "execution_count": 1,
   "id": "1f9c62f3-815a-4142-95f4-486a2a4c77a5",
   "metadata": {},
   "outputs": [
    {
     "name": "stdout",
     "output_type": "stream",
     "text": [
      "backtest_engine.py\n"
     ]
    }
   ],
   "source": [
    "!ls ../core"
   ]
  },
  {
   "cell_type": "code",
   "execution_count": null,
   "id": "941ecebf-274f-4f33-a2a9-e3fb1e2fbabe",
   "metadata": {},
   "outputs": [],
   "source": []
  }
 ],
 "metadata": {
  "kernelspec": {
   "display_name": "Python 3 (ipykernel)",
   "language": "python",
   "name": "python3"
  },
  "language_info": {
   "codemirror_mode": {
    "name": "ipython",
    "version": 3
   },
   "file_extension": ".py",
   "mimetype": "text/x-python",
   "name": "python",
   "nbconvert_exporter": "python",
   "pygments_lexer": "ipython3",
   "version": "3.11.10"
  }
 },
 "nbformat": 4,
 "nbformat_minor": 5
}
