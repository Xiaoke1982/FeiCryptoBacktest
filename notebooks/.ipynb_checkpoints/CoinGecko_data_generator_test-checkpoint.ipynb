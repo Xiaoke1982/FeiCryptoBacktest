{
 "cells": [
  {
   "cell_type": "code",
   "execution_count": 1,
   "id": "64edae18-5675-4379-b076-c6c0d1b88e3d",
   "metadata": {},
   "outputs": [],
   "source": [
    "from pycoingecko import CoinGeckoAPI\n",
    "import pandas as pd\n",
    "import time"
   ]
  },
  {
   "cell_type": "code",
   "execution_count": 2,
   "id": "00344683-874f-4c4d-9e18-9953a7d6078c",
   "metadata": {},
   "outputs": [],
   "source": [
    "cg = CoinGeckoAPI()"
   ]
  },
  {
   "cell_type": "markdown",
   "id": "0b21aa3b-55f6-49f6-84dc-89733b3280f9",
   "metadata": {},
   "source": [
    "## 1. `cg.get_coin_market_chart_by_id()` API\n",
    "\n",
    "\n",
    "- **:param `id`:**          default is Bitcoin \"bitcoin\"\n",
    "- **:param `vs_currency`:** default is USD \"usd\"\n",
    "- **:param `days`:**        the range of days to retireve data for \"1\", \"30\", \"max\", etc.\n",
    "- **:param `interval`:**    the data interval \"minutely\", \"hourly\", \"daily\""
   ]
  },
  {
   "cell_type": "code",
   "execution_count": 63,
   "id": "b5666aa7-9714-4bc3-ad97-9339d4ec5888",
   "metadata": {},
   "outputs": [],
   "source": [
    "data = cg.get_coin_market_chart_by_id(id = \"bitcoin\",\n",
    "                                      vs_currency = \"usd\",\n",
    "                                      days = \"5\",\n",
    "                                      interval = \"daily\")\n",
    "\n",
    "###\n",
    "# :param id:          default is Bitcoin \"bitcoin\"\n",
    "# :param vs_currency: default is USD \"usd\"\n",
    "# :param days:        the range of days to retireve data for \"1\", \"30\", \"max\", etc.\n",
    "# :param interval:    the data interval \"minutely\", \"hourly\", \"daily\"\n",
    "###"
   ]
  },
  {
   "cell_type": "code",
   "execution_count": 64,
   "id": "d1fffc30-1c19-4097-bd86-2e6e38cfd138",
   "metadata": {},
   "outputs": [
    {
     "data": {
      "text/plain": [
       "dict"
      ]
     },
     "execution_count": 64,
     "metadata": {},
     "output_type": "execute_result"
    }
   ],
   "source": [
    "type(data)"
   ]
  },
  {
   "cell_type": "code",
   "execution_count": 65,
   "id": "c6d18ee2-3cc8-4bb5-be79-21b3db001861",
   "metadata": {},
   "outputs": [
    {
     "data": {
      "text/plain": [
       "{'prices': [[1729468800000, 68962.82918045693],\n",
       "  [1729555200000, 67394.85775735618],\n",
       "  [1729641600000, 67351.04793512498],\n",
       "  [1729728000000, 66683.96806542306],\n",
       "  [1729814400000, 68214.05205157402],\n",
       "  [1729874784000, 67749.91021477139]],\n",
       " 'market_caps': [[1729468800000, 1362381684459.9053],\n",
       "  [1729555200000, 1332326858574.4448],\n",
       "  [1729641600000, 1331426858508.4004],\n",
       "  [1729728000000, 1318285437546.2786],\n",
       "  [1729814400000, 1347888109010.5889],\n",
       "  [1729874784000, 1337327368146.5579]],\n",
       " 'total_volumes': [[1729468800000, 17253863432.786995],\n",
       "  [1729555200000, 40485496091.95008],\n",
       "  [1729641600000, 31398389967.38113],\n",
       "  [1729728000000, 32676918488.059],\n",
       "  [1729814400000, 35892606570.03549],\n",
       "  [1729874784000, 36796488933.79797]]}"
      ]
     },
     "execution_count": 65,
     "metadata": {},
     "output_type": "execute_result"
    }
   ],
   "source": [
    "#data: a dictionary with 3 keys: prices, market_caps and total_volumes\n",
    "\n",
    "#each key associates with a list, in which each element is also a list of two elements: timestamp and value of the key\n",
    "\n",
    "data"
   ]
  },
  {
   "cell_type": "code",
   "execution_count": 66,
   "id": "0856e5b1-2159-4d43-944b-9de33a4fe143",
   "metadata": {},
   "outputs": [
    {
     "data": {
      "text/plain": [
       "[[1729468800000, 68962.82918045693],\n",
       " [1729555200000, 67394.85775735618],\n",
       " [1729641600000, 67351.04793512498],\n",
       " [1729728000000, 66683.96806542306],\n",
       " [1729814400000, 68214.05205157402],\n",
       " [1729874784000, 67749.91021477139]]"
      ]
     },
     "execution_count": 66,
     "metadata": {},
     "output_type": "execute_result"
    }
   ],
   "source": [
    "data[\"prices\"]"
   ]
  },
  {
   "cell_type": "code",
   "execution_count": 67,
   "id": "c8a70d8c-737e-435e-9604-3e58b3741397",
   "metadata": {},
   "outputs": [
    {
     "data": {
      "text/html": [
       "<div>\n",
       "<style scoped>\n",
       "    .dataframe tbody tr th:only-of-type {\n",
       "        vertical-align: middle;\n",
       "    }\n",
       "\n",
       "    .dataframe tbody tr th {\n",
       "        vertical-align: top;\n",
       "    }\n",
       "\n",
       "    .dataframe thead th {\n",
       "        text-align: right;\n",
       "    }\n",
       "</style>\n",
       "<table border=\"1\" class=\"dataframe\">\n",
       "  <thead>\n",
       "    <tr style=\"text-align: right;\">\n",
       "      <th></th>\n",
       "      <th>Timestamp</th>\n",
       "      <th>Price</th>\n",
       "    </tr>\n",
       "  </thead>\n",
       "  <tbody>\n",
       "    <tr>\n",
       "      <th>0</th>\n",
       "      <td>1729468800000</td>\n",
       "      <td>68962.829180</td>\n",
       "    </tr>\n",
       "    <tr>\n",
       "      <th>1</th>\n",
       "      <td>1729555200000</td>\n",
       "      <td>67394.857757</td>\n",
       "    </tr>\n",
       "    <tr>\n",
       "      <th>2</th>\n",
       "      <td>1729641600000</td>\n",
       "      <td>67351.047935</td>\n",
       "    </tr>\n",
       "    <tr>\n",
       "      <th>3</th>\n",
       "      <td>1729728000000</td>\n",
       "      <td>66683.968065</td>\n",
       "    </tr>\n",
       "    <tr>\n",
       "      <th>4</th>\n",
       "      <td>1729814400000</td>\n",
       "      <td>68214.052052</td>\n",
       "    </tr>\n",
       "  </tbody>\n",
       "</table>\n",
       "</div>"
      ],
      "text/plain": [
       "       Timestamp         Price\n",
       "0  1729468800000  68962.829180\n",
       "1  1729555200000  67394.857757\n",
       "2  1729641600000  67351.047935\n",
       "3  1729728000000  66683.968065\n",
       "4  1729814400000  68214.052052"
      ]
     },
     "execution_count": 67,
     "metadata": {},
     "output_type": "execute_result"
    }
   ],
   "source": [
    "df = pd.DataFrame(data[\"prices\"], columns = [\"Timestamp\", \"Price\"])\n",
    "df.head()"
   ]
  },
  {
   "cell_type": "markdown",
   "id": "e1fa6b46-a548-4665-9bd4-436de65d634c",
   "metadata": {},
   "source": [
    "### Convert Unix timestamp (in milliseconds) into standard date-time format\n",
    "\n",
    "**`pd.to_datetime()`**"
   ]
  },
  {
   "cell_type": "code",
   "execution_count": 68,
   "id": "fc5a9cd8-40e5-4b5b-946c-ff61d7d1ee74",
   "metadata": {},
   "outputs": [],
   "source": [
    "df[\"Date\"] = pd.to_datetime(df[\"Timestamp\"], unit=\"ms\")"
   ]
  },
  {
   "cell_type": "code",
   "execution_count": 69,
   "id": "3aff3fd6-12ff-431a-bb69-84024a3e1631",
   "metadata": {},
   "outputs": [
    {
     "data": {
      "text/html": [
       "<div>\n",
       "<style scoped>\n",
       "    .dataframe tbody tr th:only-of-type {\n",
       "        vertical-align: middle;\n",
       "    }\n",
       "\n",
       "    .dataframe tbody tr th {\n",
       "        vertical-align: top;\n",
       "    }\n",
       "\n",
       "    .dataframe thead th {\n",
       "        text-align: right;\n",
       "    }\n",
       "</style>\n",
       "<table border=\"1\" class=\"dataframe\">\n",
       "  <thead>\n",
       "    <tr style=\"text-align: right;\">\n",
       "      <th></th>\n",
       "      <th>Timestamp</th>\n",
       "      <th>Price</th>\n",
       "      <th>Date</th>\n",
       "    </tr>\n",
       "  </thead>\n",
       "  <tbody>\n",
       "    <tr>\n",
       "      <th>0</th>\n",
       "      <td>1729468800000</td>\n",
       "      <td>68962.829180</td>\n",
       "      <td>2024-10-21</td>\n",
       "    </tr>\n",
       "    <tr>\n",
       "      <th>1</th>\n",
       "      <td>1729555200000</td>\n",
       "      <td>67394.857757</td>\n",
       "      <td>2024-10-22</td>\n",
       "    </tr>\n",
       "    <tr>\n",
       "      <th>2</th>\n",
       "      <td>1729641600000</td>\n",
       "      <td>67351.047935</td>\n",
       "      <td>2024-10-23</td>\n",
       "    </tr>\n",
       "    <tr>\n",
       "      <th>3</th>\n",
       "      <td>1729728000000</td>\n",
       "      <td>66683.968065</td>\n",
       "      <td>2024-10-24</td>\n",
       "    </tr>\n",
       "    <tr>\n",
       "      <th>4</th>\n",
       "      <td>1729814400000</td>\n",
       "      <td>68214.052052</td>\n",
       "      <td>2024-10-25</td>\n",
       "    </tr>\n",
       "  </tbody>\n",
       "</table>\n",
       "</div>"
      ],
      "text/plain": [
       "       Timestamp         Price       Date\n",
       "0  1729468800000  68962.829180 2024-10-21\n",
       "1  1729555200000  67394.857757 2024-10-22\n",
       "2  1729641600000  67351.047935 2024-10-23\n",
       "3  1729728000000  66683.968065 2024-10-24\n",
       "4  1729814400000  68214.052052 2024-10-25"
      ]
     },
     "execution_count": 69,
     "metadata": {},
     "output_type": "execute_result"
    }
   ],
   "source": [
    "df.head()"
   ]
  },
  {
   "cell_type": "markdown",
   "id": "c1264d92-8a08-4bc6-b4c0-ce6c9abd0745",
   "metadata": {},
   "source": [
    "### Set the \"Date” (date-time values) as the DataFrame's index\n",
    "\n",
    "Many Pandas time-based operations (like `resample()`) work based on this index"
   ]
  },
  {
   "cell_type": "code",
   "execution_count": 70,
   "id": "94eef3d4-3725-4ae7-aa62-d79f2176d18d",
   "metadata": {},
   "outputs": [
    {
     "data": {
      "text/html": [
       "<div>\n",
       "<style scoped>\n",
       "    .dataframe tbody tr th:only-of-type {\n",
       "        vertical-align: middle;\n",
       "    }\n",
       "\n",
       "    .dataframe tbody tr th {\n",
       "        vertical-align: top;\n",
       "    }\n",
       "\n",
       "    .dataframe thead th {\n",
       "        text-align: right;\n",
       "    }\n",
       "</style>\n",
       "<table border=\"1\" class=\"dataframe\">\n",
       "  <thead>\n",
       "    <tr style=\"text-align: right;\">\n",
       "      <th></th>\n",
       "      <th>Timestamp</th>\n",
       "      <th>Price</th>\n",
       "    </tr>\n",
       "    <tr>\n",
       "      <th>Date</th>\n",
       "      <th></th>\n",
       "      <th></th>\n",
       "    </tr>\n",
       "  </thead>\n",
       "  <tbody>\n",
       "    <tr>\n",
       "      <th>2024-10-21</th>\n",
       "      <td>1729468800000</td>\n",
       "      <td>68962.829180</td>\n",
       "    </tr>\n",
       "    <tr>\n",
       "      <th>2024-10-22</th>\n",
       "      <td>1729555200000</td>\n",
       "      <td>67394.857757</td>\n",
       "    </tr>\n",
       "    <tr>\n",
       "      <th>2024-10-23</th>\n",
       "      <td>1729641600000</td>\n",
       "      <td>67351.047935</td>\n",
       "    </tr>\n",
       "    <tr>\n",
       "      <th>2024-10-24</th>\n",
       "      <td>1729728000000</td>\n",
       "      <td>66683.968065</td>\n",
       "    </tr>\n",
       "    <tr>\n",
       "      <th>2024-10-25</th>\n",
       "      <td>1729814400000</td>\n",
       "      <td>68214.052052</td>\n",
       "    </tr>\n",
       "  </tbody>\n",
       "</table>\n",
       "</div>"
      ],
      "text/plain": [
       "                Timestamp         Price\n",
       "Date                                   \n",
       "2024-10-21  1729468800000  68962.829180\n",
       "2024-10-22  1729555200000  67394.857757\n",
       "2024-10-23  1729641600000  67351.047935\n",
       "2024-10-24  1729728000000  66683.968065\n",
       "2024-10-25  1729814400000  68214.052052"
      ]
     },
     "execution_count": 70,
     "metadata": {},
     "output_type": "execute_result"
    }
   ],
   "source": [
    "df.set_index(\"Date\", inplace = True)  # inplace=Ture: modifies the original df directly rather than returning a new df\n",
    "df.head()"
   ]
  },
  {
   "cell_type": "markdown",
   "id": "67084a59-9f6c-4b4c-8422-368688007ea0",
   "metadata": {},
   "source": [
    "## 2. `cg.get_coin_market_chart_range_by_id()` API\n",
    "\n",
    "- **:param `id`:** default is Bitcoin \"bitcoin\"\n",
    "- **:param `vs_currency`:** default is USD \"usd\"\n",
    "- **:param `from_timestamp`:** the Unix timestamp\n",
    "- **:param `to_timestamp`:** the Unix timestamp"
   ]
  },
  {
   "cell_type": "code",
   "execution_count": 72,
   "id": "c38de152-e396-4b33-af07-4a8a9c319579",
   "metadata": {},
   "outputs": [],
   "source": [
    "start_date = \"2024-01-01\"\n",
    "end_date = \"2024-02-01\""
   ]
  },
  {
   "cell_type": "markdown",
   "id": "02689901-a9d9-42fd-b883-8931e6267981",
   "metadata": {},
   "source": [
    "### Convert start and end dates to Unix timestamps"
   ]
  },
  {
   "cell_type": "code",
   "execution_count": 45,
   "id": "da02aa5f-1d9b-40b5-a2bc-792c67e598a8",
   "metadata": {},
   "outputs": [
    {
     "data": {
      "text/plain": [
       "Timestamp('2024-01-01 00:00:00')"
      ]
     },
     "execution_count": 45,
     "metadata": {},
     "output_type": "execute_result"
    }
   ],
   "source": [
    "pd.to_datetime(start_date)"
   ]
  },
  {
   "cell_type": "code",
   "execution_count": 46,
   "id": "162df665-6a7a-499c-a420-3aed330d5516",
   "metadata": {},
   "outputs": [
    {
     "data": {
      "text/plain": [
       "time.struct_time(tm_year=2024, tm_mon=1, tm_mday=1, tm_hour=0, tm_min=0, tm_sec=0, tm_wday=0, tm_yday=1, tm_isdst=-1)"
      ]
     },
     "execution_count": 46,
     "metadata": {},
     "output_type": "execute_result"
    }
   ],
   "source": [
    "pd.to_datetime(start_date).timetuple()"
   ]
  },
  {
   "cell_type": "code",
   "execution_count": 47,
   "id": "b118794a-2ef1-4be6-9c4a-bf51afdfeee9",
   "metadata": {},
   "outputs": [
    {
     "data": {
      "text/plain": [
       "1704085200.0"
      ]
     },
     "execution_count": 47,
     "metadata": {},
     "output_type": "execute_result"
    }
   ],
   "source": [
    "time.mktime(pd.to_datetime(start_date).timetuple())"
   ]
  },
  {
   "cell_type": "code",
   "execution_count": 48,
   "id": "1819d5d6-0f3b-4aef-a918-6ace7ab7be9b",
   "metadata": {},
   "outputs": [
    {
     "data": {
      "text/plain": [
       "1704085200"
      ]
     },
     "execution_count": 48,
     "metadata": {},
     "output_type": "execute_result"
    }
   ],
   "source": [
    "int(time.mktime(pd.to_datetime(start_date).timetuple()))"
   ]
  },
  {
   "cell_type": "code",
   "execution_count": 73,
   "id": "a396ccd7-21a3-475d-b240-4e73ca55d668",
   "metadata": {},
   "outputs": [],
   "source": [
    "from_timestamp = int(time.mktime(pd.to_datetime(start_date).timetuple()))\n",
    "to_timestamp = int(time.mktime(pd.to_datetime(end_date).timetuple()))"
   ]
  },
  {
   "cell_type": "markdown",
   "id": "86df4ef1-c248-49ae-abd4-33fec5703c69",
   "metadata": {},
   "source": [
    "### Get the data"
   ]
  },
  {
   "cell_type": "code",
   "execution_count": 74,
   "id": "197f82ec-9e43-49be-b609-8dee37180c2f",
   "metadata": {},
   "outputs": [
    {
     "data": {
      "text/plain": [
       "dict"
      ]
     },
     "execution_count": 74,
     "metadata": {},
     "output_type": "execute_result"
    }
   ],
   "source": [
    "data = cg.get_coin_market_chart_range_by_id(id = \"bitcoin\",\n",
    "                                            vs_currency = \"usd\",\n",
    "                                            from_timestamp = from_timestamp,\n",
    "                                            to_timestamp = to_timestamp)\n",
    "type(data)"
   ]
  },
  {
   "cell_type": "code",
   "execution_count": 75,
   "id": "9b6b1709-48d2-42a2-a908-1b2757b80c2d",
   "metadata": {},
   "outputs": [
    {
     "data": {
      "text/html": [
       "<div>\n",
       "<style scoped>\n",
       "    .dataframe tbody tr th:only-of-type {\n",
       "        vertical-align: middle;\n",
       "    }\n",
       "\n",
       "    .dataframe tbody tr th {\n",
       "        vertical-align: top;\n",
       "    }\n",
       "\n",
       "    .dataframe thead th {\n",
       "        text-align: right;\n",
       "    }\n",
       "</style>\n",
       "<table border=\"1\" class=\"dataframe\">\n",
       "  <thead>\n",
       "    <tr style=\"text-align: right;\">\n",
       "      <th></th>\n",
       "      <th>Timestamp</th>\n",
       "      <th>Price</th>\n",
       "    </tr>\n",
       "  </thead>\n",
       "  <tbody>\n",
       "    <tr>\n",
       "      <th>0</th>\n",
       "      <td>1704085264933</td>\n",
       "      <td>42349.340091</td>\n",
       "    </tr>\n",
       "    <tr>\n",
       "      <th>1</th>\n",
       "      <td>1704088850683</td>\n",
       "      <td>42245.399145</td>\n",
       "    </tr>\n",
       "    <tr>\n",
       "      <th>2</th>\n",
       "      <td>1704092451846</td>\n",
       "      <td>42417.935946</td>\n",
       "    </tr>\n",
       "    <tr>\n",
       "      <th>3</th>\n",
       "      <td>1704096005236</td>\n",
       "      <td>42471.252137</td>\n",
       "    </tr>\n",
       "    <tr>\n",
       "      <th>4</th>\n",
       "      <td>1704099653385</td>\n",
       "      <td>42517.226836</td>\n",
       "    </tr>\n",
       "  </tbody>\n",
       "</table>\n",
       "</div>"
      ],
      "text/plain": [
       "       Timestamp         Price\n",
       "0  1704085264933  42349.340091\n",
       "1  1704088850683  42245.399145\n",
       "2  1704092451846  42417.935946\n",
       "3  1704096005236  42471.252137\n",
       "4  1704099653385  42517.226836"
      ]
     },
     "execution_count": 75,
     "metadata": {},
     "output_type": "execute_result"
    }
   ],
   "source": [
    "df = pd.DataFrame(data[\"prices\"], columns = [\"Timestamp\", \"Price\"])\n",
    "\n",
    "df.head()                  "
   ]
  },
  {
   "cell_type": "code",
   "execution_count": 76,
   "id": "e55f2a71-44ca-4482-b0c9-9c34420c505a",
   "metadata": {},
   "outputs": [
    {
     "data": {
      "text/html": [
       "<div>\n",
       "<style scoped>\n",
       "    .dataframe tbody tr th:only-of-type {\n",
       "        vertical-align: middle;\n",
       "    }\n",
       "\n",
       "    .dataframe tbody tr th {\n",
       "        vertical-align: top;\n",
       "    }\n",
       "\n",
       "    .dataframe thead th {\n",
       "        text-align: right;\n",
       "    }\n",
       "</style>\n",
       "<table border=\"1\" class=\"dataframe\">\n",
       "  <thead>\n",
       "    <tr style=\"text-align: right;\">\n",
       "      <th></th>\n",
       "      <th>Timestamp</th>\n",
       "      <th>Price</th>\n",
       "      <th>Date</th>\n",
       "    </tr>\n",
       "  </thead>\n",
       "  <tbody>\n",
       "    <tr>\n",
       "      <th>738</th>\n",
       "      <td>1706745650896</td>\n",
       "      <td>42572.119544</td>\n",
       "      <td>2024-02-01 00:00:50.896</td>\n",
       "    </tr>\n",
       "    <tr>\n",
       "      <th>739</th>\n",
       "      <td>1706749265588</td>\n",
       "      <td>42451.351597</td>\n",
       "      <td>2024-02-01 01:01:05.588</td>\n",
       "    </tr>\n",
       "    <tr>\n",
       "      <th>740</th>\n",
       "      <td>1706752848843</td>\n",
       "      <td>41971.370820</td>\n",
       "      <td>2024-02-01 02:00:48.843</td>\n",
       "    </tr>\n",
       "    <tr>\n",
       "      <th>741</th>\n",
       "      <td>1706756468307</td>\n",
       "      <td>42102.189965</td>\n",
       "      <td>2024-02-01 03:01:08.307</td>\n",
       "    </tr>\n",
       "    <tr>\n",
       "      <th>742</th>\n",
       "      <td>1706760069226</td>\n",
       "      <td>41972.164605</td>\n",
       "      <td>2024-02-01 04:01:09.226</td>\n",
       "    </tr>\n",
       "  </tbody>\n",
       "</table>\n",
       "</div>"
      ],
      "text/plain": [
       "         Timestamp         Price                    Date\n",
       "738  1706745650896  42572.119544 2024-02-01 00:00:50.896\n",
       "739  1706749265588  42451.351597 2024-02-01 01:01:05.588\n",
       "740  1706752848843  41971.370820 2024-02-01 02:00:48.843\n",
       "741  1706756468307  42102.189965 2024-02-01 03:01:08.307\n",
       "742  1706760069226  41972.164605 2024-02-01 04:01:09.226"
      ]
     },
     "execution_count": 76,
     "metadata": {},
     "output_type": "execute_result"
    }
   ],
   "source": [
    "df[\"Date\"] = pd.to_datetime(df[\"Timestamp\"], unit = \"ms\")\n",
    "df.tail()"
   ]
  },
  {
   "cell_type": "code",
   "execution_count": 77,
   "id": "5dc24d59-7268-423d-ba28-fd6940abce48",
   "metadata": {},
   "outputs": [
    {
     "data": {
      "text/html": [
       "<div>\n",
       "<style scoped>\n",
       "    .dataframe tbody tr th:only-of-type {\n",
       "        vertical-align: middle;\n",
       "    }\n",
       "\n",
       "    .dataframe tbody tr th {\n",
       "        vertical-align: top;\n",
       "    }\n",
       "\n",
       "    .dataframe thead th {\n",
       "        text-align: right;\n",
       "    }\n",
       "</style>\n",
       "<table border=\"1\" class=\"dataframe\">\n",
       "  <thead>\n",
       "    <tr style=\"text-align: right;\">\n",
       "      <th></th>\n",
       "      <th>Timestamp</th>\n",
       "      <th>Price</th>\n",
       "    </tr>\n",
       "    <tr>\n",
       "      <th>Date</th>\n",
       "      <th></th>\n",
       "      <th></th>\n",
       "    </tr>\n",
       "  </thead>\n",
       "  <tbody>\n",
       "    <tr>\n",
       "      <th>2024-01-01 05:01:04.933</th>\n",
       "      <td>1704085264933</td>\n",
       "      <td>42349.340091</td>\n",
       "    </tr>\n",
       "    <tr>\n",
       "      <th>2024-01-01 06:00:50.683</th>\n",
       "      <td>1704088850683</td>\n",
       "      <td>42245.399145</td>\n",
       "    </tr>\n",
       "    <tr>\n",
       "      <th>2024-01-01 07:00:51.846</th>\n",
       "      <td>1704092451846</td>\n",
       "      <td>42417.935946</td>\n",
       "    </tr>\n",
       "    <tr>\n",
       "      <th>2024-01-01 08:00:05.236</th>\n",
       "      <td>1704096005236</td>\n",
       "      <td>42471.252137</td>\n",
       "    </tr>\n",
       "    <tr>\n",
       "      <th>2024-01-01 09:00:53.385</th>\n",
       "      <td>1704099653385</td>\n",
       "      <td>42517.226836</td>\n",
       "    </tr>\n",
       "  </tbody>\n",
       "</table>\n",
       "</div>"
      ],
      "text/plain": [
       "                             Timestamp         Price\n",
       "Date                                                \n",
       "2024-01-01 05:01:04.933  1704085264933  42349.340091\n",
       "2024-01-01 06:00:50.683  1704088850683  42245.399145\n",
       "2024-01-01 07:00:51.846  1704092451846  42417.935946\n",
       "2024-01-01 08:00:05.236  1704096005236  42471.252137\n",
       "2024-01-01 09:00:53.385  1704099653385  42517.226836"
      ]
     },
     "execution_count": 77,
     "metadata": {},
     "output_type": "execute_result"
    }
   ],
   "source": [
    "df.set_index(\"Date\", inplace=True)\n",
    "df.head()"
   ]
  },
  {
   "cell_type": "markdown",
   "id": "f06a686f-2bbe-4e62-b331-66200f6d236a",
   "metadata": {},
   "source": [
    "### Using `resample()` to get 4-hourly data"
   ]
  },
  {
   "cell_type": "code",
   "execution_count": 78,
   "id": "9a14e879-234c-4f2a-bde9-302f0dfd0014",
   "metadata": {},
   "outputs": [
    {
     "data": {
      "text/html": [
       "<div>\n",
       "<style scoped>\n",
       "    .dataframe tbody tr th:only-of-type {\n",
       "        vertical-align: middle;\n",
       "    }\n",
       "\n",
       "    .dataframe tbody tr th {\n",
       "        vertical-align: top;\n",
       "    }\n",
       "\n",
       "    .dataframe thead th {\n",
       "        text-align: right;\n",
       "    }\n",
       "</style>\n",
       "<table border=\"1\" class=\"dataframe\">\n",
       "  <thead>\n",
       "    <tr style=\"text-align: right;\">\n",
       "      <th></th>\n",
       "      <th>Timestamp</th>\n",
       "      <th>Price</th>\n",
       "    </tr>\n",
       "    <tr>\n",
       "      <th>Date</th>\n",
       "      <th></th>\n",
       "      <th></th>\n",
       "    </tr>\n",
       "  </thead>\n",
       "  <tbody>\n",
       "    <tr>\n",
       "      <th>2024-01-01 04:00:00</th>\n",
       "      <td>1704085264933</td>\n",
       "      <td>42349.340091</td>\n",
       "    </tr>\n",
       "    <tr>\n",
       "      <th>2024-01-01 08:00:00</th>\n",
       "      <td>1704096005236</td>\n",
       "      <td>42471.252137</td>\n",
       "    </tr>\n",
       "    <tr>\n",
       "      <th>2024-01-01 12:00:00</th>\n",
       "      <td>1704110486723</td>\n",
       "      <td>42698.693073</td>\n",
       "    </tr>\n",
       "    <tr>\n",
       "      <th>2024-01-01 16:00:00</th>\n",
       "      <td>1704124845648</td>\n",
       "      <td>42799.529566</td>\n",
       "    </tr>\n",
       "    <tr>\n",
       "      <th>2024-01-01 20:00:00</th>\n",
       "      <td>1704139213477</td>\n",
       "      <td>43495.913496</td>\n",
       "    </tr>\n",
       "  </tbody>\n",
       "</table>\n",
       "</div>"
      ],
      "text/plain": [
       "                         Timestamp         Price\n",
       "Date                                            \n",
       "2024-01-01 04:00:00  1704085264933  42349.340091\n",
       "2024-01-01 08:00:00  1704096005236  42471.252137\n",
       "2024-01-01 12:00:00  1704110486723  42698.693073\n",
       "2024-01-01 16:00:00  1704124845648  42799.529566\n",
       "2024-01-01 20:00:00  1704139213477  43495.913496"
      ]
     },
     "execution_count": 78,
     "metadata": {},
     "output_type": "execute_result"
    }
   ],
   "source": [
    "df_4h = df.resample('4h').first()\n",
    "\n",
    "df_4h.head()"
   ]
  },
  {
   "cell_type": "markdown",
   "id": "747cefa0-c166-401b-b7d7-1d6a382670cb",
   "metadata": {},
   "source": [
    "## 3. CoinGecko Data Generator"
   ]
  },
  {
   "cell_type": "code",
   "execution_count": null,
   "id": "b2f7e05b-0a45-48a3-a8a0-a701666b1728",
   "metadata": {},
   "outputs": [],
   "source": [
    "import pandas as pd\n",
    "from pycoingecko import CoinGeckoAPI\n",
    "import time\n",
    "\n",
    "\n",
    "def generate_data_coingecko(outpath, coin_id = \"bitcoin\", vs_currency = \"usd\",\n",
    "                            start_date = \"2024-01-01\", end_date = \"2024-07-01\",\n",
    "                            intervel = \"4h\", use_range_api = True):\n",
    "    \"\"\"\n",
    "    Fetch cryptocurrency data using either the range API or the chart API from CoinGeckoAPI,\n",
    "    resample to the desired interval, and save it as a CSV file.\n",
    "\n",
    "    :param output_path: Path to save the CSV file.\n",
    "    :param coin_id: CoinGecko ID of the cryptocurrency (default is Bitcoin \"bitcoin\").\n",
    "    :param vs_currency: The currency in which to get the market data (default is USD \"usd\").\n",
    "    :param start_date: The start date for the data (format 'YYYY-MM-DD').\n",
    "    :param end_date: The end date for the data (format 'YYYY-MM-DD').\n",
    "    :param interval: Desired resampling interval (e.g., '4h' for 4-hour intervals).\n",
    "    :param use_range_api: Boolean to determine whether to use the range API (True) or the chart API (False).\n",
    "    \"\"\"\n",
    "    \n",
    "    # Initialize CoinGecko API\n",
    "    cg = CoinGeckoAPI()\n",
    "\n",
    "    if use_range_api:\n",
    "        #Convert start and end dates to Unix timestamp\n",
    "        from_timestamp = int(time.mktime(pd.to_datetime(start_date).timetuple()))\n",
    "        to_timestamp = int(time.mktime(pd.to_datetime(end_date).timetuple()))\n",
    "\n",
    "        data = cg.get_coin_market_chart_range_by_id(id = coin_id, vs_currency = vs_currency,\n",
    "                                                    from_timestamp = from_timestamp, to_timestamp = to_timestamp)\n",
    "\n",
    "    else:\n",
    "        days = \n",
    "    \n",
    "\n",
    "\n",
    "\n",
    "\n",
    "\n",
    "\n",
    "\n",
    "\n",
    "\n",
    "\n",
    "    "
   ]
  }
 ],
 "metadata": {
  "kernelspec": {
   "display_name": "Python 3 (ipykernel)",
   "language": "python",
   "name": "python3"
  },
  "language_info": {
   "codemirror_mode": {
    "name": "ipython",
    "version": 3
   },
   "file_extension": ".py",
   "mimetype": "text/x-python",
   "name": "python",
   "nbconvert_exporter": "python",
   "pygments_lexer": "ipython3",
   "version": "3.11.10"
  }
 },
 "nbformat": 4,
 "nbformat_minor": 5
}
