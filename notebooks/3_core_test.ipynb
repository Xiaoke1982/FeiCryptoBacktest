{
 "cells": [
  {
   "cell_type": "code",
   "execution_count": 2,
   "id": "08cc5dd2-8775-4181-9b41-f1202b8ca32b",
   "metadata": {},
   "outputs": [
    {
     "name": "stdout",
     "output_type": "stream",
     "text": [
      "\u001b[34m__pycache__\u001b[m\u001b[m          backtest_engine.py   portfolio_manager.py\n"
     ]
    }
   ],
   "source": [
    "!ls ../core"
   ]
  },
  {
   "cell_type": "markdown",
   "id": "b21666a6-a03d-477c-844f-dd219cbb4d96",
   "metadata": {},
   "source": [
    "## 1. Backtest Engine"
   ]
  },
  {
   "cell_type": "markdown",
   "id": "1f05ac58-e733-498c-974c-a42802cb8954",
   "metadata": {},
   "source": [
    "### 1.1 Original `BacktestEngine` class"
   ]
  },
  {
   "cell_type": "code",
   "execution_count": null,
   "id": "ac78c5e9-3e09-4cae-b7b1-2b4f69302f7e",
   "metadata": {},
   "outputs": [],
   "source": [
    "class BacktestEngine:\n",
    "    \n",
    "    def __init__(self, data, strategy, initial_cash = 1000):\n",
    "        \"\"\"\n",
    "        Initialize Backtest Engine Object\n",
    "        \n",
    "        @param data: a data frame with columns of \"Date\" and \"Close\", it's genrated by csv_loader in data_loader directory\n",
    "        @param strategy: a strategy object (e.g. RSIStrategy object)\n",
    "        @param initial_cash: default 1000\n",
    "        \"\"\"\n",
    "        \n",
    "        self.data = data\n",
    "        self.strategy = strategy\n",
    "        self.initial_cash = initial_cash\n",
    "        \n",
    "        \n",
    "        self.cash_stack = [initial_cash * 0.2] * 5\n",
    "        self.position_stack = []\n",
    "        self.portfolio_value_list = [] #Track portfolio value over time\n",
    "        \n",
    "        \n",
    "    def run(self):\n",
    "        \"\"\"\n",
    "        Generate trading signals and Execute trades based on signals.\n",
    "        Protfolio value will be recorded over time.\n",
    "        \"\"\"\n",
    "        \n",
    "        # Generate the trading signals for each close price\n",
    "        signal_list = self.strategy.generate_signals(self.data)\n",
    "        \n",
    "        for i in range(len(self.data)):\n",
    "            signal = signal_list[i]\n",
    "            price = self.data[\"Close\"].iloc[i]\n",
    "            \n",
    "            if signal == 1 and len(self.cash_stack) > 0: # buy signal\n",
    "                cash = self.cash_stack.pop()\n",
    "                shares_to_buy = cash / price\n",
    "                \n",
    "                self.position_stack.append(shares_to_buy)\n",
    "                \n",
    "            elif signal == -1 and len(self.position_stack) > 0: #sell signal\n",
    "                shares_to_sell = self.position_stack.pop()\n",
    "                cash = price * shares_to_sell\n",
    "                \n",
    "                self.cash_stack.append(cash)\n",
    "                \n",
    "            # calculate current portfolio value   \n",
    "            current_portfolio_value = sum(self.cash_stack) + sum(self.position_stack) * price\n",
    "            self.portfolio_value_list.append(current_portfolio_value)\n",
    "            \n",
    "            \n",
    "    def get_results(self):\n",
    "        \"\"\"\n",
    "        retrieve the portfolio values over the backtesting period\n",
    "        \n",
    "        @return: A list of portfolio values at each time step\n",
    "        \"\"\"\n",
    "        return self.portfolio_value_list\n",
    "        \n",
    "        \n",
    "    \n",
    "    def calculate_performance(self):\n",
    "        \"\"\"\n",
    "        calculate the total return\n",
    "\n",
    "        @return: a dictionary that contains total return information\n",
    "        \"\"\"\n",
    "        \n",
    "        final_value = self.portfolio_value_list[-1]\n",
    "        \n",
    "        total_return = (final_value - self.initial_cash) / self.initial_cash\n",
    "        \n",
    "        return {\"Total Return\": total_return}"
   ]
  },
  {
   "cell_type": "code",
   "execution_count": null,
   "id": "c27db431-9571-4eb3-9aef-df462448aacd",
   "metadata": {},
   "outputs": [],
   "source": []
  },
  {
   "cell_type": "markdown",
   "id": "d0f80e8e-4b7d-48f4-9186-20b62adaa9e7",
   "metadata": {},
   "source": [
    "### 1.2 `BacktestEngine` class after introducing `PortfolioManager` Object in `portfolio_manager.py`"
   ]
  },
  {
   "cell_type": "markdown",
   "id": "66959fea-784e-465b-a21c-27fae3bd02ad",
   "metadata": {},
   "source": [
    "As **`PortfolioManager()`** object is introduced, inside the **`BacktestEngine.run()`** method, the **BUY**, **SELL** and **GET PORTFOLIO VALUE** operations are handled by **`PortfolioManager().buy()`**, **`PortfolioManager().sell()`** and **`PortfolioManager().get_portfolio_value()`** methods"
   ]
  },
  {
   "cell_type": "code",
   "execution_count": null,
   "id": "272edec3-1ccb-4e0e-a34a-6502ceb0c53e",
   "metadata": {},
   "outputs": [],
   "source": [
    "from portfolio_manager import PortfolioManager\n",
    "\n",
    "\n",
    "class BacktestEngine:\n",
    "    \n",
    "    def __init__(self, data, strategy, initial_cash = 1000):\n",
    "        \"\"\"\n",
    "        Initialize Backtest Engine Object\n",
    "        \n",
    "        @param data: a data frame with columns of \"Date\" and \"Close\", it's genrated by csv_loader in data_loader directory\n",
    "        @param strategy: a strategy object (e.g. RSIStrategy object)\n",
    "        @param initial_cash: default 1000\n",
    "        \"\"\"\n",
    "        \n",
    "        self.data = data\n",
    "        self.strategy = strategy\n",
    "        self.initial_cash = initial_cash\n",
    "\n",
    "        # Initialize the portfolio manager object, it will hand buy, sell trading action and calculate portfolio value at each time step\n",
    "        self.portfolio_manager = PortfolioManager(initial_cash)\n",
    "\n",
    "        self.portfolio_value_list = [] #Track portfolio value over time\n",
    "        \n",
    "        \n",
    "    def run(self):\n",
    "        \"\"\"\n",
    "        Generate trading signals and Execute trades based on signals.\n",
    "        Protfolio value will be recorded over time, at the self.portfolio_value_list\n",
    "        \"\"\"\n",
    "        \n",
    "        # Generate the trading signals for each close price\n",
    "        signal_list = self.strategy.generate_signals(self.data)\n",
    "        \n",
    "        for i in range(len(self.data)):\n",
    "            signal = signal_list[i]\n",
    "            price = self.data[\"Close\"].iloc[i]\n",
    "            \n",
    "            if signal == 1: # buy signal\n",
    "                success = self.portfolio_manager.buy(price)   #returns if the buy action is successful or not\n",
    "                \n",
    "                if not success:\n",
    "                    print(f\"Buy failed at {self.data.index[i]}: Insufficient cash\")\n",
    "                \n",
    "            elif signal == -1: #sell signal\n",
    "                success = self.portfolio_manager.sell(price)  # returns if the sell action is successful or not\n",
    "                \n",
    "                if not success:\n",
    "                    print(f\"Sell failed at {self.data.index[i]}: Insufficient position\")\n",
    "   \n",
    "            # calculate current portfolio value   \n",
    "            current_portfolio_value = self.portfolio_manager.get_portfolio_value(price)\n",
    "            self.portfolio_value_list.append(current_portfolio_value)\n",
    "            \n",
    "            \n",
    "    def get_results(self):\n",
    "        \"\"\"\n",
    "        retrieve the portfolio values over the backtesting period\n",
    "        \n",
    "        @return: A list of portfolio values at each time step\n",
    "        \"\"\"\n",
    "        return self.portfolio_value_list\n",
    "        \n",
    "        \n",
    "    \n",
    "    def calculate_performance(self):\n",
    "        \"\"\"\n",
    "        calculate the total return\n",
    "\n",
    "        @return: a dictionary that contains total return information\n",
    "        \"\"\"\n",
    "        \n",
    "        final_value = self.portfolio_value_list[-1]\n",
    "        \n",
    "        total_return = (final_value - self.initial_cash) / self.initial_cash\n",
    "        \n",
    "        return {\"Total Return\": total_return}"
   ]
  },
  {
   "cell_type": "markdown",
   "id": "5e745ce8-c089-43ee-8ac3-a398248dcef0",
   "metadata": {},
   "source": [
    "### 1.3 `BacktestEngine` class after introducing `Performance` Object in `performance.py`"
   ]
  },
  {
   "cell_type": "code",
   "execution_count": null,
   "id": "299235c2-e5d6-45df-9fcd-d69dcc1c7564",
   "metadata": {},
   "outputs": [],
   "source": [
    "from portfolio_manager import PortfolioManager\n",
    "\n",
    "\n",
    "class BacktestEngine:\n",
    "    \n",
    "    def __init__(self, data, strategy, initial_cash = 1000):\n",
    "        \"\"\"\n",
    "        Initialize Backtest Engine Object\n",
    "        \n",
    "        @param data: a data frame with columns of \"Date\" and \"Close\", it's genrated by csv_loader in data_loader directory\n",
    "        @param strategy: a strategy object (e.g. RSIStrategy object)\n",
    "        @param initial_cash: default 1000\n",
    "        \"\"\"\n",
    "        \n",
    "        self.data = data\n",
    "        self.strategy = strategy\n",
    "        self.initial_cash = initial_cash\n",
    "\n",
    "        # Initialize the portfolio manager object, it will hand buy, sell trading action and calculate portfolio value at each time step\n",
    "        self.portfolio_manager = PortfolioManager(initial_cash)\n",
    "\n",
    "        self.portfolio_value_list = [] #Track portfolio value over time\n",
    "        \n",
    "        \n",
    "    def run(self):\n",
    "        \"\"\"\n",
    "        Generate trading signals and Execute trades based on signals.\n",
    "        Protfolio value will be recorded over time, at the self.portfolio_value_list\n",
    "        \"\"\"\n",
    "        \n",
    "        # Generate the trading signals for each close price\n",
    "        signal_list = self.strategy.generate_signals(self.data)\n",
    "        \n",
    "        for i in range(len(self.data)):\n",
    "            signal = signal_list[i]\n",
    "            price = self.data[\"Close\"].iloc[i]\n",
    "            \n",
    "            if signal == 1: # buy signal\n",
    "                success = self.portfolio_manager.buy(price)   #returns if the buy action is successful or not\n",
    "                \n",
    "                if not success:\n",
    "                    print(f\"Buy failed at {self.data.index[i]}: Insufficient cash\")\n",
    "                \n",
    "            elif signal == -1: #sell signal\n",
    "                success = self.portfolio_manager.sell(price)  # returns if the sell action is successful or not\n",
    "                \n",
    "                if not success:\n",
    "                    print(f\"Sell failed at {self.data.index[i]}: Insufficient position\")\n",
    "   \n",
    "            # calculate current portfolio value   \n",
    "            current_portfolio_value = self.portfolio_manager.get_portfolio_value(price)\n",
    "            self.portfolio_value_list.append(current_portfolio_value)\n",
    "        \n",
    "        \n",
    "    \n",
    "    def get_performance_metrics(self):\n",
    "        \"\"\"\n",
    "        get performance metrics using performance.py mehtods\n",
    "        \n",
    "        @return: a dictionary that contains performance metrics\n",
    "        \"\"\"\n",
    "        \n",
    "        return Performance.calculate_performance(self.portfolio_value_list)"
   ]
  },
  {
   "cell_type": "markdown",
   "id": "dde360c1-fd12-4e31-94a8-c9186c5a8773",
   "metadata": {},
   "source": [
    "## 2. Portfolio Manager\n",
    "\n",
    "### `PorfolioManager` class in `portfolio_manager.py`"
   ]
  },
  {
   "cell_type": "markdown",
   "id": "e469ff20-a918-4657-9387-f5a720151628",
   "metadata": {},
   "source": [
    "1. `__init__(initial_cash, transaction_fee, n_splits)`:\n",
    "   - take in the initial cash and number of splits, initialize the cash stack\n",
    "   - initialize an empty position stack\n",
    "   - take in the transaction fee\n",
    "2. `buy(current_price)`:\n",
    "3. `sell(current_price)`:\n",
    "4. `get_portfolio_value(current_price)`"
   ]
  },
  {
   "cell_type": "code",
   "execution_count": null,
   "id": "9503f61f-a433-4ffa-bca9-59b444758424",
   "metadata": {},
   "outputs": [],
   "source": [
    "class PortfolioManager:\n",
    "\n",
    "    def __init__(self, initial_cash, transaction_fee = 0.001, n_splits = 10):\n",
    "        \"\"\"\n",
    "        Initialize the PortfolioManager object instance\n",
    "        \n",
    "        @param initial_cash: initial cash\n",
    "        @param transaction_fee: transaction cost rate, default is 0.1%\n",
    "        @param n_splits: the number of portions to split the initial cash into for cash stack, default is 10\n",
    "        \"\"\"\n",
    "        \n",
    "        # split the initial cash into equal portions for cash stack\n",
    "        self.cash_stack = [initial_cash / n_splits] * n_splits\n",
    "        self.position_stack = []  #Initialize an empty position stack\n",
    "        self.transaction_fee = 0.001\n",
    "\n",
    "\n",
    "    def buy(self, current_price):\n",
    "        \"\"\"\n",
    "        Execute a buy operation given current price, update the cash stack and the position stack\n",
    "        \n",
    "        @param current_price: current buy price\n",
    "        \n",
    "        @return: True if buy successful, False otherwise\n",
    "        \"\"\"\n",
    "\n",
    "        if len(self.cash_stack) > 0: # check if cash is enough for buy action\n",
    "            \n",
    "            cash = self.cash_stack.pop() # pop one portion of cash from the cash stack\n",
    "            shares_to_buy = cash / (current_price * (1 + self.transaction_fee))  #calculate how many shares can be bought\n",
    "            \n",
    "            self.position_stack.append(shares_to_buy) # update the position stack by pushing the newly bought shares\n",
    "            return True\n",
    "        return False\n",
    "\n",
    "\n",
    "    def sell(self, current_price):\n",
    "        \"\"\"\n",
    "        Execute sell operation given current price, update the cash stack and the position stack\n",
    "        \n",
    "        @param current_price: current sell price\n",
    "        \n",
    "        @return: True if sell successful, False otherwise\n",
    "        \"\"\"\n",
    "\n",
    "        if len(self.position_stack) > 0:  # check if there's enough position to sell\n",
    "            \n",
    "            shares_to_sell = self.position_stack.pop()   #pop one portion of the position from the position stack\n",
    "            cash = shares_to_sell * current_price * (1 - self.transaction_fee  # sell the position and get the cash\n",
    "\n",
    "            self.cash_stack.append(cash)  #update the cash stack by pushing the cash into it\n",
    "            return True\n",
    "        return False\n",
    "\n",
    "\n",
    "    def get_portfolio_value(self, current_price):\n",
    "        \"\"\"\n",
    "        Calculate current portfolio value given current price\n",
    "        \n",
    "        @return: current portfolio value\n",
    "        \"\"\"\n",
    "\n",
    "        return sum(self.cash_stack) + sum(self.position_stack) * current_price\n",
    "        "
   ]
  },
  {
   "cell_type": "markdown",
   "id": "e8ddda48-5bb2-431f-ae29-f389c99da3af",
   "metadata": {},
   "source": [
    "## 3. Performance static method class\n",
    "\n",
    "### `Performance` class in performance.py\n",
    "It provides a collection of **independent methods** related to performance evaluation **without an `__init__` methond** and **without needing to instantiate an object**.\n",
    "\n",
    "1. `calculate_total_return(portfolio_value_list)`\n",
    "2. `calculate_max_drawdown(portfolio_value_list)`"
   ]
  },
  {
   "cell_type": "code",
   "execution_count": null,
   "id": "a9060f9c-2347-41af-b1b7-56fa61855ce6",
   "metadata": {},
   "outputs": [],
   "source": [
    "import pandas as pd\n",
    "\n",
    "\n",
    "class Performance:\n",
    "\n",
    "    @staticmethod\n",
    "    def calculate_total_return(portfolio_value_list):\n",
    "        \"\"\"\n",
    "        Calculate the total return given the portfolio values over time steps\n",
    "\n",
    "        @param portfolio_value_list: a list of portfolio values over time\n",
    "\n",
    "        @return: total return\n",
    "        \"\"\"\n",
    "        initial_value = portfolio_value_list[0]\n",
    "        final_value = portfolio_value_list[-1]\n",
    "\n",
    "        return (final_value - initial_value) / initial_value\n",
    "\n",
    "\n",
    "    @staticmethod\n",
    "    def max_drawdown(portfolio_value_list):\n",
    "        \"\"\"\n",
    "        Calculate the max drawdown based on the portfolio values over time\n",
    "\n",
    "        @param portfolio_value_list: a list of portfolio values over time\n",
    "\n",
    "        @return: Maximum Drawn\n",
    "        \"\"\"\n",
    "        portfolio_value_series = pd.Series(portfolio_value_list)\n",
    "\n",
    "        cumulative_max_series = portfolio_value_series.cummax()\n",
    "\n",
    "        drawdown_series = (portfo_value_series - cumulative_max_series) / cumulative_max_series\n",
    "\n",
    "        max_drawdown_value = drawdown_series.min()\n",
    "\n",
    "        return max_drawdown_value\n",
    "\n",
    "\n",
    "    @staticmethod\n",
    "    def calculate_performance(portfolio_value_list):\n",
    "        \"\"\"\n",
    "        Calculate all the performance methods and return a dictionary\n",
    "\n",
    "        @param portfolio_value_list: a list of portfolio values over time\n",
    "\n",
    "        @return: a dictionary including Total Return, Max Drawdown, etc...\n",
    "        \"\"\"\n",
    "        return {\n",
    "            \"Total Return\": Performance.calculate_total_return(portforlio_value_list),\n",
    "            \"Maximum Drawdown\": Performance.calculate_max_drawdown(portfolio_value_list)\n",
    "        }\n",
    "        "
   ]
  },
  {
   "cell_type": "code",
   "execution_count": 4,
   "id": "5577c2cb-96d8-4c0c-9b63-b114c5642f98",
   "metadata": {},
   "outputs": [
    {
     "data": {
      "text/plain": [
       "0    100\n",
       "1    120\n",
       "2    115\n",
       "3    130\n",
       "4     90\n",
       "5    140\n",
       "6    105\n",
       "dtype: int64"
      ]
     },
     "execution_count": 4,
     "metadata": {},
     "output_type": "execute_result"
    }
   ],
   "source": [
    "import pandas as pd\n",
    "\n",
    "portfolio_value_list = [100, 120, 115, 130, 90, 140, 105]\n",
    "portfolio_value_list = pd.Series(portfolio_value_list)\n",
    "portfolio_value_list"
   ]
  },
  {
   "cell_type": "code",
   "execution_count": 5,
   "id": "9cea938e-1b78-406a-b446-eb8d79da6f27",
   "metadata": {},
   "outputs": [
    {
     "data": {
      "text/plain": [
       "0    100\n",
       "1    120\n",
       "2    120\n",
       "3    130\n",
       "4    130\n",
       "5    140\n",
       "6    140\n",
       "dtype: int64"
      ]
     },
     "execution_count": 5,
     "metadata": {},
     "output_type": "execute_result"
    }
   ],
   "source": [
    "cumulative_max_list = portfolio_value_list.cummax()\n",
    "cumulative_max_list"
   ]
  },
  {
   "cell_type": "code",
   "execution_count": 6,
   "id": "41265752-9057-464f-a286-701137eae14f",
   "metadata": {},
   "outputs": [
    {
     "data": {
      "text/plain": [
       "0    0.000000\n",
       "1    0.000000\n",
       "2   -0.041667\n",
       "3    0.000000\n",
       "4   -0.307692\n",
       "5    0.000000\n",
       "6   -0.250000\n",
       "dtype: float64"
      ]
     },
     "execution_count": 6,
     "metadata": {},
     "output_type": "execute_result"
    }
   ],
   "source": [
    "drawdown_list = (portfolio_value_list - cumulative_max_list) / cumulative_max_list\n",
    "drawdown_list"
   ]
  },
  {
   "cell_type": "code",
   "execution_count": 8,
   "id": "9d3b2250-1e53-438a-af54-39e5b35bd9ee",
   "metadata": {},
   "outputs": [
    {
     "data": {
      "text/plain": [
       "-0.3076923076923077"
      ]
     },
     "execution_count": 8,
     "metadata": {},
     "output_type": "execute_result"
    }
   ],
   "source": [
    "max_drawdown = drawdown_list.min()\n",
    "max_drawdown"
   ]
  },
  {
   "cell_type": "code",
   "execution_count": null,
   "id": "c07aa683-4b36-4b30-99f2-661443486da9",
   "metadata": {},
   "outputs": [],
   "source": []
  }
 ],
 "metadata": {
  "kernelspec": {
   "display_name": "Python 3 (ipykernel)",
   "language": "python",
   "name": "python3"
  },
  "language_info": {
   "codemirror_mode": {
    "name": "ipython",
    "version": 3
   },
   "file_extension": ".py",
   "mimetype": "text/x-python",
   "name": "python",
   "nbconvert_exporter": "python",
   "pygments_lexer": "ipython3",
   "version": "3.11.10"
  }
 },
 "nbformat": 4,
 "nbformat_minor": 5
}
