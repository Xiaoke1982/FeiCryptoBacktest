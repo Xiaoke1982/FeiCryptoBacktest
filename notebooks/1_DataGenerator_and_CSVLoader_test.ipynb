{
 "cells": [
  {
   "cell_type": "markdown",
   "id": "bbf7fb3b-a652-4594-8b6d-61b7b563c11c",
   "metadata": {},
   "source": [
    "## 1. CoinGecko"
   ]
  },
  {
   "cell_type": "code",
   "execution_count": 7,
   "id": "64edae18-5675-4379-b076-c6c0d1b88e3d",
   "metadata": {},
   "outputs": [],
   "source": [
    "from pycoingecko import CoinGeckoAPI\n",
    "import pandas as pd\n",
    "import time"
   ]
  },
  {
   "cell_type": "code",
   "execution_count": 8,
   "id": "00344683-874f-4c4d-9e18-9953a7d6078c",
   "metadata": {},
   "outputs": [],
   "source": [
    "cg = CoinGeckoAPI()"
   ]
  },
  {
   "cell_type": "markdown",
   "id": "0b21aa3b-55f6-49f6-84dc-89733b3280f9",
   "metadata": {
    "jp-MarkdownHeadingCollapsed": true
   },
   "source": [
    "### 1.1 `cg.get_coin_market_chart_by_id()` API\n",
    "\n",
    "\n",
    "- **:param `id`:**          default is Bitcoin \"bitcoin\"\n",
    "- **:param `vs_currency`:** default is USD \"usd\"\n",
    "- **:param `days`:**        the range of days to retireve data for \"1\", \"30\", \"max\", etc.\n",
    "- **:param `interval`:**    the data interval \"minutely\", \"hourly\", \"daily\""
   ]
  },
  {
   "cell_type": "code",
   "execution_count": 3,
   "id": "b5666aa7-9714-4bc3-ad97-9339d4ec5888",
   "metadata": {},
   "outputs": [],
   "source": [
    "data = cg.get_coin_market_chart_by_id(id = \"bitcoin\",\n",
    "                                      vs_currency = \"usd\",\n",
    "                                      days = \"5\",\n",
    "                                      interval = \"daily\")\n",
    "\n",
    "###\n",
    "# :param id:          default is Bitcoin \"bitcoin\"\n",
    "# :param vs_currency: default is USD \"usd\"\n",
    "# :param days:        the range of days to retireve data for \"1\", \"30\", \"max\", etc.\n",
    "# :param interval:    the data interval \"minutely\", \"hourly\", \"daily\"\n",
    "###"
   ]
  },
  {
   "cell_type": "code",
   "execution_count": 4,
   "id": "d1fffc30-1c19-4097-bd86-2e6e38cfd138",
   "metadata": {},
   "outputs": [
    {
     "data": {
      "text/plain": [
       "dict"
      ]
     },
     "execution_count": 4,
     "metadata": {},
     "output_type": "execute_result"
    }
   ],
   "source": [
    "type(data)"
   ]
  },
  {
   "cell_type": "code",
   "execution_count": 5,
   "id": "c6d18ee2-3cc8-4bb5-be79-21b3db001861",
   "metadata": {},
   "outputs": [
    {
     "data": {
      "text/plain": [
       "{'prices': [[1729555200000, 67394.85775735618],\n",
       "  [1729641600000, 67351.04793512498],\n",
       "  [1729728000000, 66683.96806542306],\n",
       "  [1729814400000, 68214.05205157402],\n",
       "  [1729900800000, 66585.66535501445],\n",
       "  [1729911829000, 66650.69451353882]],\n",
       " 'market_caps': [[1729555200000, 1332326858574.4448],\n",
       "  [1729641600000, 1331426858508.4004],\n",
       "  [1729728000000, 1318285437546.2786],\n",
       "  [1729814400000, 1347888109010.5889],\n",
       "  [1729900800000, 1313975091942.221],\n",
       "  [1729911829000, 1320159363921.0457]],\n",
       " 'total_volumes': [[1729555200000, 40485496091.95008],\n",
       "  [1729641600000, 31398389967.38113],\n",
       "  [1729728000000, 32676918488.059],\n",
       "  [1729814400000, 35892606570.03549],\n",
       "  [1729900800000, 48426924850.053406],\n",
       "  [1729911829000, 50304110341.034874]]}"
      ]
     },
     "execution_count": 5,
     "metadata": {},
     "output_type": "execute_result"
    }
   ],
   "source": [
    "#data: a dictionary with 3 keys: prices, market_caps and total_volumes\n",
    "\n",
    "#each key associates with a list, in which each element is also a list of two elements: timestamp and value of the key\n",
    "\n",
    "data"
   ]
  },
  {
   "cell_type": "code",
   "execution_count": 6,
   "id": "0856e5b1-2159-4d43-944b-9de33a4fe143",
   "metadata": {},
   "outputs": [
    {
     "data": {
      "text/plain": [
       "[[1729555200000, 67394.85775735618],\n",
       " [1729641600000, 67351.04793512498],\n",
       " [1729728000000, 66683.96806542306],\n",
       " [1729814400000, 68214.05205157402],\n",
       " [1729900800000, 66585.66535501445],\n",
       " [1729911829000, 66650.69451353882]]"
      ]
     },
     "execution_count": 6,
     "metadata": {},
     "output_type": "execute_result"
    }
   ],
   "source": [
    "data[\"prices\"]"
   ]
  },
  {
   "cell_type": "code",
   "execution_count": 7,
   "id": "c8a70d8c-737e-435e-9604-3e58b3741397",
   "metadata": {},
   "outputs": [
    {
     "data": {
      "text/html": [
       "<div>\n",
       "<style scoped>\n",
       "    .dataframe tbody tr th:only-of-type {\n",
       "        vertical-align: middle;\n",
       "    }\n",
       "\n",
       "    .dataframe tbody tr th {\n",
       "        vertical-align: top;\n",
       "    }\n",
       "\n",
       "    .dataframe thead th {\n",
       "        text-align: right;\n",
       "    }\n",
       "</style>\n",
       "<table border=\"1\" class=\"dataframe\">\n",
       "  <thead>\n",
       "    <tr style=\"text-align: right;\">\n",
       "      <th></th>\n",
       "      <th>Timestamp</th>\n",
       "      <th>Price</th>\n",
       "    </tr>\n",
       "  </thead>\n",
       "  <tbody>\n",
       "    <tr>\n",
       "      <th>0</th>\n",
       "      <td>1729555200000</td>\n",
       "      <td>67394.857757</td>\n",
       "    </tr>\n",
       "    <tr>\n",
       "      <th>1</th>\n",
       "      <td>1729641600000</td>\n",
       "      <td>67351.047935</td>\n",
       "    </tr>\n",
       "    <tr>\n",
       "      <th>2</th>\n",
       "      <td>1729728000000</td>\n",
       "      <td>66683.968065</td>\n",
       "    </tr>\n",
       "    <tr>\n",
       "      <th>3</th>\n",
       "      <td>1729814400000</td>\n",
       "      <td>68214.052052</td>\n",
       "    </tr>\n",
       "    <tr>\n",
       "      <th>4</th>\n",
       "      <td>1729900800000</td>\n",
       "      <td>66585.665355</td>\n",
       "    </tr>\n",
       "  </tbody>\n",
       "</table>\n",
       "</div>"
      ],
      "text/plain": [
       "       Timestamp         Price\n",
       "0  1729555200000  67394.857757\n",
       "1  1729641600000  67351.047935\n",
       "2  1729728000000  66683.968065\n",
       "3  1729814400000  68214.052052\n",
       "4  1729900800000  66585.665355"
      ]
     },
     "execution_count": 7,
     "metadata": {},
     "output_type": "execute_result"
    }
   ],
   "source": [
    "df = pd.DataFrame(data[\"prices\"], columns = [\"Timestamp\", \"Price\"])\n",
    "df.head()"
   ]
  },
  {
   "cell_type": "markdown",
   "id": "e1fa6b46-a548-4665-9bd4-436de65d634c",
   "metadata": {},
   "source": [
    "#### Convert Unix timestamp (in milliseconds) into standard date-time format\n",
    "\n",
    "**`pd.to_datetime()`**"
   ]
  },
  {
   "cell_type": "code",
   "execution_count": 8,
   "id": "fc5a9cd8-40e5-4b5b-946c-ff61d7d1ee74",
   "metadata": {},
   "outputs": [],
   "source": [
    "df[\"Date\"] = pd.to_datetime(df[\"Timestamp\"], unit=\"ms\")"
   ]
  },
  {
   "cell_type": "code",
   "execution_count": 9,
   "id": "3aff3fd6-12ff-431a-bb69-84024a3e1631",
   "metadata": {},
   "outputs": [
    {
     "data": {
      "text/html": [
       "<div>\n",
       "<style scoped>\n",
       "    .dataframe tbody tr th:only-of-type {\n",
       "        vertical-align: middle;\n",
       "    }\n",
       "\n",
       "    .dataframe tbody tr th {\n",
       "        vertical-align: top;\n",
       "    }\n",
       "\n",
       "    .dataframe thead th {\n",
       "        text-align: right;\n",
       "    }\n",
       "</style>\n",
       "<table border=\"1\" class=\"dataframe\">\n",
       "  <thead>\n",
       "    <tr style=\"text-align: right;\">\n",
       "      <th></th>\n",
       "      <th>Timestamp</th>\n",
       "      <th>Price</th>\n",
       "      <th>Date</th>\n",
       "    </tr>\n",
       "  </thead>\n",
       "  <tbody>\n",
       "    <tr>\n",
       "      <th>0</th>\n",
       "      <td>1729555200000</td>\n",
       "      <td>67394.857757</td>\n",
       "      <td>2024-10-22</td>\n",
       "    </tr>\n",
       "    <tr>\n",
       "      <th>1</th>\n",
       "      <td>1729641600000</td>\n",
       "      <td>67351.047935</td>\n",
       "      <td>2024-10-23</td>\n",
       "    </tr>\n",
       "    <tr>\n",
       "      <th>2</th>\n",
       "      <td>1729728000000</td>\n",
       "      <td>66683.968065</td>\n",
       "      <td>2024-10-24</td>\n",
       "    </tr>\n",
       "    <tr>\n",
       "      <th>3</th>\n",
       "      <td>1729814400000</td>\n",
       "      <td>68214.052052</td>\n",
       "      <td>2024-10-25</td>\n",
       "    </tr>\n",
       "    <tr>\n",
       "      <th>4</th>\n",
       "      <td>1729900800000</td>\n",
       "      <td>66585.665355</td>\n",
       "      <td>2024-10-26</td>\n",
       "    </tr>\n",
       "  </tbody>\n",
       "</table>\n",
       "</div>"
      ],
      "text/plain": [
       "       Timestamp         Price       Date\n",
       "0  1729555200000  67394.857757 2024-10-22\n",
       "1  1729641600000  67351.047935 2024-10-23\n",
       "2  1729728000000  66683.968065 2024-10-24\n",
       "3  1729814400000  68214.052052 2024-10-25\n",
       "4  1729900800000  66585.665355 2024-10-26"
      ]
     },
     "execution_count": 9,
     "metadata": {},
     "output_type": "execute_result"
    }
   ],
   "source": [
    "df.head()"
   ]
  },
  {
   "cell_type": "markdown",
   "id": "c1264d92-8a08-4bc6-b4c0-ce6c9abd0745",
   "metadata": {},
   "source": [
    "#### Set the \"Date” (date-time values) as the DataFrame's index\n",
    "\n",
    "Many Pandas time-based operations (like `resample()`) work based on this index"
   ]
  },
  {
   "cell_type": "code",
   "execution_count": 10,
   "id": "94eef3d4-3725-4ae7-aa62-d79f2176d18d",
   "metadata": {},
   "outputs": [
    {
     "data": {
      "text/html": [
       "<div>\n",
       "<style scoped>\n",
       "    .dataframe tbody tr th:only-of-type {\n",
       "        vertical-align: middle;\n",
       "    }\n",
       "\n",
       "    .dataframe tbody tr th {\n",
       "        vertical-align: top;\n",
       "    }\n",
       "\n",
       "    .dataframe thead th {\n",
       "        text-align: right;\n",
       "    }\n",
       "</style>\n",
       "<table border=\"1\" class=\"dataframe\">\n",
       "  <thead>\n",
       "    <tr style=\"text-align: right;\">\n",
       "      <th></th>\n",
       "      <th>Timestamp</th>\n",
       "      <th>Price</th>\n",
       "    </tr>\n",
       "    <tr>\n",
       "      <th>Date</th>\n",
       "      <th></th>\n",
       "      <th></th>\n",
       "    </tr>\n",
       "  </thead>\n",
       "  <tbody>\n",
       "    <tr>\n",
       "      <th>2024-10-22</th>\n",
       "      <td>1729555200000</td>\n",
       "      <td>67394.857757</td>\n",
       "    </tr>\n",
       "    <tr>\n",
       "      <th>2024-10-23</th>\n",
       "      <td>1729641600000</td>\n",
       "      <td>67351.047935</td>\n",
       "    </tr>\n",
       "    <tr>\n",
       "      <th>2024-10-24</th>\n",
       "      <td>1729728000000</td>\n",
       "      <td>66683.968065</td>\n",
       "    </tr>\n",
       "    <tr>\n",
       "      <th>2024-10-25</th>\n",
       "      <td>1729814400000</td>\n",
       "      <td>68214.052052</td>\n",
       "    </tr>\n",
       "    <tr>\n",
       "      <th>2024-10-26</th>\n",
       "      <td>1729900800000</td>\n",
       "      <td>66585.665355</td>\n",
       "    </tr>\n",
       "  </tbody>\n",
       "</table>\n",
       "</div>"
      ],
      "text/plain": [
       "                Timestamp         Price\n",
       "Date                                   \n",
       "2024-10-22  1729555200000  67394.857757\n",
       "2024-10-23  1729641600000  67351.047935\n",
       "2024-10-24  1729728000000  66683.968065\n",
       "2024-10-25  1729814400000  68214.052052\n",
       "2024-10-26  1729900800000  66585.665355"
      ]
     },
     "execution_count": 10,
     "metadata": {},
     "output_type": "execute_result"
    }
   ],
   "source": [
    "df.set_index(\"Date\", inplace = True)  # inplace=Ture: modifies the original df directly rather than returning a new df\n",
    "df.head()"
   ]
  },
  {
   "cell_type": "markdown",
   "id": "67084a59-9f6c-4b4c-8422-368688007ea0",
   "metadata": {},
   "source": [
    "### 1.2 `cg.get_coin_market_chart_range_by_id()` API\n",
    "\n",
    "- **:param `id`:** default is Bitcoin \"bitcoin\"\n",
    "- **:param `vs_currency`:** default is USD \"usd\"\n",
    "- **:param `from_timestamp`:** the Unix timestamp\n",
    "- **:param `to_timestamp`:** the Unix timestamp"
   ]
  },
  {
   "cell_type": "markdown",
   "id": "02a617b5-623b-45ca-b826-31e91de8be20",
   "metadata": {},
   "source": [
    "**If the range is less than 1 month, it will return hourly data, otherwise it will return daily data**"
   ]
  },
  {
   "cell_type": "code",
   "execution_count": 30,
   "id": "c38de152-e396-4b33-af07-4a8a9c319579",
   "metadata": {},
   "outputs": [],
   "source": [
    "start_date = \"2023-11-05\"\n",
    "end_date = \"2023-12-01\""
   ]
  },
  {
   "cell_type": "markdown",
   "id": "02689901-a9d9-42fd-b883-8931e6267981",
   "metadata": {},
   "source": [
    "#### Convert start and end dates to Unix timestamps"
   ]
  },
  {
   "cell_type": "code",
   "execution_count": 12,
   "id": "da02aa5f-1d9b-40b5-a2bc-792c67e598a8",
   "metadata": {},
   "outputs": [
    {
     "data": {
      "text/plain": [
       "Timestamp('2024-01-01 00:00:00')"
      ]
     },
     "execution_count": 12,
     "metadata": {},
     "output_type": "execute_result"
    }
   ],
   "source": [
    "pd.to_datetime(start_date)"
   ]
  },
  {
   "cell_type": "code",
   "execution_count": 13,
   "id": "162df665-6a7a-499c-a420-3aed330d5516",
   "metadata": {},
   "outputs": [
    {
     "data": {
      "text/plain": [
       "time.struct_time(tm_year=2024, tm_mon=1, tm_mday=1, tm_hour=0, tm_min=0, tm_sec=0, tm_wday=0, tm_yday=1, tm_isdst=-1)"
      ]
     },
     "execution_count": 13,
     "metadata": {},
     "output_type": "execute_result"
    }
   ],
   "source": [
    "pd.to_datetime(start_date).timetuple()"
   ]
  },
  {
   "cell_type": "code",
   "execution_count": 14,
   "id": "b118794a-2ef1-4be6-9c4a-bf51afdfeee9",
   "metadata": {},
   "outputs": [
    {
     "data": {
      "text/plain": [
       "1704085200.0"
      ]
     },
     "execution_count": 14,
     "metadata": {},
     "output_type": "execute_result"
    }
   ],
   "source": [
    "time.mktime(pd.to_datetime(start_date).timetuple())"
   ]
  },
  {
   "cell_type": "code",
   "execution_count": 15,
   "id": "1819d5d6-0f3b-4aef-a918-6ace7ab7be9b",
   "metadata": {},
   "outputs": [
    {
     "data": {
      "text/plain": [
       "1704085200"
      ]
     },
     "execution_count": 15,
     "metadata": {},
     "output_type": "execute_result"
    }
   ],
   "source": [
    "int(time.mktime(pd.to_datetime(start_date).timetuple()))"
   ]
  },
  {
   "cell_type": "code",
   "execution_count": 31,
   "id": "a396ccd7-21a3-475d-b240-4e73ca55d668",
   "metadata": {},
   "outputs": [],
   "source": [
    "from_timestamp = int(time.mktime(pd.to_datetime(start_date).timetuple()))\n",
    "to_timestamp = int(time.mktime(pd.to_datetime(end_date).timetuple()))"
   ]
  },
  {
   "cell_type": "markdown",
   "id": "86df4ef1-c248-49ae-abd4-33fec5703c69",
   "metadata": {},
   "source": [
    "#### Get the data"
   ]
  },
  {
   "cell_type": "code",
   "execution_count": 32,
   "id": "197f82ec-9e43-49be-b609-8dee37180c2f",
   "metadata": {},
   "outputs": [
    {
     "data": {
      "text/plain": [
       "dict"
      ]
     },
     "execution_count": 32,
     "metadata": {},
     "output_type": "execute_result"
    }
   ],
   "source": [
    "data = cg.get_coin_market_chart_range_by_id(id = \"bitcoin\",\n",
    "                                            vs_currency = \"usd\",\n",
    "                                            from_timestamp = from_timestamp,\n",
    "                                            to_timestamp = to_timestamp)\n",
    "type(data)"
   ]
  },
  {
   "cell_type": "code",
   "execution_count": 33,
   "id": "9b6b1709-48d2-42a2-a908-1b2757b80c2d",
   "metadata": {},
   "outputs": [
    {
     "data": {
      "text/html": [
       "<div>\n",
       "<style scoped>\n",
       "    .dataframe tbody tr th:only-of-type {\n",
       "        vertical-align: middle;\n",
       "    }\n",
       "\n",
       "    .dataframe tbody tr th {\n",
       "        vertical-align: top;\n",
       "    }\n",
       "\n",
       "    .dataframe thead th {\n",
       "        text-align: right;\n",
       "    }\n",
       "</style>\n",
       "<table border=\"1\" class=\"dataframe\">\n",
       "  <thead>\n",
       "    <tr style=\"text-align: right;\">\n",
       "      <th></th>\n",
       "      <th>Timestamp</th>\n",
       "      <th>Price</th>\n",
       "    </tr>\n",
       "  </thead>\n",
       "  <tbody>\n",
       "    <tr>\n",
       "      <th>0</th>\n",
       "      <td>1699156829487</td>\n",
       "      <td>35285.450652</td>\n",
       "    </tr>\n",
       "    <tr>\n",
       "      <th>1</th>\n",
       "      <td>1699160417102</td>\n",
       "      <td>35194.722133</td>\n",
       "    </tr>\n",
       "    <tr>\n",
       "      <th>2</th>\n",
       "      <td>1699164036211</td>\n",
       "      <td>35180.420595</td>\n",
       "    </tr>\n",
       "    <tr>\n",
       "      <th>3</th>\n",
       "      <td>1699167623137</td>\n",
       "      <td>35082.736491</td>\n",
       "    </tr>\n",
       "    <tr>\n",
       "      <th>4</th>\n",
       "      <td>1699171251030</td>\n",
       "      <td>35204.898928</td>\n",
       "    </tr>\n",
       "  </tbody>\n",
       "</table>\n",
       "</div>"
      ],
      "text/plain": [
       "       Timestamp         Price\n",
       "0  1699156829487  35285.450652\n",
       "1  1699160417102  35194.722133\n",
       "2  1699164036211  35180.420595\n",
       "3  1699167623137  35082.736491\n",
       "4  1699171251030  35204.898928"
      ]
     },
     "execution_count": 33,
     "metadata": {},
     "output_type": "execute_result"
    }
   ],
   "source": [
    "df = pd.DataFrame(data[\"prices\"], columns = [\"Timestamp\", \"Price\"])\n",
    "\n",
    "df.head()                  "
   ]
  },
  {
   "cell_type": "code",
   "execution_count": 34,
   "id": "e55f2a71-44ca-4482-b0c9-9c34420c505a",
   "metadata": {},
   "outputs": [
    {
     "data": {
      "text/html": [
       "<div>\n",
       "<style scoped>\n",
       "    .dataframe tbody tr th:only-of-type {\n",
       "        vertical-align: middle;\n",
       "    }\n",
       "\n",
       "    .dataframe tbody tr th {\n",
       "        vertical-align: top;\n",
       "    }\n",
       "\n",
       "    .dataframe thead th {\n",
       "        text-align: right;\n",
       "    }\n",
       "</style>\n",
       "<table border=\"1\" class=\"dataframe\">\n",
       "  <thead>\n",
       "    <tr style=\"text-align: right;\">\n",
       "      <th></th>\n",
       "      <th>Timestamp</th>\n",
       "      <th>Price</th>\n",
       "      <th>Date</th>\n",
       "    </tr>\n",
       "  </thead>\n",
       "  <tbody>\n",
       "    <tr>\n",
       "      <th>620</th>\n",
       "      <td>1701388860292</td>\n",
       "      <td>37711.818376</td>\n",
       "      <td>2023-12-01 00:01:00.292</td>\n",
       "    </tr>\n",
       "    <tr>\n",
       "      <th>621</th>\n",
       "      <td>1701392480275</td>\n",
       "      <td>37686.883494</td>\n",
       "      <td>2023-12-01 01:01:20.275</td>\n",
       "    </tr>\n",
       "    <tr>\n",
       "      <th>622</th>\n",
       "      <td>1701396035411</td>\n",
       "      <td>37952.976881</td>\n",
       "      <td>2023-12-01 02:00:35.411</td>\n",
       "    </tr>\n",
       "    <tr>\n",
       "      <th>623</th>\n",
       "      <td>1701399631877</td>\n",
       "      <td>37993.781302</td>\n",
       "      <td>2023-12-01 03:00:31.877</td>\n",
       "    </tr>\n",
       "    <tr>\n",
       "      <th>624</th>\n",
       "      <td>1701403225630</td>\n",
       "      <td>38056.214340</td>\n",
       "      <td>2023-12-01 04:00:25.630</td>\n",
       "    </tr>\n",
       "  </tbody>\n",
       "</table>\n",
       "</div>"
      ],
      "text/plain": [
       "         Timestamp         Price                    Date\n",
       "620  1701388860292  37711.818376 2023-12-01 00:01:00.292\n",
       "621  1701392480275  37686.883494 2023-12-01 01:01:20.275\n",
       "622  1701396035411  37952.976881 2023-12-01 02:00:35.411\n",
       "623  1701399631877  37993.781302 2023-12-01 03:00:31.877\n",
       "624  1701403225630  38056.214340 2023-12-01 04:00:25.630"
      ]
     },
     "execution_count": 34,
     "metadata": {},
     "output_type": "execute_result"
    }
   ],
   "source": [
    "df[\"Date\"] = pd.to_datetime(df[\"Timestamp\"], unit = \"ms\")\n",
    "df.tail()"
   ]
  },
  {
   "cell_type": "code",
   "execution_count": 35,
   "id": "5dc24d59-7268-423d-ba28-fd6940abce48",
   "metadata": {},
   "outputs": [
    {
     "data": {
      "text/html": [
       "<div>\n",
       "<style scoped>\n",
       "    .dataframe tbody tr th:only-of-type {\n",
       "        vertical-align: middle;\n",
       "    }\n",
       "\n",
       "    .dataframe tbody tr th {\n",
       "        vertical-align: top;\n",
       "    }\n",
       "\n",
       "    .dataframe thead th {\n",
       "        text-align: right;\n",
       "    }\n",
       "</style>\n",
       "<table border=\"1\" class=\"dataframe\">\n",
       "  <thead>\n",
       "    <tr style=\"text-align: right;\">\n",
       "      <th></th>\n",
       "      <th>Timestamp</th>\n",
       "      <th>Price</th>\n",
       "    </tr>\n",
       "    <tr>\n",
       "      <th>Date</th>\n",
       "      <th></th>\n",
       "      <th></th>\n",
       "    </tr>\n",
       "  </thead>\n",
       "  <tbody>\n",
       "    <tr>\n",
       "      <th>2023-11-05 04:00:29.487</th>\n",
       "      <td>1699156829487</td>\n",
       "      <td>35285.450652</td>\n",
       "    </tr>\n",
       "    <tr>\n",
       "      <th>2023-11-05 05:00:17.102</th>\n",
       "      <td>1699160417102</td>\n",
       "      <td>35194.722133</td>\n",
       "    </tr>\n",
       "    <tr>\n",
       "      <th>2023-11-05 06:00:36.211</th>\n",
       "      <td>1699164036211</td>\n",
       "      <td>35180.420595</td>\n",
       "    </tr>\n",
       "    <tr>\n",
       "      <th>2023-11-05 07:00:23.137</th>\n",
       "      <td>1699167623137</td>\n",
       "      <td>35082.736491</td>\n",
       "    </tr>\n",
       "    <tr>\n",
       "      <th>2023-11-05 08:00:51.030</th>\n",
       "      <td>1699171251030</td>\n",
       "      <td>35204.898928</td>\n",
       "    </tr>\n",
       "  </tbody>\n",
       "</table>\n",
       "</div>"
      ],
      "text/plain": [
       "                             Timestamp         Price\n",
       "Date                                                \n",
       "2023-11-05 04:00:29.487  1699156829487  35285.450652\n",
       "2023-11-05 05:00:17.102  1699160417102  35194.722133\n",
       "2023-11-05 06:00:36.211  1699164036211  35180.420595\n",
       "2023-11-05 07:00:23.137  1699167623137  35082.736491\n",
       "2023-11-05 08:00:51.030  1699171251030  35204.898928"
      ]
     },
     "execution_count": 35,
     "metadata": {},
     "output_type": "execute_result"
    }
   ],
   "source": [
    "df.set_index(\"Date\", inplace=True)\n",
    "df.head()"
   ]
  },
  {
   "cell_type": "markdown",
   "id": "f06a686f-2bbe-4e62-b331-66200f6d236a",
   "metadata": {},
   "source": [
    "#### Using `resample()` to get 4-hourly data"
   ]
  },
  {
   "cell_type": "code",
   "execution_count": 26,
   "id": "9a14e879-234c-4f2a-bde9-302f0dfd0014",
   "metadata": {},
   "outputs": [
    {
     "data": {
      "text/html": [
       "<div>\n",
       "<style scoped>\n",
       "    .dataframe tbody tr th:only-of-type {\n",
       "        vertical-align: middle;\n",
       "    }\n",
       "\n",
       "    .dataframe tbody tr th {\n",
       "        vertical-align: top;\n",
       "    }\n",
       "\n",
       "    .dataframe thead th {\n",
       "        text-align: right;\n",
       "    }\n",
       "</style>\n",
       "<table border=\"1\" class=\"dataframe\">\n",
       "  <thead>\n",
       "    <tr style=\"text-align: right;\">\n",
       "      <th></th>\n",
       "      <th>Timestamp</th>\n",
       "      <th>Price</th>\n",
       "    </tr>\n",
       "    <tr>\n",
       "      <th>Date</th>\n",
       "      <th></th>\n",
       "      <th></th>\n",
       "    </tr>\n",
       "  </thead>\n",
       "  <tbody>\n",
       "    <tr>\n",
       "      <th>2023-11-05 04:00:00</th>\n",
       "      <td>1699156829487</td>\n",
       "      <td>35285.450652</td>\n",
       "    </tr>\n",
       "    <tr>\n",
       "      <th>2023-11-05 08:00:00</th>\n",
       "      <td>1699171251030</td>\n",
       "      <td>35204.898928</td>\n",
       "    </tr>\n",
       "    <tr>\n",
       "      <th>2023-11-05 12:00:00</th>\n",
       "      <td>1699185606559</td>\n",
       "      <td>35100.903834</td>\n",
       "    </tr>\n",
       "    <tr>\n",
       "      <th>2023-11-05 16:00:00</th>\n",
       "      <td>1699200024087</td>\n",
       "      <td>34913.588139</td>\n",
       "    </tr>\n",
       "    <tr>\n",
       "      <th>2023-11-05 20:00:00</th>\n",
       "      <td>1699214452413</td>\n",
       "      <td>35017.058006</td>\n",
       "    </tr>\n",
       "  </tbody>\n",
       "</table>\n",
       "</div>"
      ],
      "text/plain": [
       "                         Timestamp         Price\n",
       "Date                                            \n",
       "2023-11-05 04:00:00  1699156829487  35285.450652\n",
       "2023-11-05 08:00:00  1699171251030  35204.898928\n",
       "2023-11-05 12:00:00  1699185606559  35100.903834\n",
       "2023-11-05 16:00:00  1699200024087  34913.588139\n",
       "2023-11-05 20:00:00  1699214452413  35017.058006"
      ]
     },
     "execution_count": 26,
     "metadata": {},
     "output_type": "execute_result"
    }
   ],
   "source": [
    "df_4h = df.resample('4h').first()\n",
    "\n",
    "df_4h.head()"
   ]
  },
  {
   "cell_type": "markdown",
   "id": "38a7c535-b69a-40f6-9c86-a33ea3f08552",
   "metadata": {},
   "source": [
    "### 1.3 fetch hourly data ranging more than 30 days"
   ]
  },
  {
   "cell_type": "code",
   "execution_count": 36,
   "id": "ac36b26c-2f1d-4ecd-acf8-d25d0b117f7b",
   "metadata": {},
   "outputs": [],
   "source": [
    "import pandas as pd\n",
    "from pycoingecko import CoinGeckoAPI\n",
    "import time"
   ]
  },
  {
   "cell_type": "code",
   "execution_count": null,
   "id": "b8e6cd04-88c4-4778-9bad-473240857111",
   "metadata": {},
   "outputs": [],
   "source": [
    "start_date = \"2024-01-08\""
   ]
  },
  {
   "cell_type": "code",
   "execution_count": 37,
   "id": "c64c36a8-fd5f-4184-9f88-51212980aada",
   "metadata": {},
   "outputs": [
    {
     "data": {
      "text/plain": [
       "Timestamp('2023-11-05 00:00:00')"
      ]
     },
     "execution_count": 37,
     "metadata": {},
     "output_type": "execute_result"
    }
   ],
   "source": [
    "current_start = pd.to_datetime(start_date)\n",
    "current_start"
   ]
  },
  {
   "cell_type": "code",
   "execution_count": 38,
   "id": "4d33a807-c00c-4da5-a808-39c37ae6b6c3",
   "metadata": {},
   "outputs": [
    {
     "data": {
      "text/plain": [
       "<DateOffset: days=30>"
      ]
     },
     "execution_count": 38,
     "metadata": {},
     "output_type": "execute_result"
    }
   ],
   "source": [
    "pd.DateOffset(days=30)"
   ]
  },
  {
   "cell_type": "code",
   "execution_count": 39,
   "id": "c765c51e-8a79-439a-8c54-d6e74c5b9374",
   "metadata": {},
   "outputs": [
    {
     "data": {
      "text/plain": [
       "Timestamp('2023-12-05 00:00:00')"
      ]
     },
     "execution_count": 39,
     "metadata": {},
     "output_type": "execute_result"
    }
   ],
   "source": [
    "current_end = current_start + pd.DateOffset(days=30)\n",
    "current_end"
   ]
  },
  {
   "cell_type": "code",
   "execution_count": 41,
   "id": "736dc40f-f97f-4258-82e9-d766b4fe9640",
   "metadata": {},
   "outputs": [
    {
     "data": {
      "text/plain": [
       "True"
      ]
     },
     "execution_count": 41,
     "metadata": {},
     "output_type": "execute_result"
    }
   ],
   "source": [
    "current_start < current_end"
   ]
  },
  {
   "cell_type": "code",
   "execution_count": 40,
   "id": "06e32040-4e7b-4374-acbf-98fb21bad748",
   "metadata": {},
   "outputs": [
    {
     "data": {
      "text/plain": [
       "1699142400.0"
      ]
     },
     "execution_count": 40,
     "metadata": {},
     "output_type": "execute_result"
    }
   ],
   "source": [
    "current_start.timestamp()"
   ]
  },
  {
   "cell_type": "code",
   "execution_count": null,
   "id": "851dcde8-c227-4316-9ea4-e9636e72d3d2",
   "metadata": {},
   "outputs": [],
   "source": [
    "def fetch_hourly_data(coin_id, vs_currency, start_date, end_date):\n",
    "    \"\"\"\n",
    "    \"\"\"\n",
    "    cg = CoinGeckoAPI()\n",
    "    df_list = []\n",
    "\n",
    "    current_start = pd.to_datetime(start_date)\n",
    "    end = pd.to_datetime(end_date)\n",
    "\n",
    "    while current_start < end:\n",
    "        current_end = current_start + pd.DateOffset(days = 30)\n",
    "\n",
    "        if current_end > end:\n",
    "            current_end = end\n",
    "\n",
    "        from_timestamp = int(current_start.timestamp())\n",
    "        to_timestamp = int(current_end.timestamp())\n",
    "                             \n",
    "        data = cg.get_coin_market_chart_range_by_id(id = coin_id, vs_currency = vs_currency,\n",
    "                                                from_timestamp = from_timestamp, to_timestamp = to_timestamp)\n",
    "\n",
    "        df = pd.DataFrame(data[\"prices\"], columns = [\"Timestamp\", \"Price\"])\n",
    "        df[\"Date\"] = pd.to_datetime(df[\"Timestamp\"], unit=\"ms\")\n",
    "        df.set_index(\"Date\", inplace = True)\n",
    "\n",
    "        df_list.append(df)\n",
    "\n",
    "    return pd.concat(df_list)\n",
    "                          \n",
    "                            "
   ]
  },
  {
   "cell_type": "code",
   "execution_count": 44,
   "id": "41c6439b-a6ae-4877-ac25-50696313b236",
   "metadata": {},
   "outputs": [
    {
     "data": {
      "text/plain": [
       "[            Close\n",
       " Date             \n",
       " 2023-01-01    100\n",
       " 2023-01-02    101\n",
       " 2023-01-03    102,\n",
       "             Close\n",
       " Date             \n",
       " 2023-01-04    103\n",
       " 2023-01-05    104\n",
       " 2023-01-06    105,\n",
       "             Close\n",
       " Date             \n",
       " 2023-01-07    106\n",
       " 2023-01-08    107\n",
       " 2023-01-09    108]"
      ]
     },
     "execution_count": 44,
     "metadata": {},
     "output_type": "execute_result"
    }
   ],
   "source": [
    "df1 = pd.DataFrame({\n",
    "    'Date': ['2023-01-01', '2023-01-02', '2023-01-03'],\n",
    "    'Close': [100, 101, 102]\n",
    "})\n",
    "\n",
    "df2 = pd.DataFrame({\n",
    "    'Date': ['2023-01-04', '2023-01-05', '2023-01-06'],\n",
    "    'Close': [103, 104, 105]\n",
    "})\n",
    "\n",
    "df3 = pd.DataFrame({\n",
    "    'Date': ['2023-01-07', '2023-01-08', '2023-01-09'],\n",
    "    'Close': [106, 107, 108]\n",
    "})\n",
    "\n",
    "\n",
    "df1['Date'] = pd.to_datetime(df1['Date'])\n",
    "df2['Date'] = pd.to_datetime(df2['Date'])\n",
    "df3['Date'] = pd.to_datetime(df3['Date'])\n",
    "\n",
    "df1.set_index('Date', inplace=True)\n",
    "df2.set_index('Date', inplace=True)\n",
    "df3.set_index('Date', inplace=True)\n",
    "\n",
    "\n",
    "df_list = [df1, df2, df3]\n",
    "df_list"
   ]
  },
  {
   "cell_type": "code",
   "execution_count": 45,
   "id": "1a9d776c-e5a7-4350-a7fc-bf0542364c21",
   "metadata": {},
   "outputs": [
    {
     "data": {
      "text/html": [
       "<div>\n",
       "<style scoped>\n",
       "    .dataframe tbody tr th:only-of-type {\n",
       "        vertical-align: middle;\n",
       "    }\n",
       "\n",
       "    .dataframe tbody tr th {\n",
       "        vertical-align: top;\n",
       "    }\n",
       "\n",
       "    .dataframe thead th {\n",
       "        text-align: right;\n",
       "    }\n",
       "</style>\n",
       "<table border=\"1\" class=\"dataframe\">\n",
       "  <thead>\n",
       "    <tr style=\"text-align: right;\">\n",
       "      <th></th>\n",
       "      <th>Close</th>\n",
       "    </tr>\n",
       "    <tr>\n",
       "      <th>Date</th>\n",
       "      <th></th>\n",
       "    </tr>\n",
       "  </thead>\n",
       "  <tbody>\n",
       "    <tr>\n",
       "      <th>2023-01-01</th>\n",
       "      <td>100</td>\n",
       "    </tr>\n",
       "    <tr>\n",
       "      <th>2023-01-02</th>\n",
       "      <td>101</td>\n",
       "    </tr>\n",
       "    <tr>\n",
       "      <th>2023-01-03</th>\n",
       "      <td>102</td>\n",
       "    </tr>\n",
       "    <tr>\n",
       "      <th>2023-01-04</th>\n",
       "      <td>103</td>\n",
       "    </tr>\n",
       "    <tr>\n",
       "      <th>2023-01-05</th>\n",
       "      <td>104</td>\n",
       "    </tr>\n",
       "    <tr>\n",
       "      <th>2023-01-06</th>\n",
       "      <td>105</td>\n",
       "    </tr>\n",
       "    <tr>\n",
       "      <th>2023-01-07</th>\n",
       "      <td>106</td>\n",
       "    </tr>\n",
       "    <tr>\n",
       "      <th>2023-01-08</th>\n",
       "      <td>107</td>\n",
       "    </tr>\n",
       "    <tr>\n",
       "      <th>2023-01-09</th>\n",
       "      <td>108</td>\n",
       "    </tr>\n",
       "  </tbody>\n",
       "</table>\n",
       "</div>"
      ],
      "text/plain": [
       "            Close\n",
       "Date             \n",
       "2023-01-01    100\n",
       "2023-01-02    101\n",
       "2023-01-03    102\n",
       "2023-01-04    103\n",
       "2023-01-05    104\n",
       "2023-01-06    105\n",
       "2023-01-07    106\n",
       "2023-01-08    107\n",
       "2023-01-09    108"
      ]
     },
     "execution_count": 45,
     "metadata": {},
     "output_type": "execute_result"
    }
   ],
   "source": [
    "pd.concat(df_list)"
   ]
  },
  {
   "cell_type": "markdown",
   "id": "747cefa0-c166-401b-b7d7-1d6a382670cb",
   "metadata": {},
   "source": [
    "### 1.4 CoinGecko Data Generator"
   ]
  },
  {
   "cell_type": "code",
   "execution_count": 2,
   "id": "b2f7e05b-0a45-48a3-a8a0-a701666b1728",
   "metadata": {},
   "outputs": [
    {
     "name": "stdout",
     "output_type": "stream",
     "text": [
      "fetching hourly data from 2023-11-01 00:00:00 to 2023-12-01 00:00:00...\n",
      "fetching hourly data from 2023-12-02 00:00:00 to 2024-01-01 00:00:00...\n",
      "fetching hourly data from 2024-01-02 00:00:00 to 2024-02-01 00:00:00...\n",
      "fetching hourly data from 2024-02-02 00:00:00 to 2024-03-03 00:00:00...\n",
      "fetching hourly data from 2024-03-04 00:00:00 to 2024-04-03 00:00:00...\n",
      "fetching hourly data from 2024-04-04 00:00:00 to 2024-05-04 00:00:00...\n",
      "fetching hourly data from 2024-05-05 00:00:00 to 2024-06-04 00:00:00...\n",
      "fetching hourly data from 2024-06-05 00:00:00 to 2024-07-05 00:00:00...\n",
      "fetching hourly data from 2024-07-06 00:00:00 to 2024-08-05 00:00:00...\n",
      "fetching hourly data from 2024-08-06 00:00:00 to 2024-09-05 00:00:00...\n",
      "fetching hourly data from 2024-09-06 00:00:00 to 2024-10-01 00:00:00...\n",
      "Data has been saved to ../data/bitcoin_4h_data.csv with 4h intervals.\n"
     ]
    }
   ],
   "source": [
    "import pandas as pd\n",
    "from pycoingecko import CoinGeckoAPI\n",
    "import time\n",
    "\n",
    "def fetch_hourly_data(coin_id, vs_currency, start_date, end_date):\n",
    "    \"\"\"\n",
    "    Fetch hourly cryptocurrency data using the range API from CoinGeckoAPI in chunks of 30 days\n",
    "\n",
    "    :param coin_id: CoinGecko ID of the cryptocurrency (default is Bitcoin \"bitcoin\").\n",
    "    :param vs_currency: The currency in which to get the market data (default is USD \"usd\").\n",
    "    :param start_date: The start date for the data (format 'YYYY-MM-DD').\n",
    "    :param end_date: The end date for the data (format 'YYYY-MM-DD').\n",
    "    :return: A DataFrame\n",
    "    \"\"\"\n",
    "    \n",
    "    cg = CoinGeckoAPI()\n",
    "    df_list = []\n",
    "\n",
    "    current_start = pd.to_datetime(start_date)\n",
    "    end = pd.to_datetime(end_date)\n",
    "\n",
    "    while current_start < end:\n",
    "        current_end = current_start + pd.DateOffset(days = 30)\n",
    "\n",
    "        if current_end > end:\n",
    "            current_end = end\n",
    "\n",
    "        from_timestamp = int(current_start.timestamp())\n",
    "        to_timestamp = int(current_end.timestamp())\n",
    "\n",
    "        print(f\"fetching hourly data from {current_start} to {current_end}...\")\n",
    "        data = cg.get_coin_market_chart_range_by_id(id = coin_id, vs_currency = vs_currency,\n",
    "                                                from_timestamp = from_timestamp, to_timestamp = to_timestamp)\n",
    "\n",
    "        # convert data to a dataframe\n",
    "        df = pd.DataFrame(data[\"prices\"], columns = [\"Timestamp\", \"Price\"])\n",
    "        df[\"Date\"] = pd.to_datetime(df[\"Timestamp\"], unit=\"ms\")\n",
    "        df.set_index(\"Date\", inplace = True)\n",
    "\n",
    "        df_list.append(df)\n",
    "\n",
    "        # Add a delay between requests to avoid hitting the rate limit\n",
    "        time.sleep(11)   # wait 21 seconds\n",
    "\n",
    "        # update the current_start\n",
    "        current_start = current_end\n",
    "\n",
    "    \n",
    "    # Concatenate all dataframes into one dataframe\n",
    "    return pd.concat(df_list)\n",
    "\n",
    "\n",
    "def generate_data_coingecko(output_path, coin_id = \"bitcoin\", vs_currency = \"usd\",\n",
    "                            start_date = \"2023-11-01\", end_date = \"2024-10-01\",\n",
    "                            interval = \"4h\"):\n",
    "    \"\"\"\n",
    "    Fetch cryptocurrency data using the range API from CoinGeckoAPI,\n",
    "    resample to the desired interval, and save it as a CSV file.\n",
    "\n",
    "    :param output_path: Path to save the CSV file.\n",
    "    :param coin_id: CoinGecko ID of the cryptocurrency (default is Bitcoin \"bitcoin\").\n",
    "    :param vs_currency: The currency in which to get the market data (default is USD \"usd\").\n",
    "    :param start_date: The start date for the data (format 'YYYY-MM-DD').\n",
    "    :param end_date: The end date for the data (format 'YYYY-MM-DD').\n",
    "    :param interval: Desired resampling interval (e.g., '4h' for 4-hour intervals).\n",
    "    \"\"\"\n",
    "\n",
    "    # Fetch the hourly data using helper function\n",
    "    df = fetch_hourly_data(coin_id, vs_currency, start_date, end_date)\n",
    "    \n",
    "    # Resample the data to desired interval\n",
    "    df_resampled = df.resample(interval).first()\n",
    "\n",
    "    # Save teh data as a CSV file to the output path\n",
    "    df_resampled.to_csv(output_path)\n",
    "    print(f\"Data has been saved to {output_path} with {interval} intervals.\")\n",
    " \n",
    "    \n",
    "\n",
    "if __name__ == \"__main__\":\n",
    "    generate_data_coingecko(\"../data/bitcoin_4h_data.csv\",coin_id = \"bitcoin\", vs_currency = \"usd\",\n",
    "                            start_date = \"2023-11-01\", end_date = \"2024-10-01\",\n",
    "                            interval = \"4h\")\n",
    "    \n"
   ]
  },
  {
   "cell_type": "markdown",
   "id": "0a528b9f-7c99-42a4-8053-f855e1eecb08",
   "metadata": {
    "jp-MarkdownHeadingCollapsed": true
   },
   "source": [
    "## 2. CoinCap\n",
    "\n",
    "Can only get 1 month daily data"
   ]
  },
  {
   "cell_type": "code",
   "execution_count": 40,
   "id": "9a7fca99-919e-4769-9b01-aef8b17cbac8",
   "metadata": {},
   "outputs": [],
   "source": [
    "import requests\n",
    "import pandas as pd"
   ]
  },
  {
   "cell_type": "code",
   "execution_count": 41,
   "id": "b6c53245-34b6-4e1b-b1d9-d9b560a81617",
   "metadata": {},
   "outputs": [],
   "source": [
    "url = \"https://api.coincap.io/v2/assets/ethereum/history?interval=d1\"\n",
    "response = requests.get(url)\n",
    "data = response.json()"
   ]
  },
  {
   "cell_type": "code",
   "execution_count": 42,
   "id": "8f51c17b-8a7f-4d73-95d7-76d9e4610ef2",
   "metadata": {},
   "outputs": [
    {
     "data": {
      "text/plain": [
       "dict"
      ]
     },
     "execution_count": 42,
     "metadata": {},
     "output_type": "execute_result"
    }
   ],
   "source": [
    "type(data)"
   ]
  },
  {
   "cell_type": "code",
   "execution_count": 43,
   "id": "f9fc8ace-ca37-491b-be79-2f46ee52a095",
   "metadata": {},
   "outputs": [],
   "source": [
    "df = pd.DataFrame(data['data'])\n",
    "df['date'] = pd.to_datetime(df['time'], unit='ms')\n",
    "df.set_index('date', inplace=True)\n",
    "df = df[['priceUsd']].rename(columns={'priceUsd': 'Price'})"
   ]
  },
  {
   "cell_type": "code",
   "execution_count": 44,
   "id": "b5ac6b8e-2c1f-458b-8d5a-820325bc4d22",
   "metadata": {},
   "outputs": [
    {
     "data": {
      "text/html": [
       "<div>\n",
       "<style scoped>\n",
       "    .dataframe tbody tr th:only-of-type {\n",
       "        vertical-align: middle;\n",
       "    }\n",
       "\n",
       "    .dataframe tbody tr th {\n",
       "        vertical-align: top;\n",
       "    }\n",
       "\n",
       "    .dataframe thead th {\n",
       "        text-align: right;\n",
       "    }\n",
       "</style>\n",
       "<table border=\"1\" class=\"dataframe\">\n",
       "  <thead>\n",
       "    <tr style=\"text-align: right;\">\n",
       "      <th></th>\n",
       "      <th>Price</th>\n",
       "    </tr>\n",
       "    <tr>\n",
       "      <th>date</th>\n",
       "      <th></th>\n",
       "    </tr>\n",
       "  </thead>\n",
       "  <tbody>\n",
       "    <tr>\n",
       "      <th>2023-10-28</th>\n",
       "      <td>1788.0622255959847182</td>\n",
       "    </tr>\n",
       "    <tr>\n",
       "      <th>2023-10-29</th>\n",
       "      <td>1791.8593855739585031</td>\n",
       "    </tr>\n",
       "    <tr>\n",
       "      <th>2023-10-30</th>\n",
       "      <td>1804.0195782396389757</td>\n",
       "    </tr>\n",
       "    <tr>\n",
       "      <th>2023-10-31</th>\n",
       "      <td>1804.9241300449436976</td>\n",
       "    </tr>\n",
       "    <tr>\n",
       "      <th>2023-11-01</th>\n",
       "      <td>1814.1532215049560994</td>\n",
       "    </tr>\n",
       "  </tbody>\n",
       "</table>\n",
       "</div>"
      ],
      "text/plain": [
       "                            Price\n",
       "date                             \n",
       "2023-10-28  1788.0622255959847182\n",
       "2023-10-29  1791.8593855739585031\n",
       "2023-10-30  1804.0195782396389757\n",
       "2023-10-31  1804.9241300449436976\n",
       "2023-11-01  1814.1532215049560994"
      ]
     },
     "execution_count": 44,
     "metadata": {},
     "output_type": "execute_result"
    }
   ],
   "source": [
    "df.head()"
   ]
  },
  {
   "cell_type": "code",
   "execution_count": 45,
   "id": "f3683d4e-d712-4d56-88a8-e1b1142a51a7",
   "metadata": {},
   "outputs": [
    {
     "data": {
      "text/html": [
       "<div>\n",
       "<style scoped>\n",
       "    .dataframe tbody tr th:only-of-type {\n",
       "        vertical-align: middle;\n",
       "    }\n",
       "\n",
       "    .dataframe tbody tr th {\n",
       "        vertical-align: top;\n",
       "    }\n",
       "\n",
       "    .dataframe thead th {\n",
       "        text-align: right;\n",
       "    }\n",
       "</style>\n",
       "<table border=\"1\" class=\"dataframe\">\n",
       "  <thead>\n",
       "    <tr style=\"text-align: right;\">\n",
       "      <th></th>\n",
       "      <th>Price</th>\n",
       "    </tr>\n",
       "    <tr>\n",
       "      <th>date</th>\n",
       "      <th></th>\n",
       "    </tr>\n",
       "  </thead>\n",
       "  <tbody>\n",
       "    <tr>\n",
       "      <th>2024-10-21</th>\n",
       "      <td>2702.4709225433300124</td>\n",
       "    </tr>\n",
       "    <tr>\n",
       "      <th>2024-10-22</th>\n",
       "      <td>2633.9876711020570245</td>\n",
       "    </tr>\n",
       "    <tr>\n",
       "      <th>2024-10-23</th>\n",
       "      <td>2565.1936050129203745</td>\n",
       "    </tr>\n",
       "    <tr>\n",
       "      <th>2024-10-24</th>\n",
       "      <td>2534.2717917868754643</td>\n",
       "    </tr>\n",
       "    <tr>\n",
       "      <th>2024-10-25</th>\n",
       "      <td>2509.4665188101942362</td>\n",
       "    </tr>\n",
       "  </tbody>\n",
       "</table>\n",
       "</div>"
      ],
      "text/plain": [
       "                            Price\n",
       "date                             \n",
       "2024-10-21  2702.4709225433300124\n",
       "2024-10-22  2633.9876711020570245\n",
       "2024-10-23  2565.1936050129203745\n",
       "2024-10-24  2534.2717917868754643\n",
       "2024-10-25  2509.4665188101942362"
      ]
     },
     "execution_count": 45,
     "metadata": {},
     "output_type": "execute_result"
    }
   ],
   "source": [
    "df.tail()"
   ]
  },
  {
   "cell_type": "markdown",
   "id": "0fc5bd52-52d4-4c89-bf74-7851cb1e8bae",
   "metadata": {},
   "source": [
    "## 3. Yahoo Finance"
   ]
  },
  {
   "cell_type": "code",
   "execution_count": 33,
   "id": "8491cd29-2b24-4324-8a07-d80c2f66388a",
   "metadata": {},
   "outputs": [
    {
     "name": "stderr",
     "output_type": "stream",
     "text": [
      "[*********************100%***********************]  1 of 1 completed\n"
     ]
    }
   ],
   "source": [
    "import yfinance as yf\n",
    "import pandas as pd\n",
    "\n",
    "eth_data = yf.download('ETH-USD', start='2015-01-01', interval='1d')"
   ]
  },
  {
   "cell_type": "code",
   "execution_count": 34,
   "id": "52dadf98-b2b7-4f9a-868d-cad1f3113b43",
   "metadata": {},
   "outputs": [
    {
     "data": {
      "text/html": [
       "<div>\n",
       "<style scoped>\n",
       "    .dataframe tbody tr th:only-of-type {\n",
       "        vertical-align: middle;\n",
       "    }\n",
       "\n",
       "    .dataframe tbody tr th {\n",
       "        vertical-align: top;\n",
       "    }\n",
       "\n",
       "    .dataframe thead tr th {\n",
       "        text-align: left;\n",
       "    }\n",
       "\n",
       "    .dataframe thead tr:last-of-type th {\n",
       "        text-align: right;\n",
       "    }\n",
       "</style>\n",
       "<table border=\"1\" class=\"dataframe\">\n",
       "  <thead>\n",
       "    <tr>\n",
       "      <th>Price</th>\n",
       "      <th>Adj Close</th>\n",
       "      <th>Close</th>\n",
       "      <th>High</th>\n",
       "      <th>Low</th>\n",
       "      <th>Open</th>\n",
       "      <th>Volume</th>\n",
       "    </tr>\n",
       "    <tr>\n",
       "      <th>Ticker</th>\n",
       "      <th>ETH-USD</th>\n",
       "      <th>ETH-USD</th>\n",
       "      <th>ETH-USD</th>\n",
       "      <th>ETH-USD</th>\n",
       "      <th>ETH-USD</th>\n",
       "      <th>ETH-USD</th>\n",
       "    </tr>\n",
       "    <tr>\n",
       "      <th>Date</th>\n",
       "      <th></th>\n",
       "      <th></th>\n",
       "      <th></th>\n",
       "      <th></th>\n",
       "      <th></th>\n",
       "      <th></th>\n",
       "    </tr>\n",
       "  </thead>\n",
       "  <tbody>\n",
       "    <tr>\n",
       "      <th>2017-11-09 00:00:00+00:00</th>\n",
       "      <td>320.884003</td>\n",
       "      <td>320.884003</td>\n",
       "      <td>329.451996</td>\n",
       "      <td>307.056000</td>\n",
       "      <td>308.644989</td>\n",
       "      <td>893249984</td>\n",
       "    </tr>\n",
       "    <tr>\n",
       "      <th>2017-11-10 00:00:00+00:00</th>\n",
       "      <td>299.252991</td>\n",
       "      <td>299.252991</td>\n",
       "      <td>324.717987</td>\n",
       "      <td>294.541992</td>\n",
       "      <td>320.670990</td>\n",
       "      <td>885985984</td>\n",
       "    </tr>\n",
       "    <tr>\n",
       "      <th>2017-11-11 00:00:00+00:00</th>\n",
       "      <td>314.681000</td>\n",
       "      <td>314.681000</td>\n",
       "      <td>319.453003</td>\n",
       "      <td>298.191986</td>\n",
       "      <td>298.585999</td>\n",
       "      <td>842300992</td>\n",
       "    </tr>\n",
       "    <tr>\n",
       "      <th>2017-11-12 00:00:00+00:00</th>\n",
       "      <td>307.907990</td>\n",
       "      <td>307.907990</td>\n",
       "      <td>319.153015</td>\n",
       "      <td>298.513000</td>\n",
       "      <td>314.690002</td>\n",
       "      <td>1613479936</td>\n",
       "    </tr>\n",
       "    <tr>\n",
       "      <th>2017-11-13 00:00:00+00:00</th>\n",
       "      <td>316.716003</td>\n",
       "      <td>316.716003</td>\n",
       "      <td>328.415009</td>\n",
       "      <td>307.024994</td>\n",
       "      <td>307.024994</td>\n",
       "      <td>1041889984</td>\n",
       "    </tr>\n",
       "  </tbody>\n",
       "</table>\n",
       "</div>"
      ],
      "text/plain": [
       "Price                       Adj Close       Close        High         Low  \\\n",
       "Ticker                        ETH-USD     ETH-USD     ETH-USD     ETH-USD   \n",
       "Date                                                                        \n",
       "2017-11-09 00:00:00+00:00  320.884003  320.884003  329.451996  307.056000   \n",
       "2017-11-10 00:00:00+00:00  299.252991  299.252991  324.717987  294.541992   \n",
       "2017-11-11 00:00:00+00:00  314.681000  314.681000  319.453003  298.191986   \n",
       "2017-11-12 00:00:00+00:00  307.907990  307.907990  319.153015  298.513000   \n",
       "2017-11-13 00:00:00+00:00  316.716003  316.716003  328.415009  307.024994   \n",
       "\n",
       "Price                            Open      Volume  \n",
       "Ticker                        ETH-USD     ETH-USD  \n",
       "Date                                               \n",
       "2017-11-09 00:00:00+00:00  308.644989   893249984  \n",
       "2017-11-10 00:00:00+00:00  320.670990   885985984  \n",
       "2017-11-11 00:00:00+00:00  298.585999   842300992  \n",
       "2017-11-12 00:00:00+00:00  314.690002  1613479936  \n",
       "2017-11-13 00:00:00+00:00  307.024994  1041889984  "
      ]
     },
     "execution_count": 34,
     "metadata": {},
     "output_type": "execute_result"
    }
   ],
   "source": [
    "eth_data.head()"
   ]
  },
  {
   "cell_type": "code",
   "execution_count": 35,
   "id": "d3648539-9178-4aae-9876-80fb7c6404a4",
   "metadata": {},
   "outputs": [
    {
     "data": {
      "text/html": [
       "<div>\n",
       "<style scoped>\n",
       "    .dataframe tbody tr th:only-of-type {\n",
       "        vertical-align: middle;\n",
       "    }\n",
       "\n",
       "    .dataframe tbody tr th {\n",
       "        vertical-align: top;\n",
       "    }\n",
       "\n",
       "    .dataframe thead tr th {\n",
       "        text-align: left;\n",
       "    }\n",
       "\n",
       "    .dataframe thead tr:last-of-type th {\n",
       "        text-align: right;\n",
       "    }\n",
       "</style>\n",
       "<table border=\"1\" class=\"dataframe\">\n",
       "  <thead>\n",
       "    <tr>\n",
       "      <th>Price</th>\n",
       "      <th>Adj Close</th>\n",
       "      <th>Close</th>\n",
       "      <th>High</th>\n",
       "      <th>Low</th>\n",
       "      <th>Open</th>\n",
       "      <th>Volume</th>\n",
       "    </tr>\n",
       "    <tr>\n",
       "      <th>Ticker</th>\n",
       "      <th>ETH-USD</th>\n",
       "      <th>ETH-USD</th>\n",
       "      <th>ETH-USD</th>\n",
       "      <th>ETH-USD</th>\n",
       "      <th>ETH-USD</th>\n",
       "      <th>ETH-USD</th>\n",
       "    </tr>\n",
       "    <tr>\n",
       "      <th>Date</th>\n",
       "      <th></th>\n",
       "      <th></th>\n",
       "      <th></th>\n",
       "      <th></th>\n",
       "      <th></th>\n",
       "      <th></th>\n",
       "    </tr>\n",
       "  </thead>\n",
       "  <tbody>\n",
       "    <tr>\n",
       "      <th>2024-10-21 00:00:00+00:00</th>\n",
       "      <td>2665.712158</td>\n",
       "      <td>2665.712158</td>\n",
       "      <td>2765.549561</td>\n",
       "      <td>2655.294434</td>\n",
       "      <td>2746.305664</td>\n",
       "      <td>17328615363</td>\n",
       "    </tr>\n",
       "    <tr>\n",
       "      <th>2024-10-22 00:00:00+00:00</th>\n",
       "      <td>2620.197510</td>\n",
       "      <td>2620.197510</td>\n",
       "      <td>2669.790039</td>\n",
       "      <td>2605.618652</td>\n",
       "      <td>2665.656738</td>\n",
       "      <td>15541911074</td>\n",
       "    </tr>\n",
       "    <tr>\n",
       "      <th>2024-10-23 00:00:00+00:00</th>\n",
       "      <td>2509.098877</td>\n",
       "      <td>2509.098877</td>\n",
       "      <td>2624.450439</td>\n",
       "      <td>2457.169922</td>\n",
       "      <td>2620.088623</td>\n",
       "      <td>17876984551</td>\n",
       "    </tr>\n",
       "    <tr>\n",
       "      <th>2024-10-24 00:00:00+00:00</th>\n",
       "      <td>2534.498535</td>\n",
       "      <td>2534.498535</td>\n",
       "      <td>2559.151367</td>\n",
       "      <td>2506.722900</td>\n",
       "      <td>2523.606934</td>\n",
       "      <td>16128627601</td>\n",
       "    </tr>\n",
       "    <tr>\n",
       "      <th>2024-10-26 00:00:00+00:00</th>\n",
       "      <td>2450.075439</td>\n",
       "      <td>2450.075439</td>\n",
       "      <td>2450.075439</td>\n",
       "      <td>2428.771240</td>\n",
       "      <td>2435.932861</td>\n",
       "      <td>24082782208</td>\n",
       "    </tr>\n",
       "  </tbody>\n",
       "</table>\n",
       "</div>"
      ],
      "text/plain": [
       "Price                        Adj Close        Close         High          Low  \\\n",
       "Ticker                         ETH-USD      ETH-USD      ETH-USD      ETH-USD   \n",
       "Date                                                                            \n",
       "2024-10-21 00:00:00+00:00  2665.712158  2665.712158  2765.549561  2655.294434   \n",
       "2024-10-22 00:00:00+00:00  2620.197510  2620.197510  2669.790039  2605.618652   \n",
       "2024-10-23 00:00:00+00:00  2509.098877  2509.098877  2624.450439  2457.169922   \n",
       "2024-10-24 00:00:00+00:00  2534.498535  2534.498535  2559.151367  2506.722900   \n",
       "2024-10-26 00:00:00+00:00  2450.075439  2450.075439  2450.075439  2428.771240   \n",
       "\n",
       "Price                             Open       Volume  \n",
       "Ticker                         ETH-USD      ETH-USD  \n",
       "Date                                                 \n",
       "2024-10-21 00:00:00+00:00  2746.305664  17328615363  \n",
       "2024-10-22 00:00:00+00:00  2665.656738  15541911074  \n",
       "2024-10-23 00:00:00+00:00  2620.088623  17876984551  \n",
       "2024-10-24 00:00:00+00:00  2523.606934  16128627601  \n",
       "2024-10-26 00:00:00+00:00  2435.932861  24082782208  "
      ]
     },
     "execution_count": 35,
     "metadata": {},
     "output_type": "execute_result"
    }
   ],
   "source": [
    "eth_data.tail()"
   ]
  },
  {
   "cell_type": "code",
   "execution_count": 36,
   "id": "5cb59a3a-82df-4643-98c5-859d01b88d7d",
   "metadata": {},
   "outputs": [
    {
     "data": {
      "text/plain": [
       "True"
      ]
     },
     "execution_count": 36,
     "metadata": {},
     "output_type": "execute_result"
    }
   ],
   "source": [
    "isinstance(eth_data.columns, pd.MultiIndex)"
   ]
  },
  {
   "cell_type": "code",
   "execution_count": 37,
   "id": "d325117c-726a-4764-9deb-29bc78d23966",
   "metadata": {},
   "outputs": [],
   "source": [
    "eth_data.columns = eth_data.columns.get_level_values(0)"
   ]
  },
  {
   "cell_type": "code",
   "execution_count": 38,
   "id": "cb3d9673-d7e4-4695-8dd6-c16da4e557f0",
   "metadata": {},
   "outputs": [
    {
     "data": {
      "text/html": [
       "<div>\n",
       "<style scoped>\n",
       "    .dataframe tbody tr th:only-of-type {\n",
       "        vertical-align: middle;\n",
       "    }\n",
       "\n",
       "    .dataframe tbody tr th {\n",
       "        vertical-align: top;\n",
       "    }\n",
       "\n",
       "    .dataframe thead th {\n",
       "        text-align: right;\n",
       "    }\n",
       "</style>\n",
       "<table border=\"1\" class=\"dataframe\">\n",
       "  <thead>\n",
       "    <tr style=\"text-align: right;\">\n",
       "      <th>Price</th>\n",
       "      <th>Adj Close</th>\n",
       "      <th>Close</th>\n",
       "      <th>High</th>\n",
       "      <th>Low</th>\n",
       "      <th>Open</th>\n",
       "      <th>Volume</th>\n",
       "    </tr>\n",
       "    <tr>\n",
       "      <th>Date</th>\n",
       "      <th></th>\n",
       "      <th></th>\n",
       "      <th></th>\n",
       "      <th></th>\n",
       "      <th></th>\n",
       "      <th></th>\n",
       "    </tr>\n",
       "  </thead>\n",
       "  <tbody>\n",
       "    <tr>\n",
       "      <th>2017-11-09 00:00:00+00:00</th>\n",
       "      <td>320.884003</td>\n",
       "      <td>320.884003</td>\n",
       "      <td>329.451996</td>\n",
       "      <td>307.056000</td>\n",
       "      <td>308.644989</td>\n",
       "      <td>893249984</td>\n",
       "    </tr>\n",
       "    <tr>\n",
       "      <th>2017-11-10 00:00:00+00:00</th>\n",
       "      <td>299.252991</td>\n",
       "      <td>299.252991</td>\n",
       "      <td>324.717987</td>\n",
       "      <td>294.541992</td>\n",
       "      <td>320.670990</td>\n",
       "      <td>885985984</td>\n",
       "    </tr>\n",
       "    <tr>\n",
       "      <th>2017-11-11 00:00:00+00:00</th>\n",
       "      <td>314.681000</td>\n",
       "      <td>314.681000</td>\n",
       "      <td>319.453003</td>\n",
       "      <td>298.191986</td>\n",
       "      <td>298.585999</td>\n",
       "      <td>842300992</td>\n",
       "    </tr>\n",
       "    <tr>\n",
       "      <th>2017-11-12 00:00:00+00:00</th>\n",
       "      <td>307.907990</td>\n",
       "      <td>307.907990</td>\n",
       "      <td>319.153015</td>\n",
       "      <td>298.513000</td>\n",
       "      <td>314.690002</td>\n",
       "      <td>1613479936</td>\n",
       "    </tr>\n",
       "    <tr>\n",
       "      <th>2017-11-13 00:00:00+00:00</th>\n",
       "      <td>316.716003</td>\n",
       "      <td>316.716003</td>\n",
       "      <td>328.415009</td>\n",
       "      <td>307.024994</td>\n",
       "      <td>307.024994</td>\n",
       "      <td>1041889984</td>\n",
       "    </tr>\n",
       "  </tbody>\n",
       "</table>\n",
       "</div>"
      ],
      "text/plain": [
       "Price                       Adj Close       Close        High         Low  \\\n",
       "Date                                                                        \n",
       "2017-11-09 00:00:00+00:00  320.884003  320.884003  329.451996  307.056000   \n",
       "2017-11-10 00:00:00+00:00  299.252991  299.252991  324.717987  294.541992   \n",
       "2017-11-11 00:00:00+00:00  314.681000  314.681000  319.453003  298.191986   \n",
       "2017-11-12 00:00:00+00:00  307.907990  307.907990  319.153015  298.513000   \n",
       "2017-11-13 00:00:00+00:00  316.716003  316.716003  328.415009  307.024994   \n",
       "\n",
       "Price                            Open      Volume  \n",
       "Date                                               \n",
       "2017-11-09 00:00:00+00:00  308.644989   893249984  \n",
       "2017-11-10 00:00:00+00:00  320.670990   885985984  \n",
       "2017-11-11 00:00:00+00:00  298.585999   842300992  \n",
       "2017-11-12 00:00:00+00:00  314.690002  1613479936  \n",
       "2017-11-13 00:00:00+00:00  307.024994  1041889984  "
      ]
     },
     "execution_count": 38,
     "metadata": {},
     "output_type": "execute_result"
    }
   ],
   "source": [
    "eth_data.head()"
   ]
  },
  {
   "cell_type": "code",
   "execution_count": 39,
   "id": "82a1ebb4-8ba4-4b53-8373-e2655cf46411",
   "metadata": {},
   "outputs": [
    {
     "data": {
      "text/plain": [
       "Index(['Adj Close', 'Close', 'High', 'Low', 'Open', 'Volume'], dtype='object', name='Price')"
      ]
     },
     "execution_count": 39,
     "metadata": {},
     "output_type": "execute_result"
    }
   ],
   "source": [
    "eth_data.columns"
   ]
  },
  {
   "cell_type": "markdown",
   "id": "0fa2deae-0ab7-4707-83d2-4c463db0f203",
   "metadata": {},
   "source": [
    "### 3.1 Yahoo Finance Data Generator"
   ]
  },
  {
   "cell_type": "code",
   "execution_count": null,
   "id": "78e57631-7295-4c1a-b06b-fe0d2caf63b3",
   "metadata": {},
   "outputs": [],
   "source": [
    "import yfinance as yf\n",
    "import pandas as pd\n",
    "\n",
    "def generate_data_yf(output_path, symbol = \"ETH-USD\",\n",
    "                     start_date = \"2017-01-01\", end_date = None,\n",
    "                     interval = \"1d\"):\n",
    "    \"\"\"\n",
    "    Fetch cryptocurrency data from Yahoo Finance API, and save it as a CSV file.\n",
    "\n",
    "    :param output_path: the path where the csv file will be saved\n",
    "    :param symbol: defauls symbol is ETH-USD\n",
    "    :param start_date: Start Date (YYYY-MM-DD)\n",
    "    :param end_date: End Date (YYYY-MM-DD)\n",
    "    :param interval: time interval (\"1d\" for daily, \"1h\" for hourly\"\n",
    "    \"\"\"\n",
    "\n",
    "    # If end_date is None, don't pass the end argument, which defaults to today\n",
    "    if end_date is None:\n",
    "        \n",
    "        print(f\"fecthing {symbol} data from {start_date} to today with interval {interval}...\")\n",
    "        data = yf.download(symbol, start = start_date, \n",
    "                           interval =i nterval)\n",
    "    else:\n",
    "        \n",
    "        print(f\"fecthing {symbol} data from {start_date} to {end_date} with interval {interval}...\")\n",
    "        data = yf.download(symbol, \n",
    "                           start = start_date, end = end_date, \n",
    "                           interval = interval)\n",
    "    \n",
    "    # Check if data was successfully fetched\n",
    "    if data.empty:\n",
    "        print(f\"No data found for {symbol} with the given time range\")\n",
    "        return\n",
    "\n",
    "    if isinstance(data.columns, pd.MultiIndex):\n",
    "        data.columns = data.columns.get_level_values(0)\n",
    "\n",
    "    data.to_csv(output_path)\n",
    "    print(f\"data has been saved to {output_path}\")\n",
    "\n",
    "\n",
    "# Save the data to a CSV file\n",
    "if __name__ == \"__main__\":\n",
    "    \n",
    "    generate_data_yf(\"../data/eth_daily_data.csv\", symbol = \"ETH-USD\",\n",
    "                     start_date = \"2017-01-01\", end_date = None,\n",
    "                     interval = \"1d\")\n",
    "\n"
   ]
  },
  {
   "cell_type": "markdown",
   "id": "f9a15ec8-14c1-40c1-8ff7-4266b67ee8db",
   "metadata": {},
   "source": [
    "## 4. csv_loader.py"
   ]
  },
  {
   "cell_type": "code",
   "execution_count": 2,
   "id": "e6270608-cbb3-4d89-abbb-e4ede072e8e8",
   "metadata": {},
   "outputs": [
    {
     "name": "stdout",
     "output_type": "stream",
     "text": [
      "bitcoin_4h_data.csv eth_daily_data.csv\n"
     ]
    }
   ],
   "source": [
    "!ls ../data"
   ]
  },
  {
   "cell_type": "code",
   "execution_count": 3,
   "id": "56d575ab-deaa-4562-8678-820efd90ee89",
   "metadata": {},
   "outputs": [],
   "source": [
    "import pandas as pd"
   ]
  },
  {
   "cell_type": "code",
   "execution_count": 4,
   "id": "31222e7a-c46f-426d-97b3-b255184cfd7b",
   "metadata": {},
   "outputs": [
    {
     "data": {
      "text/html": [
       "<div>\n",
       "<style scoped>\n",
       "    .dataframe tbody tr th:only-of-type {\n",
       "        vertical-align: middle;\n",
       "    }\n",
       "\n",
       "    .dataframe tbody tr th {\n",
       "        vertical-align: top;\n",
       "    }\n",
       "\n",
       "    .dataframe thead th {\n",
       "        text-align: right;\n",
       "    }\n",
       "</style>\n",
       "<table border=\"1\" class=\"dataframe\">\n",
       "  <thead>\n",
       "    <tr style=\"text-align: right;\">\n",
       "      <th></th>\n",
       "      <th>Date</th>\n",
       "      <th>Timestamp</th>\n",
       "      <th>Price</th>\n",
       "    </tr>\n",
       "  </thead>\n",
       "  <tbody>\n",
       "    <tr>\n",
       "      <th>0</th>\n",
       "      <td>2023-11-02 00:00:00</td>\n",
       "      <td>1.698883e+12</td>\n",
       "      <td>35457.454912</td>\n",
       "    </tr>\n",
       "    <tr>\n",
       "      <th>1</th>\n",
       "      <td>2023-11-02 04:00:00</td>\n",
       "      <td>NaN</td>\n",
       "      <td>NaN</td>\n",
       "    </tr>\n",
       "    <tr>\n",
       "      <th>2</th>\n",
       "      <td>2023-11-02 08:00:00</td>\n",
       "      <td>NaN</td>\n",
       "      <td>NaN</td>\n",
       "    </tr>\n",
       "    <tr>\n",
       "      <th>3</th>\n",
       "      <td>2023-11-02 12:00:00</td>\n",
       "      <td>NaN</td>\n",
       "      <td>NaN</td>\n",
       "    </tr>\n",
       "    <tr>\n",
       "      <th>4</th>\n",
       "      <td>2023-11-02 16:00:00</td>\n",
       "      <td>NaN</td>\n",
       "      <td>NaN</td>\n",
       "    </tr>\n",
       "  </tbody>\n",
       "</table>\n",
       "</div>"
      ],
      "text/plain": [
       "                  Date     Timestamp         Price\n",
       "0  2023-11-02 00:00:00  1.698883e+12  35457.454912\n",
       "1  2023-11-02 04:00:00           NaN           NaN\n",
       "2  2023-11-02 08:00:00           NaN           NaN\n",
       "3  2023-11-02 12:00:00           NaN           NaN\n",
       "4  2023-11-02 16:00:00           NaN           NaN"
      ]
     },
     "execution_count": 4,
     "metadata": {},
     "output_type": "execute_result"
    }
   ],
   "source": [
    "df = pd.read_csv(\"../data/bitcoin_4h_data.csv\")\n",
    "df.head()"
   ]
  },
  {
   "cell_type": "code",
   "execution_count": 5,
   "id": "5ff2ea16-b03e-4d7f-aa5b-1e71c9780eae",
   "metadata": {},
   "outputs": [
    {
     "data": {
      "text/html": [
       "<div>\n",
       "<style scoped>\n",
       "    .dataframe tbody tr th:only-of-type {\n",
       "        vertical-align: middle;\n",
       "    }\n",
       "\n",
       "    .dataframe tbody tr th {\n",
       "        vertical-align: top;\n",
       "    }\n",
       "\n",
       "    .dataframe thead th {\n",
       "        text-align: right;\n",
       "    }\n",
       "</style>\n",
       "<table border=\"1\" class=\"dataframe\">\n",
       "  <thead>\n",
       "    <tr style=\"text-align: right;\">\n",
       "      <th></th>\n",
       "      <th>Timestamp</th>\n",
       "      <th>Price</th>\n",
       "    </tr>\n",
       "    <tr>\n",
       "      <th>Date</th>\n",
       "      <th></th>\n",
       "      <th></th>\n",
       "    </tr>\n",
       "  </thead>\n",
       "  <tbody>\n",
       "    <tr>\n",
       "      <th>2023-11-02 00:00:00</th>\n",
       "      <td>1.698883e+12</td>\n",
       "      <td>35457.454912</td>\n",
       "    </tr>\n",
       "    <tr>\n",
       "      <th>2023-11-02 04:00:00</th>\n",
       "      <td>NaN</td>\n",
       "      <td>NaN</td>\n",
       "    </tr>\n",
       "    <tr>\n",
       "      <th>2023-11-02 08:00:00</th>\n",
       "      <td>NaN</td>\n",
       "      <td>NaN</td>\n",
       "    </tr>\n",
       "    <tr>\n",
       "      <th>2023-11-02 12:00:00</th>\n",
       "      <td>NaN</td>\n",
       "      <td>NaN</td>\n",
       "    </tr>\n",
       "    <tr>\n",
       "      <th>2023-11-02 16:00:00</th>\n",
       "      <td>NaN</td>\n",
       "      <td>NaN</td>\n",
       "    </tr>\n",
       "  </tbody>\n",
       "</table>\n",
       "</div>"
      ],
      "text/plain": [
       "                        Timestamp         Price\n",
       "Date                                           \n",
       "2023-11-02 00:00:00  1.698883e+12  35457.454912\n",
       "2023-11-02 04:00:00           NaN           NaN\n",
       "2023-11-02 08:00:00           NaN           NaN\n",
       "2023-11-02 12:00:00           NaN           NaN\n",
       "2023-11-02 16:00:00           NaN           NaN"
      ]
     },
     "execution_count": 5,
     "metadata": {},
     "output_type": "execute_result"
    }
   ],
   "source": [
    "df = pd.read_csv(\"../data/bitcoin_4h_data.csv\", index_col = \"Date\")\n",
    "df.head()\n"
   ]
  },
  {
   "cell_type": "code",
   "execution_count": 6,
   "id": "4e17c25b-e0b7-446a-b9a0-63ff525e0336",
   "metadata": {},
   "outputs": [
    {
     "data": {
      "text/html": [
       "<div>\n",
       "<style scoped>\n",
       "    .dataframe tbody tr th:only-of-type {\n",
       "        vertical-align: middle;\n",
       "    }\n",
       "\n",
       "    .dataframe tbody tr th {\n",
       "        vertical-align: top;\n",
       "    }\n",
       "\n",
       "    .dataframe thead th {\n",
       "        text-align: right;\n",
       "    }\n",
       "</style>\n",
       "<table border=\"1\" class=\"dataframe\">\n",
       "  <thead>\n",
       "    <tr style=\"text-align: right;\">\n",
       "      <th></th>\n",
       "      <th>Timestamp</th>\n",
       "      <th>Price</th>\n",
       "    </tr>\n",
       "    <tr>\n",
       "      <th>Date</th>\n",
       "      <th></th>\n",
       "      <th></th>\n",
       "    </tr>\n",
       "  </thead>\n",
       "  <tbody>\n",
       "    <tr>\n",
       "      <th>2024-09-30 08:00:00</th>\n",
       "      <td>NaN</td>\n",
       "      <td>NaN</td>\n",
       "    </tr>\n",
       "    <tr>\n",
       "      <th>2024-09-30 12:00:00</th>\n",
       "      <td>NaN</td>\n",
       "      <td>NaN</td>\n",
       "    </tr>\n",
       "    <tr>\n",
       "      <th>2024-09-30 16:00:00</th>\n",
       "      <td>NaN</td>\n",
       "      <td>NaN</td>\n",
       "    </tr>\n",
       "    <tr>\n",
       "      <th>2024-09-30 20:00:00</th>\n",
       "      <td>NaN</td>\n",
       "      <td>NaN</td>\n",
       "    </tr>\n",
       "    <tr>\n",
       "      <th>2024-10-01 00:00:00</th>\n",
       "      <td>1.727741e+12</td>\n",
       "      <td>63243.275325</td>\n",
       "    </tr>\n",
       "  </tbody>\n",
       "</table>\n",
       "</div>"
      ],
      "text/plain": [
       "                        Timestamp         Price\n",
       "Date                                           \n",
       "2024-09-30 08:00:00           NaN           NaN\n",
       "2024-09-30 12:00:00           NaN           NaN\n",
       "2024-09-30 16:00:00           NaN           NaN\n",
       "2024-09-30 20:00:00           NaN           NaN\n",
       "2024-10-01 00:00:00  1.727741e+12  63243.275325"
      ]
     },
     "execution_count": 6,
     "metadata": {},
     "output_type": "execute_result"
    }
   ],
   "source": [
    "df.tail()"
   ]
  },
  {
   "cell_type": "code",
   "execution_count": null,
   "id": "b0a224e4-1a3b-4d21-bcb2-81f9373ab5c5",
   "metadata": {},
   "outputs": [],
   "source": []
  }
 ],
 "metadata": {
  "kernelspec": {
   "display_name": "Python 3 (ipykernel)",
   "language": "python",
   "name": "python3"
  },
  "language_info": {
   "codemirror_mode": {
    "name": "ipython",
    "version": 3
   },
   "file_extension": ".py",
   "mimetype": "text/x-python",
   "name": "python",
   "nbconvert_exporter": "python",
   "pygments_lexer": "ipython3",
   "version": "3.11.10"
  }
 },
 "nbformat": 4,
 "nbformat_minor": 5
}
