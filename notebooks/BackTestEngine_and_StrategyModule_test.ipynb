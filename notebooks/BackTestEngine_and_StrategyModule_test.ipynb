{
 "cells": [
  {
   "cell_type": "markdown",
   "id": "06f26391-b3d2-48ab-a6f8-a00a75020beb",
   "metadata": {},
   "source": [
    "## 1. Backtest Engine\n",
    "\n",
    "1. **Load data** \n",
    "2. **Apply strategies and Execute orders**\n",
    "3. **Record results**"
   ]
  },
  {
   "cell_type": "markdown",
   "id": "46aefafb-117a-45a6-ae32-8f223e549977",
   "metadata": {},
   "source": [
    "### Key Methods:\n",
    "\n",
    "1. `__init__()`:\n",
    "    - **take in the testing data**\n",
    "    - **take in a strategy object**\n",
    "    - **initialize capital balance**\n",
    "2. `run()`:\n",
    "    - **apply strategy to generate signals**\n",
    "    - **execute buy/sell trades** \n",
    "3. `get_results()`:\n",
    "    - **analyze strategy's performance**"
   ]
  },
  {
   "cell_type": "markdown",
   "id": "aac8f388-cc05-44b1-97f2-960d4dab60fc",
   "metadata": {},
   "source": [
    "### 1.1 Backtest Engine Object (`backtest_engine.py`)"
   ]
  },
  {
   "cell_type": "code",
   "execution_count": null,
   "id": "92f73c9c-04f4-450f-96a9-9a50c477c8a4",
   "metadata": {},
   "outputs": [],
   "source": [
    "\n",
    "class BacktestEngine:\n",
    "\n",
    "    def __init__(self, data, strategy, initial_balance):\n",
    "        \n",
    "        self.data = data\n",
    "        self.strategy = strategy\n",
    "        self.balance = initial_balance\n",
    "\n",
    "    def run():\n",
    "        "
   ]
  },
  {
   "cell_type": "code",
   "execution_count": null,
   "id": "4739a186-f1c0-4070-b009-a1514ea7b243",
   "metadata": {},
   "outputs": [],
   "source": []
  },
  {
   "cell_type": "markdown",
   "id": "5ee3f268-b6f6-4e24-975d-00f98027a2c2",
   "metadata": {},
   "source": [
    "## 2. Strategy Module\n",
    "\n",
    "1. `__init__()`:\n",
    "   - **load the trained machine learning model**\n",
    "   - **initilize the strategy parameters (such as RSI overbought threshold, moving average periods etc)**\n",
    "2. `generate_signal()`:\n",
    "   - **take in the historical data**\n",
    "   - **return buy/sell signal based on input data**\n",
    "4. other helper methods:\n",
    "   - **helper methods such as calculating RSI, MACD etc, internal to the strategy and not directly called by backtest engine**"
   ]
  },
  {
   "cell_type": "markdown",
   "id": "b04d7de5-23a4-4024-9712-efa9c25d2e8a",
   "metadata": {},
   "source": [
    "### 2.1 Random Strategy Module"
   ]
  },
  {
   "cell_type": "code",
   "execution_count": null,
   "id": "b513dfaa-bcea-42d3-90c3-ff0158ca604d",
   "metadata": {},
   "outputs": [],
   "source": [
    "\n",
    "\n",
    "class RandomStrategy:\n",
    "\n",
    "    def __init__(self):\n",
    "\n",
    "    def generate_signal():\n",
    "        "
   ]
  },
  {
   "cell_type": "markdown",
   "id": "f11b1163-40a5-406d-9e64-9757abd7a1f9",
   "metadata": {},
   "source": [
    "## 3. main.py\n",
    "\n",
    "1. **Load csv data**\n",
    "2. **Initialize strategy object**\n",
    "3. **Initialize backtest engine object by taking in data and strategy**\n",
    "4. **Run backtest engine**\n",
    "5. **Get backtest results**"
   ]
  },
  {
   "cell_type": "markdown",
   "id": "23b3e3fd-63d9-4586-bf76-64447c829d03",
   "metadata": {},
   "source": []
  },
  {
   "cell_type": "code",
   "execution_count": null,
   "id": "2b663243-27da-4cb3-8307-7d35f1dca8f8",
   "metadata": {},
   "outputs": [],
   "source": []
  }
 ],
 "metadata": {
  "kernelspec": {
   "display_name": "Python 3 (ipykernel)",
   "language": "python",
   "name": "python3"
  },
  "language_info": {
   "codemirror_mode": {
    "name": "ipython",
    "version": 3
   },
   "file_extension": ".py",
   "mimetype": "text/x-python",
   "name": "python",
   "nbconvert_exporter": "python",
   "pygments_lexer": "ipython3",
   "version": "3.12.4"
  }
 },
 "nbformat": 4,
 "nbformat_minor": 5
}
