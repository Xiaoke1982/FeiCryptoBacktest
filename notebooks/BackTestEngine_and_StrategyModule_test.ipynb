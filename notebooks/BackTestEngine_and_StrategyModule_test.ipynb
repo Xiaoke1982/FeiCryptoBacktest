{
 "cells": [
  {
   "cell_type": "markdown",
   "id": "06f26391-b3d2-48ab-a6f8-a00a75020beb",
   "metadata": {},
   "source": [
    "## 1. Backtest Engine\n",
    "\n",
    "1. **Load data** \n",
    "2. **Apply strategies and Execute orders**\n",
    "3. **Record results**"
   ]
  },
  {
   "cell_type": "markdown",
   "id": "46aefafb-117a-45a6-ae32-8f223e549977",
   "metadata": {},
   "source": [
    "### Key Methods:\n",
    "\n",
    "1. `__init__()`:\n",
    "    - **take in the testing data**\n",
    "    - **take in a strategy object**\n",
    "    - **initialize capital balance**\n",
    "2. `run()`:\n",
    "    - **apply strategy to generate signals**\n",
    "    - **execute buy/sell trades** \n",
    "3. `get_results()`:\n",
    "    - **analyze strategy's performance**"
   ]
  },
  {
   "cell_type": "markdown",
   "id": "aac8f388-cc05-44b1-97f2-960d4dab60fc",
   "metadata": {},
   "source": [
    "### 1.1 Backtest Engine Object (`backtest_engine.py`)"
   ]
  },
  {
   "cell_type": "code",
   "execution_count": null,
   "id": "92f73c9c-04f4-450f-96a9-9a50c477c8a4",
   "metadata": {},
   "outputs": [],
   "source": [
    "\n",
    "class BacktestEngine:\n",
    "\n",
    "    def __init__(self, data, strategy, initial_balance):\n",
    "        \n",
    "        self.data = data\n",
    "        self.strategy = strategy\n",
    "        self.balance = initial_balance\n",
    "\n",
    "    def run():\n",
    "        "
   ]
  },
  {
   "cell_type": "code",
   "execution_count": null,
   "id": "4739a186-f1c0-4070-b009-a1514ea7b243",
   "metadata": {},
   "outputs": [],
   "source": []
  },
  {
   "cell_type": "markdown",
   "id": "5ee3f268-b6f6-4e24-975d-00f98027a2c2",
   "metadata": {},
   "source": [
    "## 2. Strategy Module\n",
    "\n",
    "1. `__init__()`:\n",
    "   - **load the trained machine learning model**\n",
    "   - **initilize the strategy parameters (such as RSI overbought threshold, moving average periods etc)**\n",
    "2. `generate_signal()`:\n",
    "   - **take in the historical data**\n",
    "   - **return buy/sell signal based on input data**\n",
    "4. other helper methods:\n",
    "   - **helper methods such as calculating RSI, MACD etc, internal to the strategy and not directly called by backtest engine**"
   ]
  },
  {
   "cell_type": "markdown",
   "id": "b04d7de5-23a4-4024-9712-efa9c25d2e8a",
   "metadata": {},
   "source": [
    "### 2.1 Random Strategy Module"
   ]
  },
  {
   "cell_type": "code",
   "execution_count": null,
   "id": "b513dfaa-bcea-42d3-90c3-ff0158ca604d",
   "metadata": {},
   "outputs": [],
   "source": [
    "\n",
    "\n",
    "class RandomStrategy:\n",
    "\n",
    "    def __init__(self):\n",
    "\n",
    "    def generate_signal():\n",
    "        "
   ]
  },
  {
   "cell_type": "markdown",
   "id": "f11b1163-40a5-406d-9e64-9757abd7a1f9",
   "metadata": {},
   "source": [
    "## 3. main.py\n",
    "\n",
    "1. **Load csv data**\n",
    "2. **Initialize strategy object**\n",
    "3. **Initialize backtest engine object by taking in data and strategy**\n",
    "4. **Run backtest engine**\n",
    "5. **Get backtest results**"
   ]
  },
  {
   "cell_type": "code",
   "execution_count": 5,
   "id": "cf4f1e0c-f9e8-4908-a0af-283cfc167ef6",
   "metadata": {},
   "outputs": [
    {
     "ename": "ModuleNotFoundError",
     "evalue": "No module named 'data_loader'",
     "output_type": "error",
     "traceback": [
      "\u001b[0;31m---------------------------------------------------------------------------\u001b[0m",
      "\u001b[0;31mModuleNotFoundError\u001b[0m                       Traceback (most recent call last)",
      "Cell \u001b[0;32mIn[5], line 5\u001b[0m\n\u001b[1;32m      1\u001b[0m \u001b[38;5;28;01mif\u001b[39;00m \u001b[38;5;18m__name__\u001b[39m \u001b[38;5;241m==\u001b[39m \u001b[38;5;124m\"\u001b[39m\u001b[38;5;124m__main__\u001b[39m\u001b[38;5;124m\"\u001b[39m:\n\u001b[1;32m      2\u001b[0m \n\u001b[1;32m      3\u001b[0m     \u001b[38;5;66;03m# load csv data from data/bitcoin_4h_data.csv\u001b[39;00m\n\u001b[1;32m      4\u001b[0m     \u001b[38;5;66;03m# use the csv_loader.py in data_loader directory to covert the csv data to a df with columns \"Date\" and \"Close\"\u001b[39;00m\n\u001b[0;32m----> 5\u001b[0m     \u001b[38;5;28;01mfrom\u001b[39;00m \u001b[38;5;21;01mdata_loader\u001b[39;00m\u001b[38;5;21;01m.\u001b[39;00m\u001b[38;5;21;01mcsv_loader\u001b[39;00m \u001b[38;5;28;01mimport\u001b[39;00m load_csv_data\n\u001b[1;32m      6\u001b[0m     data \u001b[38;5;241m=\u001b[39m load_csv_data(\u001b[38;5;124m\"\u001b[39m\u001b[38;5;124m../data/bitcoin_4h_data.csv\u001b[39m\u001b[38;5;124m\"\u001b[39m, source \u001b[38;5;241m=\u001b[39m \u001b[38;5;124m\"\u001b[39m\u001b[38;5;124mcoingecko\u001b[39m\u001b[38;5;124m\"\u001b[39m)\n",
      "\u001b[0;31mModuleNotFoundError\u001b[0m: No module named 'data_loader'"
     ]
    }
   ],
   "source": [
    "if __name__ == \"__main__\":\n",
    "\n",
    "    # load csv data from data/bitcoin_4h_data.csv\n",
    "    # use the csv_loader.py in data_loader directory to covert the csv data to a df with columns \"Date\" and \"Close\"\n",
    "    from data_loader.csv_loader import load_csv_data\n",
    "    data = load_csv_data(\"/data/bitcoin_4h_data.csv\", source = \"coingecko\")"
   ]
  },
  {
   "cell_type": "code",
   "execution_count": 3,
   "id": "634e1254-7cd9-4ce6-8ae3-bc80c9cf608e",
   "metadata": {},
   "outputs": [
    {
     "name": "stdout",
     "output_type": "stream",
     "text": [
      "LICENSE     \u001b[34mconfig\u001b[m\u001b[m      \u001b[34mdata\u001b[m\u001b[m        \u001b[34mnotebooks\u001b[m\u001b[m   \u001b[34mtests\u001b[m\u001b[m\n",
      "README.md   \u001b[34mcore\u001b[m\u001b[m        \u001b[34mdata_loader\u001b[m\u001b[m \u001b[34mstrategies\u001b[m\u001b[m\n"
     ]
    }
   ],
   "source": [
    "!ls .."
   ]
  },
  {
   "cell_type": "code",
   "execution_count": 4,
   "id": "76805de8-4203-496f-bec8-baba73251de7",
   "metadata": {},
   "outputs": [
    {
     "name": "stdout",
     "output_type": "stream",
     "text": [
      "csv_loader.py               data_generator_yf.py\n",
      "data_generator_coingecko.py\n"
     ]
    }
   ],
   "source": [
    "!ls ../data_loader"
   ]
  },
  {
   "cell_type": "code",
   "execution_count": null,
   "id": "7657dd97-e63b-4794-80e6-3a94fb31eef2",
   "metadata": {},
   "outputs": [],
   "source": []
  }
 ],
 "metadata": {
  "kernelspec": {
   "display_name": "Python 3 (ipykernel)",
   "language": "python",
   "name": "python3"
  },
  "language_info": {
   "codemirror_mode": {
    "name": "ipython",
    "version": 3
   },
   "file_extension": ".py",
   "mimetype": "text/x-python",
   "name": "python",
   "nbconvert_exporter": "python",
   "pygments_lexer": "ipython3",
   "version": "3.11.10"
  }
 },
 "nbformat": 4,
 "nbformat_minor": 5
}
