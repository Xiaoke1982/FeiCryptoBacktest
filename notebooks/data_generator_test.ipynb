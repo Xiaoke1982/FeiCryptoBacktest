{
 "cells": [
  {
   "cell_type": "markdown",
   "id": "bbf7fb3b-a652-4594-8b6d-61b7b563c11c",
   "metadata": {},
   "source": [
    "## 1. CoinGecko"
   ]
  },
  {
   "cell_type": "code",
   "execution_count": 1,
   "id": "64edae18-5675-4379-b076-c6c0d1b88e3d",
   "metadata": {},
   "outputs": [],
   "source": [
    "from pycoingecko import CoinGeckoAPI\n",
    "import pandas as pd\n",
    "import time"
   ]
  },
  {
   "cell_type": "code",
   "execution_count": 2,
   "id": "00344683-874f-4c4d-9e18-9953a7d6078c",
   "metadata": {},
   "outputs": [],
   "source": [
    "cg = CoinGeckoAPI()"
   ]
  },
  {
   "cell_type": "markdown",
   "id": "0b21aa3b-55f6-49f6-84dc-89733b3280f9",
   "metadata": {},
   "source": [
    "### 1.1 `cg.get_coin_market_chart_by_id()` API\n",
    "\n",
    "\n",
    "- **:param `id`:**          default is Bitcoin \"bitcoin\"\n",
    "- **:param `vs_currency`:** default is USD \"usd\"\n",
    "- **:param `days`:**        the range of days to retireve data for \"1\", \"30\", \"max\", etc.\n",
    "- **:param `interval`:**    the data interval \"minutely\", \"hourly\", \"daily\""
   ]
  },
  {
   "cell_type": "code",
   "execution_count": 3,
   "id": "b5666aa7-9714-4bc3-ad97-9339d4ec5888",
   "metadata": {},
   "outputs": [],
   "source": [
    "data = cg.get_coin_market_chart_by_id(id = \"bitcoin\",\n",
    "                                      vs_currency = \"usd\",\n",
    "                                      days = \"5\",\n",
    "                                      interval = \"daily\")\n",
    "\n",
    "###\n",
    "# :param id:          default is Bitcoin \"bitcoin\"\n",
    "# :param vs_currency: default is USD \"usd\"\n",
    "# :param days:        the range of days to retireve data for \"1\", \"30\", \"max\", etc.\n",
    "# :param interval:    the data interval \"minutely\", \"hourly\", \"daily\"\n",
    "###"
   ]
  },
  {
   "cell_type": "code",
   "execution_count": 4,
   "id": "d1fffc30-1c19-4097-bd86-2e6e38cfd138",
   "metadata": {},
   "outputs": [
    {
     "data": {
      "text/plain": [
       "dict"
      ]
     },
     "execution_count": 4,
     "metadata": {},
     "output_type": "execute_result"
    }
   ],
   "source": [
    "type(data)"
   ]
  },
  {
   "cell_type": "code",
   "execution_count": 5,
   "id": "c6d18ee2-3cc8-4bb5-be79-21b3db001861",
   "metadata": {},
   "outputs": [
    {
     "data": {
      "text/plain": [
       "{'prices': [[1729555200000, 67394.85775735618],\n",
       "  [1729641600000, 67351.04793512498],\n",
       "  [1729728000000, 66683.96806542306],\n",
       "  [1729814400000, 68214.05205157402],\n",
       "  [1729900800000, 66585.66535501445],\n",
       "  [1729911829000, 66650.69451353882]],\n",
       " 'market_caps': [[1729555200000, 1332326858574.4448],\n",
       "  [1729641600000, 1331426858508.4004],\n",
       "  [1729728000000, 1318285437546.2786],\n",
       "  [1729814400000, 1347888109010.5889],\n",
       "  [1729900800000, 1313975091942.221],\n",
       "  [1729911829000, 1320159363921.0457]],\n",
       " 'total_volumes': [[1729555200000, 40485496091.95008],\n",
       "  [1729641600000, 31398389967.38113],\n",
       "  [1729728000000, 32676918488.059],\n",
       "  [1729814400000, 35892606570.03549],\n",
       "  [1729900800000, 48426924850.053406],\n",
       "  [1729911829000, 50304110341.034874]]}"
      ]
     },
     "execution_count": 5,
     "metadata": {},
     "output_type": "execute_result"
    }
   ],
   "source": [
    "#data: a dictionary with 3 keys: prices, market_caps and total_volumes\n",
    "\n",
    "#each key associates with a list, in which each element is also a list of two elements: timestamp and value of the key\n",
    "\n",
    "data"
   ]
  },
  {
   "cell_type": "code",
   "execution_count": 6,
   "id": "0856e5b1-2159-4d43-944b-9de33a4fe143",
   "metadata": {},
   "outputs": [
    {
     "data": {
      "text/plain": [
       "[[1729555200000, 67394.85775735618],\n",
       " [1729641600000, 67351.04793512498],\n",
       " [1729728000000, 66683.96806542306],\n",
       " [1729814400000, 68214.05205157402],\n",
       " [1729900800000, 66585.66535501445],\n",
       " [1729911829000, 66650.69451353882]]"
      ]
     },
     "execution_count": 6,
     "metadata": {},
     "output_type": "execute_result"
    }
   ],
   "source": [
    "data[\"prices\"]"
   ]
  },
  {
   "cell_type": "code",
   "execution_count": 7,
   "id": "c8a70d8c-737e-435e-9604-3e58b3741397",
   "metadata": {},
   "outputs": [
    {
     "data": {
      "text/html": [
       "<div>\n",
       "<style scoped>\n",
       "    .dataframe tbody tr th:only-of-type {\n",
       "        vertical-align: middle;\n",
       "    }\n",
       "\n",
       "    .dataframe tbody tr th {\n",
       "        vertical-align: top;\n",
       "    }\n",
       "\n",
       "    .dataframe thead th {\n",
       "        text-align: right;\n",
       "    }\n",
       "</style>\n",
       "<table border=\"1\" class=\"dataframe\">\n",
       "  <thead>\n",
       "    <tr style=\"text-align: right;\">\n",
       "      <th></th>\n",
       "      <th>Timestamp</th>\n",
       "      <th>Price</th>\n",
       "    </tr>\n",
       "  </thead>\n",
       "  <tbody>\n",
       "    <tr>\n",
       "      <th>0</th>\n",
       "      <td>1729555200000</td>\n",
       "      <td>67394.857757</td>\n",
       "    </tr>\n",
       "    <tr>\n",
       "      <th>1</th>\n",
       "      <td>1729641600000</td>\n",
       "      <td>67351.047935</td>\n",
       "    </tr>\n",
       "    <tr>\n",
       "      <th>2</th>\n",
       "      <td>1729728000000</td>\n",
       "      <td>66683.968065</td>\n",
       "    </tr>\n",
       "    <tr>\n",
       "      <th>3</th>\n",
       "      <td>1729814400000</td>\n",
       "      <td>68214.052052</td>\n",
       "    </tr>\n",
       "    <tr>\n",
       "      <th>4</th>\n",
       "      <td>1729900800000</td>\n",
       "      <td>66585.665355</td>\n",
       "    </tr>\n",
       "  </tbody>\n",
       "</table>\n",
       "</div>"
      ],
      "text/plain": [
       "       Timestamp         Price\n",
       "0  1729555200000  67394.857757\n",
       "1  1729641600000  67351.047935\n",
       "2  1729728000000  66683.968065\n",
       "3  1729814400000  68214.052052\n",
       "4  1729900800000  66585.665355"
      ]
     },
     "execution_count": 7,
     "metadata": {},
     "output_type": "execute_result"
    }
   ],
   "source": [
    "df = pd.DataFrame(data[\"prices\"], columns = [\"Timestamp\", \"Price\"])\n",
    "df.head()"
   ]
  },
  {
   "cell_type": "markdown",
   "id": "e1fa6b46-a548-4665-9bd4-436de65d634c",
   "metadata": {},
   "source": [
    "#### Convert Unix timestamp (in milliseconds) into standard date-time format\n",
    "\n",
    "**`pd.to_datetime()`**"
   ]
  },
  {
   "cell_type": "code",
   "execution_count": 8,
   "id": "fc5a9cd8-40e5-4b5b-946c-ff61d7d1ee74",
   "metadata": {},
   "outputs": [],
   "source": [
    "df[\"Date\"] = pd.to_datetime(df[\"Timestamp\"], unit=\"ms\")"
   ]
  },
  {
   "cell_type": "code",
   "execution_count": 9,
   "id": "3aff3fd6-12ff-431a-bb69-84024a3e1631",
   "metadata": {},
   "outputs": [
    {
     "data": {
      "text/html": [
       "<div>\n",
       "<style scoped>\n",
       "    .dataframe tbody tr th:only-of-type {\n",
       "        vertical-align: middle;\n",
       "    }\n",
       "\n",
       "    .dataframe tbody tr th {\n",
       "        vertical-align: top;\n",
       "    }\n",
       "\n",
       "    .dataframe thead th {\n",
       "        text-align: right;\n",
       "    }\n",
       "</style>\n",
       "<table border=\"1\" class=\"dataframe\">\n",
       "  <thead>\n",
       "    <tr style=\"text-align: right;\">\n",
       "      <th></th>\n",
       "      <th>Timestamp</th>\n",
       "      <th>Price</th>\n",
       "      <th>Date</th>\n",
       "    </tr>\n",
       "  </thead>\n",
       "  <tbody>\n",
       "    <tr>\n",
       "      <th>0</th>\n",
       "      <td>1729555200000</td>\n",
       "      <td>67394.857757</td>\n",
       "      <td>2024-10-22</td>\n",
       "    </tr>\n",
       "    <tr>\n",
       "      <th>1</th>\n",
       "      <td>1729641600000</td>\n",
       "      <td>67351.047935</td>\n",
       "      <td>2024-10-23</td>\n",
       "    </tr>\n",
       "    <tr>\n",
       "      <th>2</th>\n",
       "      <td>1729728000000</td>\n",
       "      <td>66683.968065</td>\n",
       "      <td>2024-10-24</td>\n",
       "    </tr>\n",
       "    <tr>\n",
       "      <th>3</th>\n",
       "      <td>1729814400000</td>\n",
       "      <td>68214.052052</td>\n",
       "      <td>2024-10-25</td>\n",
       "    </tr>\n",
       "    <tr>\n",
       "      <th>4</th>\n",
       "      <td>1729900800000</td>\n",
       "      <td>66585.665355</td>\n",
       "      <td>2024-10-26</td>\n",
       "    </tr>\n",
       "  </tbody>\n",
       "</table>\n",
       "</div>"
      ],
      "text/plain": [
       "       Timestamp         Price       Date\n",
       "0  1729555200000  67394.857757 2024-10-22\n",
       "1  1729641600000  67351.047935 2024-10-23\n",
       "2  1729728000000  66683.968065 2024-10-24\n",
       "3  1729814400000  68214.052052 2024-10-25\n",
       "4  1729900800000  66585.665355 2024-10-26"
      ]
     },
     "execution_count": 9,
     "metadata": {},
     "output_type": "execute_result"
    }
   ],
   "source": [
    "df.head()"
   ]
  },
  {
   "cell_type": "markdown",
   "id": "c1264d92-8a08-4bc6-b4c0-ce6c9abd0745",
   "metadata": {},
   "source": [
    "#### Set the \"Date” (date-time values) as the DataFrame's index\n",
    "\n",
    "Many Pandas time-based operations (like `resample()`) work based on this index"
   ]
  },
  {
   "cell_type": "code",
   "execution_count": 10,
   "id": "94eef3d4-3725-4ae7-aa62-d79f2176d18d",
   "metadata": {},
   "outputs": [
    {
     "data": {
      "text/html": [
       "<div>\n",
       "<style scoped>\n",
       "    .dataframe tbody tr th:only-of-type {\n",
       "        vertical-align: middle;\n",
       "    }\n",
       "\n",
       "    .dataframe tbody tr th {\n",
       "        vertical-align: top;\n",
       "    }\n",
       "\n",
       "    .dataframe thead th {\n",
       "        text-align: right;\n",
       "    }\n",
       "</style>\n",
       "<table border=\"1\" class=\"dataframe\">\n",
       "  <thead>\n",
       "    <tr style=\"text-align: right;\">\n",
       "      <th></th>\n",
       "      <th>Timestamp</th>\n",
       "      <th>Price</th>\n",
       "    </tr>\n",
       "    <tr>\n",
       "      <th>Date</th>\n",
       "      <th></th>\n",
       "      <th></th>\n",
       "    </tr>\n",
       "  </thead>\n",
       "  <tbody>\n",
       "    <tr>\n",
       "      <th>2024-10-22</th>\n",
       "      <td>1729555200000</td>\n",
       "      <td>67394.857757</td>\n",
       "    </tr>\n",
       "    <tr>\n",
       "      <th>2024-10-23</th>\n",
       "      <td>1729641600000</td>\n",
       "      <td>67351.047935</td>\n",
       "    </tr>\n",
       "    <tr>\n",
       "      <th>2024-10-24</th>\n",
       "      <td>1729728000000</td>\n",
       "      <td>66683.968065</td>\n",
       "    </tr>\n",
       "    <tr>\n",
       "      <th>2024-10-25</th>\n",
       "      <td>1729814400000</td>\n",
       "      <td>68214.052052</td>\n",
       "    </tr>\n",
       "    <tr>\n",
       "      <th>2024-10-26</th>\n",
       "      <td>1729900800000</td>\n",
       "      <td>66585.665355</td>\n",
       "    </tr>\n",
       "  </tbody>\n",
       "</table>\n",
       "</div>"
      ],
      "text/plain": [
       "                Timestamp         Price\n",
       "Date                                   \n",
       "2024-10-22  1729555200000  67394.857757\n",
       "2024-10-23  1729641600000  67351.047935\n",
       "2024-10-24  1729728000000  66683.968065\n",
       "2024-10-25  1729814400000  68214.052052\n",
       "2024-10-26  1729900800000  66585.665355"
      ]
     },
     "execution_count": 10,
     "metadata": {},
     "output_type": "execute_result"
    }
   ],
   "source": [
    "df.set_index(\"Date\", inplace = True)  # inplace=Ture: modifies the original df directly rather than returning a new df\n",
    "df.head()"
   ]
  },
  {
   "cell_type": "markdown",
   "id": "67084a59-9f6c-4b4c-8422-368688007ea0",
   "metadata": {},
   "source": [
    "### 1.2 `cg.get_coin_market_chart_range_by_id()` API\n",
    "\n",
    "- **:param `id`:** default is Bitcoin \"bitcoin\"\n",
    "- **:param `vs_currency`:** default is USD \"usd\"\n",
    "- **:param `from_timestamp`:** the Unix timestamp\n",
    "- **:param `to_timestamp`:** the Unix timestamp"
   ]
  },
  {
   "cell_type": "code",
   "execution_count": 11,
   "id": "c38de152-e396-4b33-af07-4a8a9c319579",
   "metadata": {},
   "outputs": [],
   "source": [
    "start_date = \"2024-01-01\"\n",
    "end_date = \"2024-02-01\""
   ]
  },
  {
   "cell_type": "markdown",
   "id": "02689901-a9d9-42fd-b883-8931e6267981",
   "metadata": {},
   "source": [
    "#### Convert start and end dates to Unix timestamps"
   ]
  },
  {
   "cell_type": "code",
   "execution_count": 12,
   "id": "da02aa5f-1d9b-40b5-a2bc-792c67e598a8",
   "metadata": {},
   "outputs": [
    {
     "data": {
      "text/plain": [
       "Timestamp('2024-01-01 00:00:00')"
      ]
     },
     "execution_count": 12,
     "metadata": {},
     "output_type": "execute_result"
    }
   ],
   "source": [
    "pd.to_datetime(start_date)"
   ]
  },
  {
   "cell_type": "code",
   "execution_count": 13,
   "id": "162df665-6a7a-499c-a420-3aed330d5516",
   "metadata": {},
   "outputs": [
    {
     "data": {
      "text/plain": [
       "time.struct_time(tm_year=2024, tm_mon=1, tm_mday=1, tm_hour=0, tm_min=0, tm_sec=0, tm_wday=0, tm_yday=1, tm_isdst=-1)"
      ]
     },
     "execution_count": 13,
     "metadata": {},
     "output_type": "execute_result"
    }
   ],
   "source": [
    "pd.to_datetime(start_date).timetuple()"
   ]
  },
  {
   "cell_type": "code",
   "execution_count": 14,
   "id": "b118794a-2ef1-4be6-9c4a-bf51afdfeee9",
   "metadata": {},
   "outputs": [
    {
     "data": {
      "text/plain": [
       "1704085200.0"
      ]
     },
     "execution_count": 14,
     "metadata": {},
     "output_type": "execute_result"
    }
   ],
   "source": [
    "time.mktime(pd.to_datetime(start_date).timetuple())"
   ]
  },
  {
   "cell_type": "code",
   "execution_count": 15,
   "id": "1819d5d6-0f3b-4aef-a918-6ace7ab7be9b",
   "metadata": {},
   "outputs": [
    {
     "data": {
      "text/plain": [
       "1704085200"
      ]
     },
     "execution_count": 15,
     "metadata": {},
     "output_type": "execute_result"
    }
   ],
   "source": [
    "int(time.mktime(pd.to_datetime(start_date).timetuple()))"
   ]
  },
  {
   "cell_type": "code",
   "execution_count": 16,
   "id": "a396ccd7-21a3-475d-b240-4e73ca55d668",
   "metadata": {},
   "outputs": [],
   "source": [
    "from_timestamp = int(time.mktime(pd.to_datetime(start_date).timetuple()))\n",
    "to_timestamp = int(time.mktime(pd.to_datetime(end_date).timetuple()))"
   ]
  },
  {
   "cell_type": "markdown",
   "id": "86df4ef1-c248-49ae-abd4-33fec5703c69",
   "metadata": {},
   "source": [
    "#### Get the data"
   ]
  },
  {
   "cell_type": "code",
   "execution_count": 17,
   "id": "197f82ec-9e43-49be-b609-8dee37180c2f",
   "metadata": {},
   "outputs": [
    {
     "data": {
      "text/plain": [
       "dict"
      ]
     },
     "execution_count": 17,
     "metadata": {},
     "output_type": "execute_result"
    }
   ],
   "source": [
    "data = cg.get_coin_market_chart_range_by_id(id = \"bitcoin\",\n",
    "                                            vs_currency = \"usd\",\n",
    "                                            from_timestamp = from_timestamp,\n",
    "                                            to_timestamp = to_timestamp)\n",
    "type(data)"
   ]
  },
  {
   "cell_type": "code",
   "execution_count": 18,
   "id": "9b6b1709-48d2-42a2-a908-1b2757b80c2d",
   "metadata": {},
   "outputs": [
    {
     "data": {
      "text/html": [
       "<div>\n",
       "<style scoped>\n",
       "    .dataframe tbody tr th:only-of-type {\n",
       "        vertical-align: middle;\n",
       "    }\n",
       "\n",
       "    .dataframe tbody tr th {\n",
       "        vertical-align: top;\n",
       "    }\n",
       "\n",
       "    .dataframe thead th {\n",
       "        text-align: right;\n",
       "    }\n",
       "</style>\n",
       "<table border=\"1\" class=\"dataframe\">\n",
       "  <thead>\n",
       "    <tr style=\"text-align: right;\">\n",
       "      <th></th>\n",
       "      <th>Timestamp</th>\n",
       "      <th>Price</th>\n",
       "    </tr>\n",
       "  </thead>\n",
       "  <tbody>\n",
       "    <tr>\n",
       "      <th>0</th>\n",
       "      <td>1704085264933</td>\n",
       "      <td>42349.340091</td>\n",
       "    </tr>\n",
       "    <tr>\n",
       "      <th>1</th>\n",
       "      <td>1704088850683</td>\n",
       "      <td>42245.399145</td>\n",
       "    </tr>\n",
       "    <tr>\n",
       "      <th>2</th>\n",
       "      <td>1704092451846</td>\n",
       "      <td>42417.935946</td>\n",
       "    </tr>\n",
       "    <tr>\n",
       "      <th>3</th>\n",
       "      <td>1704096005236</td>\n",
       "      <td>42471.252137</td>\n",
       "    </tr>\n",
       "    <tr>\n",
       "      <th>4</th>\n",
       "      <td>1704099653385</td>\n",
       "      <td>42517.226836</td>\n",
       "    </tr>\n",
       "  </tbody>\n",
       "</table>\n",
       "</div>"
      ],
      "text/plain": [
       "       Timestamp         Price\n",
       "0  1704085264933  42349.340091\n",
       "1  1704088850683  42245.399145\n",
       "2  1704092451846  42417.935946\n",
       "3  1704096005236  42471.252137\n",
       "4  1704099653385  42517.226836"
      ]
     },
     "execution_count": 18,
     "metadata": {},
     "output_type": "execute_result"
    }
   ],
   "source": [
    "df = pd.DataFrame(data[\"prices\"], columns = [\"Timestamp\", \"Price\"])\n",
    "\n",
    "df.head()                  "
   ]
  },
  {
   "cell_type": "code",
   "execution_count": 19,
   "id": "e55f2a71-44ca-4482-b0c9-9c34420c505a",
   "metadata": {},
   "outputs": [
    {
     "data": {
      "text/html": [
       "<div>\n",
       "<style scoped>\n",
       "    .dataframe tbody tr th:only-of-type {\n",
       "        vertical-align: middle;\n",
       "    }\n",
       "\n",
       "    .dataframe tbody tr th {\n",
       "        vertical-align: top;\n",
       "    }\n",
       "\n",
       "    .dataframe thead th {\n",
       "        text-align: right;\n",
       "    }\n",
       "</style>\n",
       "<table border=\"1\" class=\"dataframe\">\n",
       "  <thead>\n",
       "    <tr style=\"text-align: right;\">\n",
       "      <th></th>\n",
       "      <th>Timestamp</th>\n",
       "      <th>Price</th>\n",
       "      <th>Date</th>\n",
       "    </tr>\n",
       "  </thead>\n",
       "  <tbody>\n",
       "    <tr>\n",
       "      <th>738</th>\n",
       "      <td>1706745650896</td>\n",
       "      <td>42572.119544</td>\n",
       "      <td>2024-02-01 00:00:50.896</td>\n",
       "    </tr>\n",
       "    <tr>\n",
       "      <th>739</th>\n",
       "      <td>1706749265588</td>\n",
       "      <td>42451.351597</td>\n",
       "      <td>2024-02-01 01:01:05.588</td>\n",
       "    </tr>\n",
       "    <tr>\n",
       "      <th>740</th>\n",
       "      <td>1706752848843</td>\n",
       "      <td>41971.370820</td>\n",
       "      <td>2024-02-01 02:00:48.843</td>\n",
       "    </tr>\n",
       "    <tr>\n",
       "      <th>741</th>\n",
       "      <td>1706756468307</td>\n",
       "      <td>42102.189965</td>\n",
       "      <td>2024-02-01 03:01:08.307</td>\n",
       "    </tr>\n",
       "    <tr>\n",
       "      <th>742</th>\n",
       "      <td>1706760069226</td>\n",
       "      <td>41972.164605</td>\n",
       "      <td>2024-02-01 04:01:09.226</td>\n",
       "    </tr>\n",
       "  </tbody>\n",
       "</table>\n",
       "</div>"
      ],
      "text/plain": [
       "         Timestamp         Price                    Date\n",
       "738  1706745650896  42572.119544 2024-02-01 00:00:50.896\n",
       "739  1706749265588  42451.351597 2024-02-01 01:01:05.588\n",
       "740  1706752848843  41971.370820 2024-02-01 02:00:48.843\n",
       "741  1706756468307  42102.189965 2024-02-01 03:01:08.307\n",
       "742  1706760069226  41972.164605 2024-02-01 04:01:09.226"
      ]
     },
     "execution_count": 19,
     "metadata": {},
     "output_type": "execute_result"
    }
   ],
   "source": [
    "df[\"Date\"] = pd.to_datetime(df[\"Timestamp\"], unit = \"ms\")\n",
    "df.tail()"
   ]
  },
  {
   "cell_type": "code",
   "execution_count": 20,
   "id": "5dc24d59-7268-423d-ba28-fd6940abce48",
   "metadata": {},
   "outputs": [
    {
     "data": {
      "text/html": [
       "<div>\n",
       "<style scoped>\n",
       "    .dataframe tbody tr th:only-of-type {\n",
       "        vertical-align: middle;\n",
       "    }\n",
       "\n",
       "    .dataframe tbody tr th {\n",
       "        vertical-align: top;\n",
       "    }\n",
       "\n",
       "    .dataframe thead th {\n",
       "        text-align: right;\n",
       "    }\n",
       "</style>\n",
       "<table border=\"1\" class=\"dataframe\">\n",
       "  <thead>\n",
       "    <tr style=\"text-align: right;\">\n",
       "      <th></th>\n",
       "      <th>Timestamp</th>\n",
       "      <th>Price</th>\n",
       "    </tr>\n",
       "    <tr>\n",
       "      <th>Date</th>\n",
       "      <th></th>\n",
       "      <th></th>\n",
       "    </tr>\n",
       "  </thead>\n",
       "  <tbody>\n",
       "    <tr>\n",
       "      <th>2024-01-01 05:01:04.933</th>\n",
       "      <td>1704085264933</td>\n",
       "      <td>42349.340091</td>\n",
       "    </tr>\n",
       "    <tr>\n",
       "      <th>2024-01-01 06:00:50.683</th>\n",
       "      <td>1704088850683</td>\n",
       "      <td>42245.399145</td>\n",
       "    </tr>\n",
       "    <tr>\n",
       "      <th>2024-01-01 07:00:51.846</th>\n",
       "      <td>1704092451846</td>\n",
       "      <td>42417.935946</td>\n",
       "    </tr>\n",
       "    <tr>\n",
       "      <th>2024-01-01 08:00:05.236</th>\n",
       "      <td>1704096005236</td>\n",
       "      <td>42471.252137</td>\n",
       "    </tr>\n",
       "    <tr>\n",
       "      <th>2024-01-01 09:00:53.385</th>\n",
       "      <td>1704099653385</td>\n",
       "      <td>42517.226836</td>\n",
       "    </tr>\n",
       "  </tbody>\n",
       "</table>\n",
       "</div>"
      ],
      "text/plain": [
       "                             Timestamp         Price\n",
       "Date                                                \n",
       "2024-01-01 05:01:04.933  1704085264933  42349.340091\n",
       "2024-01-01 06:00:50.683  1704088850683  42245.399145\n",
       "2024-01-01 07:00:51.846  1704092451846  42417.935946\n",
       "2024-01-01 08:00:05.236  1704096005236  42471.252137\n",
       "2024-01-01 09:00:53.385  1704099653385  42517.226836"
      ]
     },
     "execution_count": 20,
     "metadata": {},
     "output_type": "execute_result"
    }
   ],
   "source": [
    "df.set_index(\"Date\", inplace=True)\n",
    "df.head()"
   ]
  },
  {
   "cell_type": "markdown",
   "id": "f06a686f-2bbe-4e62-b331-66200f6d236a",
   "metadata": {},
   "source": [
    "#### Using `resample()` to get 4-hourly data"
   ]
  },
  {
   "cell_type": "code",
   "execution_count": 21,
   "id": "9a14e879-234c-4f2a-bde9-302f0dfd0014",
   "metadata": {},
   "outputs": [
    {
     "data": {
      "text/html": [
       "<div>\n",
       "<style scoped>\n",
       "    .dataframe tbody tr th:only-of-type {\n",
       "        vertical-align: middle;\n",
       "    }\n",
       "\n",
       "    .dataframe tbody tr th {\n",
       "        vertical-align: top;\n",
       "    }\n",
       "\n",
       "    .dataframe thead th {\n",
       "        text-align: right;\n",
       "    }\n",
       "</style>\n",
       "<table border=\"1\" class=\"dataframe\">\n",
       "  <thead>\n",
       "    <tr style=\"text-align: right;\">\n",
       "      <th></th>\n",
       "      <th>Timestamp</th>\n",
       "      <th>Price</th>\n",
       "    </tr>\n",
       "    <tr>\n",
       "      <th>Date</th>\n",
       "      <th></th>\n",
       "      <th></th>\n",
       "    </tr>\n",
       "  </thead>\n",
       "  <tbody>\n",
       "    <tr>\n",
       "      <th>2024-01-01 04:00:00</th>\n",
       "      <td>1704085264933</td>\n",
       "      <td>42349.340091</td>\n",
       "    </tr>\n",
       "    <tr>\n",
       "      <th>2024-01-01 08:00:00</th>\n",
       "      <td>1704096005236</td>\n",
       "      <td>42471.252137</td>\n",
       "    </tr>\n",
       "    <tr>\n",
       "      <th>2024-01-01 12:00:00</th>\n",
       "      <td>1704110486723</td>\n",
       "      <td>42698.693073</td>\n",
       "    </tr>\n",
       "    <tr>\n",
       "      <th>2024-01-01 16:00:00</th>\n",
       "      <td>1704124845648</td>\n",
       "      <td>42799.529566</td>\n",
       "    </tr>\n",
       "    <tr>\n",
       "      <th>2024-01-01 20:00:00</th>\n",
       "      <td>1704139213477</td>\n",
       "      <td>43495.913496</td>\n",
       "    </tr>\n",
       "  </tbody>\n",
       "</table>\n",
       "</div>"
      ],
      "text/plain": [
       "                         Timestamp         Price\n",
       "Date                                            \n",
       "2024-01-01 04:00:00  1704085264933  42349.340091\n",
       "2024-01-01 08:00:00  1704096005236  42471.252137\n",
       "2024-01-01 12:00:00  1704110486723  42698.693073\n",
       "2024-01-01 16:00:00  1704124845648  42799.529566\n",
       "2024-01-01 20:00:00  1704139213477  43495.913496"
      ]
     },
     "execution_count": 21,
     "metadata": {},
     "output_type": "execute_result"
    }
   ],
   "source": [
    "df_4h = df.resample('4h').first()\n",
    "\n",
    "df_4h.head()"
   ]
  },
  {
   "cell_type": "markdown",
   "id": "747cefa0-c166-401b-b7d7-1d6a382670cb",
   "metadata": {},
   "source": [
    "### 1.3 CoinGecko Data Generator"
   ]
  },
  {
   "cell_type": "code",
   "execution_count": null,
   "id": "b2f7e05b-0a45-48a3-a8a0-a701666b1728",
   "metadata": {},
   "outputs": [],
   "source": [
    "import pandas as pd\n",
    "from pycoingecko import CoinGeckoAPI\n",
    "import time\n",
    "\n",
    "\n",
    "def generate_data_coingecko(output_path, coin_id = \"bitcoin\", vs_currency = \"usd\",\n",
    "                            start_date = \"2023-11-01\", end_date = \"2024-10-01\",\n",
    "                            intervel = \"4h\"):\n",
    "    \"\"\"\n",
    "    Fetch cryptocurrency data using the range API from CoinGeckoAPI,\n",
    "    resample to the desired interval, and save it as a CSV file.\n",
    "\n",
    "    :param output_path: Path to save the CSV file.\n",
    "    :param coin_id: CoinGecko ID of the cryptocurrency (default is Bitcoin \"bitcoin\").\n",
    "    :param vs_currency: The currency in which to get the market data (default is USD \"usd\").\n",
    "    :param start_date: The start date for the data (format 'YYYY-MM-DD').\n",
    "    :param end_date: The end date for the data (format 'YYYY-MM-DD').\n",
    "    :param interval: Desired resampling interval (e.g., '4h' for 4-hour intervals).\n",
    "    \"\"\"\n",
    "    \n",
    "    # Initialize CoinGecko API\n",
    "    cg = CoinGeckoAPI()\n",
    "\n",
    "    #Convert start and end dates to Unix timestamp\n",
    "    from_timestamp = int(time.mktime(pd.to_datetime(start_date).timetuple()))\n",
    "    to_timestamp = int(time.mktime(pd.to_datetime(end_date).timetuple()))\n",
    "\n",
    "    #Fetch data from the specific date range\n",
    "    print(f\"Fetching data for {coin_id} from {start_date} to {end_date}...\")\n",
    "    data = cg.get_coin_market_chart_range_by_id(id = coin_id, vs_currency = vs_currency,\n",
    "                                                from_timestamp = from_timestamp, to_timestamp = to_timestamp)\n",
    "\n",
    "\n",
    "    # Convert the data to a pandas Data Frame\n",
    "    df = pd.DataFrame(data[\"prices\"], columns = [\"Timestamp\", \"Price\"])\n",
    "    df[\"Date\"] = pd.to_datetime(df[\"Timestamp\"], unit = \"ms\")  # Conver Unix Timestamp to data-time value\n",
    "    df.set_index(\"Date\", inplace = True)  # Set the Date as the index for resampling\n",
    "\n",
    "    # Resample the data to desired interval\n",
    "    df_resampled = df.resample(interval).first()\n",
    "\n",
    "    # Save teh data as a CSV file to the output path\n",
    "    df_resampled.to_csv(output_path)\n",
    "    print(f\"Data has been saved to {output_path} with {interval} intervals.\")\n",
    " \n",
    "    \n",
    "\n",
    "if __name__ == \"__main__\":\n",
    "    generate_data_coingecko(\"../data/bitcoin_4h_data.csv\")\n",
    "    \n"
   ]
  },
  {
   "cell_type": "markdown",
   "id": "0a528b9f-7c99-42a4-8053-f855e1eecb08",
   "metadata": {},
   "source": [
    "## 2. CoinCap"
   ]
  },
  {
   "cell_type": "code",
   "execution_count": 40,
   "id": "9a7fca99-919e-4769-9b01-aef8b17cbac8",
   "metadata": {},
   "outputs": [],
   "source": [
    "import requests\n",
    "import pandas as pd"
   ]
  },
  {
   "cell_type": "code",
   "execution_count": 41,
   "id": "b6c53245-34b6-4e1b-b1d9-d9b560a81617",
   "metadata": {},
   "outputs": [],
   "source": [
    "url = \"https://api.coincap.io/v2/assets/ethereum/history?interval=d1\"\n",
    "response = requests.get(url)\n",
    "data = response.json()"
   ]
  },
  {
   "cell_type": "code",
   "execution_count": 42,
   "id": "8f51c17b-8a7f-4d73-95d7-76d9e4610ef2",
   "metadata": {},
   "outputs": [
    {
     "data": {
      "text/plain": [
       "dict"
      ]
     },
     "execution_count": 42,
     "metadata": {},
     "output_type": "execute_result"
    }
   ],
   "source": [
    "type(data)"
   ]
  },
  {
   "cell_type": "code",
   "execution_count": 43,
   "id": "f9fc8ace-ca37-491b-be79-2f46ee52a095",
   "metadata": {},
   "outputs": [],
   "source": [
    "df = pd.DataFrame(data['data'])\n",
    "df['date'] = pd.to_datetime(df['time'], unit='ms')\n",
    "df.set_index('date', inplace=True)\n",
    "df = df[['priceUsd']].rename(columns={'priceUsd': 'Price'})"
   ]
  },
  {
   "cell_type": "code",
   "execution_count": 44,
   "id": "b5ac6b8e-2c1f-458b-8d5a-820325bc4d22",
   "metadata": {},
   "outputs": [
    {
     "data": {
      "text/html": [
       "<div>\n",
       "<style scoped>\n",
       "    .dataframe tbody tr th:only-of-type {\n",
       "        vertical-align: middle;\n",
       "    }\n",
       "\n",
       "    .dataframe tbody tr th {\n",
       "        vertical-align: top;\n",
       "    }\n",
       "\n",
       "    .dataframe thead th {\n",
       "        text-align: right;\n",
       "    }\n",
       "</style>\n",
       "<table border=\"1\" class=\"dataframe\">\n",
       "  <thead>\n",
       "    <tr style=\"text-align: right;\">\n",
       "      <th></th>\n",
       "      <th>Price</th>\n",
       "    </tr>\n",
       "    <tr>\n",
       "      <th>date</th>\n",
       "      <th></th>\n",
       "    </tr>\n",
       "  </thead>\n",
       "  <tbody>\n",
       "    <tr>\n",
       "      <th>2023-10-28</th>\n",
       "      <td>1788.0622255959847182</td>\n",
       "    </tr>\n",
       "    <tr>\n",
       "      <th>2023-10-29</th>\n",
       "      <td>1791.8593855739585031</td>\n",
       "    </tr>\n",
       "    <tr>\n",
       "      <th>2023-10-30</th>\n",
       "      <td>1804.0195782396389757</td>\n",
       "    </tr>\n",
       "    <tr>\n",
       "      <th>2023-10-31</th>\n",
       "      <td>1804.9241300449436976</td>\n",
       "    </tr>\n",
       "    <tr>\n",
       "      <th>2023-11-01</th>\n",
       "      <td>1814.1532215049560994</td>\n",
       "    </tr>\n",
       "  </tbody>\n",
       "</table>\n",
       "</div>"
      ],
      "text/plain": [
       "                            Price\n",
       "date                             \n",
       "2023-10-28  1788.0622255959847182\n",
       "2023-10-29  1791.8593855739585031\n",
       "2023-10-30  1804.0195782396389757\n",
       "2023-10-31  1804.9241300449436976\n",
       "2023-11-01  1814.1532215049560994"
      ]
     },
     "execution_count": 44,
     "metadata": {},
     "output_type": "execute_result"
    }
   ],
   "source": [
    "df.head()"
   ]
  },
  {
   "cell_type": "code",
   "execution_count": 45,
   "id": "f3683d4e-d712-4d56-88a8-e1b1142a51a7",
   "metadata": {},
   "outputs": [
    {
     "data": {
      "text/html": [
       "<div>\n",
       "<style scoped>\n",
       "    .dataframe tbody tr th:only-of-type {\n",
       "        vertical-align: middle;\n",
       "    }\n",
       "\n",
       "    .dataframe tbody tr th {\n",
       "        vertical-align: top;\n",
       "    }\n",
       "\n",
       "    .dataframe thead th {\n",
       "        text-align: right;\n",
       "    }\n",
       "</style>\n",
       "<table border=\"1\" class=\"dataframe\">\n",
       "  <thead>\n",
       "    <tr style=\"text-align: right;\">\n",
       "      <th></th>\n",
       "      <th>Price</th>\n",
       "    </tr>\n",
       "    <tr>\n",
       "      <th>date</th>\n",
       "      <th></th>\n",
       "    </tr>\n",
       "  </thead>\n",
       "  <tbody>\n",
       "    <tr>\n",
       "      <th>2024-10-21</th>\n",
       "      <td>2702.4709225433300124</td>\n",
       "    </tr>\n",
       "    <tr>\n",
       "      <th>2024-10-22</th>\n",
       "      <td>2633.9876711020570245</td>\n",
       "    </tr>\n",
       "    <tr>\n",
       "      <th>2024-10-23</th>\n",
       "      <td>2565.1936050129203745</td>\n",
       "    </tr>\n",
       "    <tr>\n",
       "      <th>2024-10-24</th>\n",
       "      <td>2534.2717917868754643</td>\n",
       "    </tr>\n",
       "    <tr>\n",
       "      <th>2024-10-25</th>\n",
       "      <td>2509.4665188101942362</td>\n",
       "    </tr>\n",
       "  </tbody>\n",
       "</table>\n",
       "</div>"
      ],
      "text/plain": [
       "                            Price\n",
       "date                             \n",
       "2024-10-21  2702.4709225433300124\n",
       "2024-10-22  2633.9876711020570245\n",
       "2024-10-23  2565.1936050129203745\n",
       "2024-10-24  2534.2717917868754643\n",
       "2024-10-25  2509.4665188101942362"
      ]
     },
     "execution_count": 45,
     "metadata": {},
     "output_type": "execute_result"
    }
   ],
   "source": [
    "df.tail()"
   ]
  },
  {
   "cell_type": "markdown",
   "id": "0fc5bd52-52d4-4c89-bf74-7851cb1e8bae",
   "metadata": {},
   "source": [
    "## 3. Yahoo Finance"
   ]
  },
  {
   "cell_type": "code",
   "execution_count": 33,
   "id": "8491cd29-2b24-4324-8a07-d80c2f66388a",
   "metadata": {},
   "outputs": [
    {
     "name": "stderr",
     "output_type": "stream",
     "text": [
      "[*********************100%***********************]  1 of 1 completed\n"
     ]
    }
   ],
   "source": [
    "import yfinance as yf\n",
    "import pandas as pd\n",
    "\n",
    "eth_data = yf.download('ETH-USD', start='2015-01-01', interval='1d')"
   ]
  },
  {
   "cell_type": "code",
   "execution_count": 34,
   "id": "52dadf98-b2b7-4f9a-868d-cad1f3113b43",
   "metadata": {},
   "outputs": [
    {
     "data": {
      "text/html": [
       "<div>\n",
       "<style scoped>\n",
       "    .dataframe tbody tr th:only-of-type {\n",
       "        vertical-align: middle;\n",
       "    }\n",
       "\n",
       "    .dataframe tbody tr th {\n",
       "        vertical-align: top;\n",
       "    }\n",
       "\n",
       "    .dataframe thead tr th {\n",
       "        text-align: left;\n",
       "    }\n",
       "\n",
       "    .dataframe thead tr:last-of-type th {\n",
       "        text-align: right;\n",
       "    }\n",
       "</style>\n",
       "<table border=\"1\" class=\"dataframe\">\n",
       "  <thead>\n",
       "    <tr>\n",
       "      <th>Price</th>\n",
       "      <th>Adj Close</th>\n",
       "      <th>Close</th>\n",
       "      <th>High</th>\n",
       "      <th>Low</th>\n",
       "      <th>Open</th>\n",
       "      <th>Volume</th>\n",
       "    </tr>\n",
       "    <tr>\n",
       "      <th>Ticker</th>\n",
       "      <th>ETH-USD</th>\n",
       "      <th>ETH-USD</th>\n",
       "      <th>ETH-USD</th>\n",
       "      <th>ETH-USD</th>\n",
       "      <th>ETH-USD</th>\n",
       "      <th>ETH-USD</th>\n",
       "    </tr>\n",
       "    <tr>\n",
       "      <th>Date</th>\n",
       "      <th></th>\n",
       "      <th></th>\n",
       "      <th></th>\n",
       "      <th></th>\n",
       "      <th></th>\n",
       "      <th></th>\n",
       "    </tr>\n",
       "  </thead>\n",
       "  <tbody>\n",
       "    <tr>\n",
       "      <th>2017-11-09 00:00:00+00:00</th>\n",
       "      <td>320.884003</td>\n",
       "      <td>320.884003</td>\n",
       "      <td>329.451996</td>\n",
       "      <td>307.056000</td>\n",
       "      <td>308.644989</td>\n",
       "      <td>893249984</td>\n",
       "    </tr>\n",
       "    <tr>\n",
       "      <th>2017-11-10 00:00:00+00:00</th>\n",
       "      <td>299.252991</td>\n",
       "      <td>299.252991</td>\n",
       "      <td>324.717987</td>\n",
       "      <td>294.541992</td>\n",
       "      <td>320.670990</td>\n",
       "      <td>885985984</td>\n",
       "    </tr>\n",
       "    <tr>\n",
       "      <th>2017-11-11 00:00:00+00:00</th>\n",
       "      <td>314.681000</td>\n",
       "      <td>314.681000</td>\n",
       "      <td>319.453003</td>\n",
       "      <td>298.191986</td>\n",
       "      <td>298.585999</td>\n",
       "      <td>842300992</td>\n",
       "    </tr>\n",
       "    <tr>\n",
       "      <th>2017-11-12 00:00:00+00:00</th>\n",
       "      <td>307.907990</td>\n",
       "      <td>307.907990</td>\n",
       "      <td>319.153015</td>\n",
       "      <td>298.513000</td>\n",
       "      <td>314.690002</td>\n",
       "      <td>1613479936</td>\n",
       "    </tr>\n",
       "    <tr>\n",
       "      <th>2017-11-13 00:00:00+00:00</th>\n",
       "      <td>316.716003</td>\n",
       "      <td>316.716003</td>\n",
       "      <td>328.415009</td>\n",
       "      <td>307.024994</td>\n",
       "      <td>307.024994</td>\n",
       "      <td>1041889984</td>\n",
       "    </tr>\n",
       "  </tbody>\n",
       "</table>\n",
       "</div>"
      ],
      "text/plain": [
       "Price                       Adj Close       Close        High         Low  \\\n",
       "Ticker                        ETH-USD     ETH-USD     ETH-USD     ETH-USD   \n",
       "Date                                                                        \n",
       "2017-11-09 00:00:00+00:00  320.884003  320.884003  329.451996  307.056000   \n",
       "2017-11-10 00:00:00+00:00  299.252991  299.252991  324.717987  294.541992   \n",
       "2017-11-11 00:00:00+00:00  314.681000  314.681000  319.453003  298.191986   \n",
       "2017-11-12 00:00:00+00:00  307.907990  307.907990  319.153015  298.513000   \n",
       "2017-11-13 00:00:00+00:00  316.716003  316.716003  328.415009  307.024994   \n",
       "\n",
       "Price                            Open      Volume  \n",
       "Ticker                        ETH-USD     ETH-USD  \n",
       "Date                                               \n",
       "2017-11-09 00:00:00+00:00  308.644989   893249984  \n",
       "2017-11-10 00:00:00+00:00  320.670990   885985984  \n",
       "2017-11-11 00:00:00+00:00  298.585999   842300992  \n",
       "2017-11-12 00:00:00+00:00  314.690002  1613479936  \n",
       "2017-11-13 00:00:00+00:00  307.024994  1041889984  "
      ]
     },
     "execution_count": 34,
     "metadata": {},
     "output_type": "execute_result"
    }
   ],
   "source": [
    "eth_data.head()"
   ]
  },
  {
   "cell_type": "code",
   "execution_count": 35,
   "id": "d3648539-9178-4aae-9876-80fb7c6404a4",
   "metadata": {},
   "outputs": [
    {
     "data": {
      "text/html": [
       "<div>\n",
       "<style scoped>\n",
       "    .dataframe tbody tr th:only-of-type {\n",
       "        vertical-align: middle;\n",
       "    }\n",
       "\n",
       "    .dataframe tbody tr th {\n",
       "        vertical-align: top;\n",
       "    }\n",
       "\n",
       "    .dataframe thead tr th {\n",
       "        text-align: left;\n",
       "    }\n",
       "\n",
       "    .dataframe thead tr:last-of-type th {\n",
       "        text-align: right;\n",
       "    }\n",
       "</style>\n",
       "<table border=\"1\" class=\"dataframe\">\n",
       "  <thead>\n",
       "    <tr>\n",
       "      <th>Price</th>\n",
       "      <th>Adj Close</th>\n",
       "      <th>Close</th>\n",
       "      <th>High</th>\n",
       "      <th>Low</th>\n",
       "      <th>Open</th>\n",
       "      <th>Volume</th>\n",
       "    </tr>\n",
       "    <tr>\n",
       "      <th>Ticker</th>\n",
       "      <th>ETH-USD</th>\n",
       "      <th>ETH-USD</th>\n",
       "      <th>ETH-USD</th>\n",
       "      <th>ETH-USD</th>\n",
       "      <th>ETH-USD</th>\n",
       "      <th>ETH-USD</th>\n",
       "    </tr>\n",
       "    <tr>\n",
       "      <th>Date</th>\n",
       "      <th></th>\n",
       "      <th></th>\n",
       "      <th></th>\n",
       "      <th></th>\n",
       "      <th></th>\n",
       "      <th></th>\n",
       "    </tr>\n",
       "  </thead>\n",
       "  <tbody>\n",
       "    <tr>\n",
       "      <th>2024-10-21 00:00:00+00:00</th>\n",
       "      <td>2665.712158</td>\n",
       "      <td>2665.712158</td>\n",
       "      <td>2765.549561</td>\n",
       "      <td>2655.294434</td>\n",
       "      <td>2746.305664</td>\n",
       "      <td>17328615363</td>\n",
       "    </tr>\n",
       "    <tr>\n",
       "      <th>2024-10-22 00:00:00+00:00</th>\n",
       "      <td>2620.197510</td>\n",
       "      <td>2620.197510</td>\n",
       "      <td>2669.790039</td>\n",
       "      <td>2605.618652</td>\n",
       "      <td>2665.656738</td>\n",
       "      <td>15541911074</td>\n",
       "    </tr>\n",
       "    <tr>\n",
       "      <th>2024-10-23 00:00:00+00:00</th>\n",
       "      <td>2509.098877</td>\n",
       "      <td>2509.098877</td>\n",
       "      <td>2624.450439</td>\n",
       "      <td>2457.169922</td>\n",
       "      <td>2620.088623</td>\n",
       "      <td>17876984551</td>\n",
       "    </tr>\n",
       "    <tr>\n",
       "      <th>2024-10-24 00:00:00+00:00</th>\n",
       "      <td>2534.498535</td>\n",
       "      <td>2534.498535</td>\n",
       "      <td>2559.151367</td>\n",
       "      <td>2506.722900</td>\n",
       "      <td>2523.606934</td>\n",
       "      <td>16128627601</td>\n",
       "    </tr>\n",
       "    <tr>\n",
       "      <th>2024-10-26 00:00:00+00:00</th>\n",
       "      <td>2450.075439</td>\n",
       "      <td>2450.075439</td>\n",
       "      <td>2450.075439</td>\n",
       "      <td>2428.771240</td>\n",
       "      <td>2435.932861</td>\n",
       "      <td>24082782208</td>\n",
       "    </tr>\n",
       "  </tbody>\n",
       "</table>\n",
       "</div>"
      ],
      "text/plain": [
       "Price                        Adj Close        Close         High          Low  \\\n",
       "Ticker                         ETH-USD      ETH-USD      ETH-USD      ETH-USD   \n",
       "Date                                                                            \n",
       "2024-10-21 00:00:00+00:00  2665.712158  2665.712158  2765.549561  2655.294434   \n",
       "2024-10-22 00:00:00+00:00  2620.197510  2620.197510  2669.790039  2605.618652   \n",
       "2024-10-23 00:00:00+00:00  2509.098877  2509.098877  2624.450439  2457.169922   \n",
       "2024-10-24 00:00:00+00:00  2534.498535  2534.498535  2559.151367  2506.722900   \n",
       "2024-10-26 00:00:00+00:00  2450.075439  2450.075439  2450.075439  2428.771240   \n",
       "\n",
       "Price                             Open       Volume  \n",
       "Ticker                         ETH-USD      ETH-USD  \n",
       "Date                                                 \n",
       "2024-10-21 00:00:00+00:00  2746.305664  17328615363  \n",
       "2024-10-22 00:00:00+00:00  2665.656738  15541911074  \n",
       "2024-10-23 00:00:00+00:00  2620.088623  17876984551  \n",
       "2024-10-24 00:00:00+00:00  2523.606934  16128627601  \n",
       "2024-10-26 00:00:00+00:00  2435.932861  24082782208  "
      ]
     },
     "execution_count": 35,
     "metadata": {},
     "output_type": "execute_result"
    }
   ],
   "source": [
    "eth_data.tail()"
   ]
  },
  {
   "cell_type": "code",
   "execution_count": 36,
   "id": "5cb59a3a-82df-4643-98c5-859d01b88d7d",
   "metadata": {},
   "outputs": [
    {
     "data": {
      "text/plain": [
       "True"
      ]
     },
     "execution_count": 36,
     "metadata": {},
     "output_type": "execute_result"
    }
   ],
   "source": [
    "isinstance(eth_data.columns, pd.MultiIndex)"
   ]
  },
  {
   "cell_type": "code",
   "execution_count": 37,
   "id": "d325117c-726a-4764-9deb-29bc78d23966",
   "metadata": {},
   "outputs": [],
   "source": [
    "eth_data.columns = eth_data.columns.get_level_values(0)"
   ]
  },
  {
   "cell_type": "code",
   "execution_count": 38,
   "id": "cb3d9673-d7e4-4695-8dd6-c16da4e557f0",
   "metadata": {},
   "outputs": [
    {
     "data": {
      "text/html": [
       "<div>\n",
       "<style scoped>\n",
       "    .dataframe tbody tr th:only-of-type {\n",
       "        vertical-align: middle;\n",
       "    }\n",
       "\n",
       "    .dataframe tbody tr th {\n",
       "        vertical-align: top;\n",
       "    }\n",
       "\n",
       "    .dataframe thead th {\n",
       "        text-align: right;\n",
       "    }\n",
       "</style>\n",
       "<table border=\"1\" class=\"dataframe\">\n",
       "  <thead>\n",
       "    <tr style=\"text-align: right;\">\n",
       "      <th>Price</th>\n",
       "      <th>Adj Close</th>\n",
       "      <th>Close</th>\n",
       "      <th>High</th>\n",
       "      <th>Low</th>\n",
       "      <th>Open</th>\n",
       "      <th>Volume</th>\n",
       "    </tr>\n",
       "    <tr>\n",
       "      <th>Date</th>\n",
       "      <th></th>\n",
       "      <th></th>\n",
       "      <th></th>\n",
       "      <th></th>\n",
       "      <th></th>\n",
       "      <th></th>\n",
       "    </tr>\n",
       "  </thead>\n",
       "  <tbody>\n",
       "    <tr>\n",
       "      <th>2017-11-09 00:00:00+00:00</th>\n",
       "      <td>320.884003</td>\n",
       "      <td>320.884003</td>\n",
       "      <td>329.451996</td>\n",
       "      <td>307.056000</td>\n",
       "      <td>308.644989</td>\n",
       "      <td>893249984</td>\n",
       "    </tr>\n",
       "    <tr>\n",
       "      <th>2017-11-10 00:00:00+00:00</th>\n",
       "      <td>299.252991</td>\n",
       "      <td>299.252991</td>\n",
       "      <td>324.717987</td>\n",
       "      <td>294.541992</td>\n",
       "      <td>320.670990</td>\n",
       "      <td>885985984</td>\n",
       "    </tr>\n",
       "    <tr>\n",
       "      <th>2017-11-11 00:00:00+00:00</th>\n",
       "      <td>314.681000</td>\n",
       "      <td>314.681000</td>\n",
       "      <td>319.453003</td>\n",
       "      <td>298.191986</td>\n",
       "      <td>298.585999</td>\n",
       "      <td>842300992</td>\n",
       "    </tr>\n",
       "    <tr>\n",
       "      <th>2017-11-12 00:00:00+00:00</th>\n",
       "      <td>307.907990</td>\n",
       "      <td>307.907990</td>\n",
       "      <td>319.153015</td>\n",
       "      <td>298.513000</td>\n",
       "      <td>314.690002</td>\n",
       "      <td>1613479936</td>\n",
       "    </tr>\n",
       "    <tr>\n",
       "      <th>2017-11-13 00:00:00+00:00</th>\n",
       "      <td>316.716003</td>\n",
       "      <td>316.716003</td>\n",
       "      <td>328.415009</td>\n",
       "      <td>307.024994</td>\n",
       "      <td>307.024994</td>\n",
       "      <td>1041889984</td>\n",
       "    </tr>\n",
       "  </tbody>\n",
       "</table>\n",
       "</div>"
      ],
      "text/plain": [
       "Price                       Adj Close       Close        High         Low  \\\n",
       "Date                                                                        \n",
       "2017-11-09 00:00:00+00:00  320.884003  320.884003  329.451996  307.056000   \n",
       "2017-11-10 00:00:00+00:00  299.252991  299.252991  324.717987  294.541992   \n",
       "2017-11-11 00:00:00+00:00  314.681000  314.681000  319.453003  298.191986   \n",
       "2017-11-12 00:00:00+00:00  307.907990  307.907990  319.153015  298.513000   \n",
       "2017-11-13 00:00:00+00:00  316.716003  316.716003  328.415009  307.024994   \n",
       "\n",
       "Price                            Open      Volume  \n",
       "Date                                               \n",
       "2017-11-09 00:00:00+00:00  308.644989   893249984  \n",
       "2017-11-10 00:00:00+00:00  320.670990   885985984  \n",
       "2017-11-11 00:00:00+00:00  298.585999   842300992  \n",
       "2017-11-12 00:00:00+00:00  314.690002  1613479936  \n",
       "2017-11-13 00:00:00+00:00  307.024994  1041889984  "
      ]
     },
     "execution_count": 38,
     "metadata": {},
     "output_type": "execute_result"
    }
   ],
   "source": [
    "eth_data.head()"
   ]
  },
  {
   "cell_type": "code",
   "execution_count": 39,
   "id": "82a1ebb4-8ba4-4b53-8373-e2655cf46411",
   "metadata": {},
   "outputs": [
    {
     "data": {
      "text/plain": [
       "Index(['Adj Close', 'Close', 'High', 'Low', 'Open', 'Volume'], dtype='object', name='Price')"
      ]
     },
     "execution_count": 39,
     "metadata": {},
     "output_type": "execute_result"
    }
   ],
   "source": [
    "eth_data.columns"
   ]
  },
  {
   "cell_type": "code",
   "execution_count": null,
   "id": "78e57631-7295-4c1a-b06b-fe0d2caf63b3",
   "metadata": {},
   "outputs": [],
   "source": []
  }
 ],
 "metadata": {
  "kernelspec": {
   "display_name": "Python 3 (ipykernel)",
   "language": "python",
   "name": "python3"
  },
  "language_info": {
   "codemirror_mode": {
    "name": "ipython",
    "version": 3
   },
   "file_extension": ".py",
   "mimetype": "text/x-python",
   "name": "python",
   "nbconvert_exporter": "python",
   "pygments_lexer": "ipython3",
   "version": "3.11.10"
  }
 },
 "nbformat": 4,
 "nbformat_minor": 5
}
