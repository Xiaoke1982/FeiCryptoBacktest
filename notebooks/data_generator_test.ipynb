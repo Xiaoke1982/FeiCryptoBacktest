{
 "cells": [
  {
   "cell_type": "code",
   "execution_count": 1,
   "id": "64edae18-5675-4379-b076-c6c0d1b88e3d",
   "metadata": {},
   "outputs": [],
   "source": [
    "from pycoingecko import CoinGeckoAPI\n",
    "import pandas as pd\n",
    "import time"
   ]
  },
  {
   "cell_type": "code",
   "execution_count": 3,
   "id": "00344683-874f-4c4d-9e18-9953a7d6078c",
   "metadata": {},
   "outputs": [],
   "source": [
    "cg = CoinGeckoAPI()"
   ]
  },
  {
   "cell_type": "code",
   "execution_count": 15,
   "id": "b5666aa7-9714-4bc3-ad97-9339d4ec5888",
   "metadata": {},
   "outputs": [],
   "source": [
    "data = cg.get_coin_market_chart_by_id(id = \"bitcoin\",\n",
    "                                      vs_currency = \"usd\",\n",
    "                                      days = \"7\",\n",
    "                                      interval = \"daily\")\n",
    "\n",
    "###\n",
    "# :param id:          default is Bitcoin \"bitcoin\"\n",
    "# :param vs_currency: default is USD \"usd\"\n",
    "# :param days:        the range of days to retireve data for \"1\", \"30\", \"max\", etc.\n",
    "# :param interval:    the data interval \"minutely\", \"hourly\", \"daily\"\n",
    "###"
   ]
  },
  {
   "cell_type": "code",
   "execution_count": 16,
   "id": "c6d18ee2-3cc8-4bb5-be79-21b3db001861",
   "metadata": {},
   "outputs": [
    {
     "data": {
      "text/plain": [
       "{'prices': [[1729209600000, 67328.10527002988],\n",
       "  [1729296000000, 68465.61920668735],\n",
       "  [1729382400000, 68388.87128965274],\n",
       "  [1729468800000, 68962.82918045693],\n",
       "  [1729555200000, 67394.85775735618],\n",
       "  [1729641600000, 67351.04793512498],\n",
       "  [1729728000000, 66683.96806542306],\n",
       "  [1729781464000, 67819.14878213985]],\n",
       " 'market_caps': [[1729209600000, 1330387728623.8188],\n",
       "  [1729296000000, 1353541799303.4875],\n",
       "  [1729382400000, 1351942347611.1997],\n",
       "  [1729468800000, 1362381684459.9053],\n",
       "  [1729555200000, 1332326858574.4448],\n",
       "  [1729641600000, 1331426858508.4004],\n",
       "  [1729728000000, 1318285437546.2786],\n",
       "  [1729781464000, 1340068345687.7898]],\n",
       " 'total_volumes': [[1729209600000, 34512072357.92087],\n",
       "  [1729296000000, 39984956633.228035],\n",
       "  [1729382400000, 14110889435.452631],\n",
       "  [1729468800000, 17253863432.786995],\n",
       "  [1729555200000, 40485496091.95008],\n",
       "  [1729641600000, 31398389967.38113],\n",
       "  [1729728000000, 32676918488.059],\n",
       "  [1729781464000, 37600668582.80364]]}"
      ]
     },
     "execution_count": 16,
     "metadata": {},
     "output_type": "execute_result"
    }
   ],
   "source": [
    "data"
   ]
  },
  {
   "cell_type": "code",
   "execution_count": 12,
   "id": "d1fffc30-1c19-4097-bd86-2e6e38cfd138",
   "metadata": {},
   "outputs": [
    {
     "data": {
      "text/plain": [
       "dict"
      ]
     },
     "execution_count": 12,
     "metadata": {},
     "output_type": "execute_result"
    }
   ],
   "source": [
    "type(data)"
   ]
  },
  {
   "cell_type": "code",
   "execution_count": 6,
   "id": "0856e5b1-2159-4d43-944b-9de33a4fe143",
   "metadata": {},
   "outputs": [
    {
     "data": {
      "text/plain": [
       "[[1729209600000, 67328.10527002988],\n",
       " [1729296000000, 68465.61920668735],\n",
       " [1729382400000, 68388.87128965274],\n",
       " [1729468800000, 68962.82918045693],\n",
       " [1729555200000, 67394.85775735618],\n",
       " [1729641600000, 67351.04793512498],\n",
       " [1729728000000, 66683.96806542306],\n",
       " [1729775867000, 67640.53151807871]]"
      ]
     },
     "execution_count": 6,
     "metadata": {},
     "output_type": "execute_result"
    }
   ],
   "source": [
    "data[\"prices\"]"
   ]
  },
  {
   "cell_type": "code",
   "execution_count": 7,
   "id": "c8a70d8c-737e-435e-9604-3e58b3741397",
   "metadata": {},
   "outputs": [
    {
     "data": {
      "text/html": [
       "<div>\n",
       "<style scoped>\n",
       "    .dataframe tbody tr th:only-of-type {\n",
       "        vertical-align: middle;\n",
       "    }\n",
       "\n",
       "    .dataframe tbody tr th {\n",
       "        vertical-align: top;\n",
       "    }\n",
       "\n",
       "    .dataframe thead th {\n",
       "        text-align: right;\n",
       "    }\n",
       "</style>\n",
       "<table border=\"1\" class=\"dataframe\">\n",
       "  <thead>\n",
       "    <tr style=\"text-align: right;\">\n",
       "      <th></th>\n",
       "      <th>Timestamp</th>\n",
       "      <th>Price</th>\n",
       "    </tr>\n",
       "  </thead>\n",
       "  <tbody>\n",
       "    <tr>\n",
       "      <th>0</th>\n",
       "      <td>1729209600000</td>\n",
       "      <td>67328.105270</td>\n",
       "    </tr>\n",
       "    <tr>\n",
       "      <th>1</th>\n",
       "      <td>1729296000000</td>\n",
       "      <td>68465.619207</td>\n",
       "    </tr>\n",
       "    <tr>\n",
       "      <th>2</th>\n",
       "      <td>1729382400000</td>\n",
       "      <td>68388.871290</td>\n",
       "    </tr>\n",
       "    <tr>\n",
       "      <th>3</th>\n",
       "      <td>1729468800000</td>\n",
       "      <td>68962.829180</td>\n",
       "    </tr>\n",
       "    <tr>\n",
       "      <th>4</th>\n",
       "      <td>1729555200000</td>\n",
       "      <td>67394.857757</td>\n",
       "    </tr>\n",
       "  </tbody>\n",
       "</table>\n",
       "</div>"
      ],
      "text/plain": [
       "       Timestamp         Price\n",
       "0  1729209600000  67328.105270\n",
       "1  1729296000000  68465.619207\n",
       "2  1729382400000  68388.871290\n",
       "3  1729468800000  68962.829180\n",
       "4  1729555200000  67394.857757"
      ]
     },
     "execution_count": 7,
     "metadata": {},
     "output_type": "execute_result"
    }
   ],
   "source": [
    "df = pd.DataFrame(data[\"prices\"], columns = [\"Timestamp\", \"Price\"])\n",
    "df.head()"
   ]
  },
  {
   "cell_type": "code",
   "execution_count": 8,
   "id": "fc5a9cd8-40e5-4b5b-946c-ff61d7d1ee74",
   "metadata": {},
   "outputs": [],
   "source": [
    "df[\"Date\"] = pd.to_datetime(df[\"Timestamp\"], unit=\"ms\")"
   ]
  },
  {
   "cell_type": "code",
   "execution_count": 9,
   "id": "3aff3fd6-12ff-431a-bb69-84024a3e1631",
   "metadata": {},
   "outputs": [
    {
     "data": {
      "text/html": [
       "<div>\n",
       "<style scoped>\n",
       "    .dataframe tbody tr th:only-of-type {\n",
       "        vertical-align: middle;\n",
       "    }\n",
       "\n",
       "    .dataframe tbody tr th {\n",
       "        vertical-align: top;\n",
       "    }\n",
       "\n",
       "    .dataframe thead th {\n",
       "        text-align: right;\n",
       "    }\n",
       "</style>\n",
       "<table border=\"1\" class=\"dataframe\">\n",
       "  <thead>\n",
       "    <tr style=\"text-align: right;\">\n",
       "      <th></th>\n",
       "      <th>Timestamp</th>\n",
       "      <th>Price</th>\n",
       "      <th>Date</th>\n",
       "    </tr>\n",
       "  </thead>\n",
       "  <tbody>\n",
       "    <tr>\n",
       "      <th>0</th>\n",
       "      <td>1729209600000</td>\n",
       "      <td>67328.105270</td>\n",
       "      <td>2024-10-18</td>\n",
       "    </tr>\n",
       "    <tr>\n",
       "      <th>1</th>\n",
       "      <td>1729296000000</td>\n",
       "      <td>68465.619207</td>\n",
       "      <td>2024-10-19</td>\n",
       "    </tr>\n",
       "    <tr>\n",
       "      <th>2</th>\n",
       "      <td>1729382400000</td>\n",
       "      <td>68388.871290</td>\n",
       "      <td>2024-10-20</td>\n",
       "    </tr>\n",
       "    <tr>\n",
       "      <th>3</th>\n",
       "      <td>1729468800000</td>\n",
       "      <td>68962.829180</td>\n",
       "      <td>2024-10-21</td>\n",
       "    </tr>\n",
       "    <tr>\n",
       "      <th>4</th>\n",
       "      <td>1729555200000</td>\n",
       "      <td>67394.857757</td>\n",
       "      <td>2024-10-22</td>\n",
       "    </tr>\n",
       "  </tbody>\n",
       "</table>\n",
       "</div>"
      ],
      "text/plain": [
       "       Timestamp         Price       Date\n",
       "0  1729209600000  67328.105270 2024-10-18\n",
       "1  1729296000000  68465.619207 2024-10-19\n",
       "2  1729382400000  68388.871290 2024-10-20\n",
       "3  1729468800000  68962.829180 2024-10-21\n",
       "4  1729555200000  67394.857757 2024-10-22"
      ]
     },
     "execution_count": 9,
     "metadata": {},
     "output_type": "execute_result"
    }
   ],
   "source": [
    "df.head()"
   ]
  },
  {
   "cell_type": "code",
   "execution_count": 10,
   "id": "94eef3d4-3725-4ae7-aa62-d79f2176d18d",
   "metadata": {},
   "outputs": [
    {
     "data": {
      "text/html": [
       "<div>\n",
       "<style scoped>\n",
       "    .dataframe tbody tr th:only-of-type {\n",
       "        vertical-align: middle;\n",
       "    }\n",
       "\n",
       "    .dataframe tbody tr th {\n",
       "        vertical-align: top;\n",
       "    }\n",
       "\n",
       "    .dataframe thead th {\n",
       "        text-align: right;\n",
       "    }\n",
       "</style>\n",
       "<table border=\"1\" class=\"dataframe\">\n",
       "  <thead>\n",
       "    <tr style=\"text-align: right;\">\n",
       "      <th></th>\n",
       "      <th>Timestamp</th>\n",
       "      <th>Price</th>\n",
       "    </tr>\n",
       "    <tr>\n",
       "      <th>Date</th>\n",
       "      <th></th>\n",
       "      <th></th>\n",
       "    </tr>\n",
       "  </thead>\n",
       "  <tbody>\n",
       "    <tr>\n",
       "      <th>2024-10-18</th>\n",
       "      <td>1729209600000</td>\n",
       "      <td>67328.105270</td>\n",
       "    </tr>\n",
       "    <tr>\n",
       "      <th>2024-10-19</th>\n",
       "      <td>1729296000000</td>\n",
       "      <td>68465.619207</td>\n",
       "    </tr>\n",
       "    <tr>\n",
       "      <th>2024-10-20</th>\n",
       "      <td>1729382400000</td>\n",
       "      <td>68388.871290</td>\n",
       "    </tr>\n",
       "    <tr>\n",
       "      <th>2024-10-21</th>\n",
       "      <td>1729468800000</td>\n",
       "      <td>68962.829180</td>\n",
       "    </tr>\n",
       "    <tr>\n",
       "      <th>2024-10-22</th>\n",
       "      <td>1729555200000</td>\n",
       "      <td>67394.857757</td>\n",
       "    </tr>\n",
       "  </tbody>\n",
       "</table>\n",
       "</div>"
      ],
      "text/plain": [
       "                Timestamp         Price\n",
       "Date                                   \n",
       "2024-10-18  1729209600000  67328.105270\n",
       "2024-10-19  1729296000000  68465.619207\n",
       "2024-10-20  1729382400000  68388.871290\n",
       "2024-10-21  1729468800000  68962.829180\n",
       "2024-10-22  1729555200000  67394.857757"
      ]
     },
     "execution_count": 10,
     "metadata": {},
     "output_type": "execute_result"
    }
   ],
   "source": [
    "df.set_index(\"Date\", inplace = True)\n",
    "df.head()"
   ]
  },
  {
   "cell_type": "code",
   "execution_count": 11,
   "id": "5d3cd899-62a2-45b9-b250-117a39c0428e",
   "metadata": {},
   "outputs": [
    {
     "data": {
      "text/html": [
       "<div>\n",
       "<style scoped>\n",
       "    .dataframe tbody tr th:only-of-type {\n",
       "        vertical-align: middle;\n",
       "    }\n",
       "\n",
       "    .dataframe tbody tr th {\n",
       "        vertical-align: top;\n",
       "    }\n",
       "\n",
       "    .dataframe thead th {\n",
       "        text-align: right;\n",
       "    }\n",
       "</style>\n",
       "<table border=\"1\" class=\"dataframe\">\n",
       "  <thead>\n",
       "    <tr style=\"text-align: right;\">\n",
       "      <th></th>\n",
       "      <th>Timestamp</th>\n",
       "      <th>Price</th>\n",
       "    </tr>\n",
       "    <tr>\n",
       "      <th>Date</th>\n",
       "      <th></th>\n",
       "      <th></th>\n",
       "    </tr>\n",
       "  </thead>\n",
       "  <tbody>\n",
       "    <tr>\n",
       "      <th>2024-10-18 00:00:00</th>\n",
       "      <td>1729209600000</td>\n",
       "      <td>67328.105270</td>\n",
       "    </tr>\n",
       "    <tr>\n",
       "      <th>2024-10-19 00:00:00</th>\n",
       "      <td>1729296000000</td>\n",
       "      <td>68465.619207</td>\n",
       "    </tr>\n",
       "    <tr>\n",
       "      <th>2024-10-20 00:00:00</th>\n",
       "      <td>1729382400000</td>\n",
       "      <td>68388.871290</td>\n",
       "    </tr>\n",
       "    <tr>\n",
       "      <th>2024-10-21 00:00:00</th>\n",
       "      <td>1729468800000</td>\n",
       "      <td>68962.829180</td>\n",
       "    </tr>\n",
       "    <tr>\n",
       "      <th>2024-10-22 00:00:00</th>\n",
       "      <td>1729555200000</td>\n",
       "      <td>67394.857757</td>\n",
       "    </tr>\n",
       "    <tr>\n",
       "      <th>2024-10-23 00:00:00</th>\n",
       "      <td>1729641600000</td>\n",
       "      <td>67351.047935</td>\n",
       "    </tr>\n",
       "    <tr>\n",
       "      <th>2024-10-24 00:00:00</th>\n",
       "      <td>1729728000000</td>\n",
       "      <td>66683.968065</td>\n",
       "    </tr>\n",
       "    <tr>\n",
       "      <th>2024-10-24 13:17:47</th>\n",
       "      <td>1729775867000</td>\n",
       "      <td>67640.531518</td>\n",
       "    </tr>\n",
       "  </tbody>\n",
       "</table>\n",
       "</div>"
      ],
      "text/plain": [
       "                         Timestamp         Price\n",
       "Date                                            \n",
       "2024-10-18 00:00:00  1729209600000  67328.105270\n",
       "2024-10-19 00:00:00  1729296000000  68465.619207\n",
       "2024-10-20 00:00:00  1729382400000  68388.871290\n",
       "2024-10-21 00:00:00  1729468800000  68962.829180\n",
       "2024-10-22 00:00:00  1729555200000  67394.857757\n",
       "2024-10-23 00:00:00  1729641600000  67351.047935\n",
       "2024-10-24 00:00:00  1729728000000  66683.968065\n",
       "2024-10-24 13:17:47  1729775867000  67640.531518"
      ]
     },
     "execution_count": 11,
     "metadata": {},
     "output_type": "execute_result"
    }
   ],
   "source": [
    "df"
   ]
  },
  {
   "cell_type": "code",
   "execution_count": null,
   "id": "efdf1830-2275-45ac-8ab8-6c653e0d034a",
   "metadata": {},
   "outputs": [],
   "source": []
  }
 ],
 "metadata": {
  "kernelspec": {
   "display_name": "Python 3 (ipykernel)",
   "language": "python",
   "name": "python3"
  },
  "language_info": {
   "codemirror_mode": {
    "name": "ipython",
    "version": 3
   },
   "file_extension": ".py",
   "mimetype": "text/x-python",
   "name": "python",
   "nbconvert_exporter": "python",
   "pygments_lexer": "ipython3",
   "version": "3.11.10"
  }
 },
 "nbformat": 4,
 "nbformat_minor": 5
}
